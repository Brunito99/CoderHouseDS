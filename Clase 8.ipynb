{
 "cells": [
  {
   "cell_type": "markdown",
   "id": "b8c4fffc",
   "metadata": {},
   "source": [
    "# Visualizaciones en Python (Parte II)"
   ]
  },
  {
   "cell_type": "markdown",
   "id": "e4bde15b",
   "metadata": {},
   "source": [
    "### OBJETIVOS DE LA CLASE\n",
    "\n",
    "* Aprender a graficar datos en Python.\n",
    "* Entender el uso básico de las librerías más utilizadas: Matplotlib y Seaborn.\n"
   ]
  },
  {
   "cell_type": "code",
   "execution_count": 52,
   "id": "e13c51de",
   "metadata": {},
   "outputs": [],
   "source": [
    "import matplotlib as mpl\n",
    "import matplotlib.pyplot as plt #conda install -c conda-forge matplotlib\n",
    "import seaborn as sns #conda install -c anaconda seaborn\n",
    "import pandas as pd #conda install -c anaconda pandas "
   ]
  },
  {
   "cell_type": "code",
   "execution_count": 53,
   "id": "f5f95b60",
   "metadata": {},
   "outputs": [],
   "source": [
    "#Estilos existentes:\n",
    "#https://matplotlib.org/3.5.1/gallery/style_sheets/style_sheets_reference.html\n",
    "mpl.style.use('bmh')"
   ]
  },
  {
   "cell_type": "code",
   "execution_count": 54,
   "id": "58025b7c",
   "metadata": {},
   "outputs": [
    {
     "data": {
      "text/html": [
       "<div>\n",
       "<style scoped>\n",
       "    .dataframe tbody tr th:only-of-type {\n",
       "        vertical-align: middle;\n",
       "    }\n",
       "\n",
       "    .dataframe tbody tr th {\n",
       "        vertical-align: top;\n",
       "    }\n",
       "\n",
       "    .dataframe thead th {\n",
       "        text-align: right;\n",
       "    }\n",
       "</style>\n",
       "<table border=\"1\" class=\"dataframe\">\n",
       "  <thead>\n",
       "    <tr style=\"text-align: right;\">\n",
       "      <th></th>\n",
       "      <th>Year</th>\n",
       "      <th>Jan</th>\n",
       "      <th>Feb</th>\n",
       "      <th>Mar</th>\n",
       "      <th>Apr</th>\n",
       "      <th>May</th>\n",
       "      <th>Jun</th>\n",
       "      <th>Jul</th>\n",
       "      <th>Aug</th>\n",
       "      <th>Sep</th>\n",
       "      <th>Oct</th>\n",
       "      <th>Nov</th>\n",
       "      <th>Dec</th>\n",
       "    </tr>\n",
       "  </thead>\n",
       "  <tbody>\n",
       "    <tr>\n",
       "      <th>0</th>\n",
       "      <td>1965</td>\n",
       "      <td>0.029</td>\n",
       "      <td>0.069</td>\n",
       "      <td>0.000</td>\n",
       "      <td>21.667</td>\n",
       "      <td>17.859</td>\n",
       "      <td>102.111</td>\n",
       "      <td>606.071</td>\n",
       "      <td>402.521</td>\n",
       "      <td>69.511</td>\n",
       "      <td>5.249</td>\n",
       "      <td>16.232</td>\n",
       "      <td>22.075</td>\n",
       "    </tr>\n",
       "    <tr>\n",
       "      <th>1</th>\n",
       "      <td>1966</td>\n",
       "      <td>0.905</td>\n",
       "      <td>0.000</td>\n",
       "      <td>0.000</td>\n",
       "      <td>2.981</td>\n",
       "      <td>63.008</td>\n",
       "      <td>94.088</td>\n",
       "      <td>481.942</td>\n",
       "      <td>59.386</td>\n",
       "      <td>150.624</td>\n",
       "      <td>1.308</td>\n",
       "      <td>41.214</td>\n",
       "      <td>4.132</td>\n",
       "    </tr>\n",
       "    <tr>\n",
       "      <th>2</th>\n",
       "      <td>1967</td>\n",
       "      <td>0.248</td>\n",
       "      <td>3.390</td>\n",
       "      <td>1.320</td>\n",
       "      <td>13.482</td>\n",
       "      <td>11.116</td>\n",
       "      <td>251.314</td>\n",
       "      <td>780.006</td>\n",
       "      <td>181.069</td>\n",
       "      <td>183.757</td>\n",
       "      <td>50.404</td>\n",
       "      <td>8.393</td>\n",
       "      <td>37.685</td>\n",
       "    </tr>\n",
       "    <tr>\n",
       "      <th>3</th>\n",
       "      <td>1968</td>\n",
       "      <td>0.318</td>\n",
       "      <td>3.035</td>\n",
       "      <td>1.704</td>\n",
       "      <td>23.307</td>\n",
       "      <td>7.441</td>\n",
       "      <td>179.872</td>\n",
       "      <td>379.354</td>\n",
       "      <td>171.979</td>\n",
       "      <td>219.884</td>\n",
       "      <td>73.997</td>\n",
       "      <td>23.326</td>\n",
       "      <td>2.020</td>\n",
       "    </tr>\n",
       "    <tr>\n",
       "      <th>4</th>\n",
       "      <td>1969</td>\n",
       "      <td>0.248</td>\n",
       "      <td>2.524</td>\n",
       "      <td>0.334</td>\n",
       "      <td>4.569</td>\n",
       "      <td>6.213</td>\n",
       "      <td>393.682</td>\n",
       "      <td>678.354</td>\n",
       "      <td>397.335</td>\n",
       "      <td>205.413</td>\n",
       "      <td>24.014</td>\n",
       "      <td>24.385</td>\n",
       "      <td>1.951</td>\n",
       "    </tr>\n",
       "  </tbody>\n",
       "</table>\n",
       "</div>"
      ],
      "text/plain": [
       "   Year    Jan    Feb    Mar     Apr     May      Jun      Jul      Aug  \\\n",
       "0  1965  0.029  0.069  0.000  21.667  17.859  102.111  606.071  402.521   \n",
       "1  1966  0.905  0.000  0.000   2.981  63.008   94.088  481.942   59.386   \n",
       "2  1967  0.248  3.390  1.320  13.482  11.116  251.314  780.006  181.069   \n",
       "3  1968  0.318  3.035  1.704  23.307   7.441  179.872  379.354  171.979   \n",
       "4  1969  0.248  2.524  0.334   4.569   6.213  393.682  678.354  397.335   \n",
       "\n",
       "       Sep     Oct     Nov     Dec  \n",
       "0   69.511   5.249  16.232  22.075  \n",
       "1  150.624   1.308  41.214   4.132  \n",
       "2  183.757  50.404   8.393  37.685  \n",
       "3  219.884  73.997  23.326   2.020  \n",
       "4  205.413  24.014  24.385   1.951  "
      ]
     },
     "execution_count": 54,
     "metadata": {},
     "output_type": "execute_result"
    }
   ],
   "source": [
    "df_lluvias = pd.read_csv(r'~\\Downloads\\archive/pune_1965_to_2002.csv')\n",
    "df_lluvias.head()"
   ]
  },
  {
   "cell_type": "markdown",
   "id": "6dba26c3",
   "metadata": {},
   "source": [
    "### Subgráficos\n"
   ]
  },
  {
   "cell_type": "code",
   "execution_count": 55,
   "id": "6128357a",
   "metadata": {},
   "outputs": [
    {
     "data": {
      "image/png": "[encoded data removed]",
      "text/plain": [
       "<Figure size 864x360 with 3 Axes>"
      ]
     },
     "metadata": {
      "needs_background": "light"
     },
     "output_type": "display_data"
    }
   ],
   "source": [
    "fig, ax = plt.subplots(nrows=3, ncols=1, figsize=(12, 5), sharex=True, sharey=True) \n",
    "#Como los años son los mismos para todos los gráficos, ponemos el parámetro sharex y sharey en True"
   ]
  },
  {
   "cell_type": "code",
   "execution_count": 56,
   "id": "184140e3",
   "metadata": {},
   "outputs": [
    {
     "data": {
      "text/plain": [
       "[<matplotlib.lines.Line2D at 0x1f1b623c130>]"
      ]
     },
     "execution_count": 56,
     "metadata": {},
     "output_type": "execute_result"
    }
   ],
   "source": [
    "#A cada fila, le asignamos las precipitaciones de un mes\n",
    "ax[0].plot(df_lluvias.index, df_lluvias['Jan'], label='Precipitaciones de enero')\n",
    "ax[1].plot(df_lluvias.index, df_lluvias['Feb'], label='Precipitaciones de febrero', color='C1')\n",
    "ax[2].plot(df_lluvias.index, df_lluvias['Mar'], label='Precipitaciones de marzo', color='C2')"
   ]
  },
  {
   "cell_type": "code",
   "execution_count": 57,
   "id": "6ab423ef",
   "metadata": {},
   "outputs": [
    {
     "data": {
      "text/plain": [
       "<matplotlib.legend.Legend at 0x1f1b626bc10>"
      ]
     },
     "execution_count": 57,
     "metadata": {},
     "output_type": "execute_result"
    }
   ],
   "source": [
    "#Por último, añadimos texto y leyendas\n",
    "ax[0].set_title('Precipitaciones de los primeros tres meses del año') \n",
    "ax[2].set_xlabel('Año')  \n",
    "ax[1].set_ylabel('Precipitación (mm.)')\n",
    "\n",
    "ax[0].legend()  \n",
    "ax[1].legend()\n",
    "ax[2].legend()  "
   ]
  },
  {
   "cell_type": "code",
   "execution_count": 58,
   "id": "1c588739",
   "metadata": {},
   "outputs": [
    {
     "data": {
      "image/png": "[encoded data removed]",
      "text/plain": [
       "<Figure size 864x360 with 3 Axes>"
      ]
     },
     "execution_count": 58,
     "metadata": {},
     "output_type": "execute_result"
    }
   ],
   "source": [
    "fig"
   ]
  },
  {
   "cell_type": "markdown",
   "id": "29e26164",
   "metadata": {},
   "source": [
    "Al pasar sharey=True, los subgráficos comparten la escala en el eje y. Esto permitió comparar a simple vista el volumen <br>\n",
    "de precipitaciones.<br>\n",
    "* Cada subgráfico puede tener su propio título y etiquetas.<br>\n",
    "* En caso de tener dos filas y dos columnas, ax se torna bidimensional:<br>\n",
    "    * El subgráfico superior izquierdo se referencia con ax[0,0]<br>\n",
    "    * El subgráfico superior derecho se referencia con ax[0,1]<br>"
   ]
  },
  {
   "cell_type": "markdown",
   "id": "88210d9a",
   "metadata": {},
   "source": [
    "### Personalizando Matplotlib"
   ]
  },
  {
   "cell_type": "markdown",
   "id": "f76b71b9",
   "metadata": {},
   "source": [
    "* Matplotlib permite modificar cada aspecto de sus gráficos por medio de parámetros.<br>\n",
    "* Al importar la librería, Matplotlib establece establece sus parámetros por defecto.<br>\n",
    "* Los parámetros se guardan en una estructura de datos de tipo dict. Se puede obtener una lista de los parámetros <br>\n",
    "consultando sus claves.<br>"
   ]
  },
  {
   "cell_type": "code",
   "execution_count": null,
   "id": "a2e136e7",
   "metadata": {},
   "outputs": [],
   "source": [
    "mpl.rcParams.keys()"
   ]
  },
  {
   "cell_type": "markdown",
   "id": "8ea8d5ad",
   "metadata": {},
   "source": [
    "#### Algunos ejemplos:"
   ]
  },
  {
   "cell_type": "markdown",
   "id": "2a07f7fd",
   "metadata": {},
   "source": [
    "|      Parámetro     | Descripción              | Valor por defecto |   |   |\n",
    "|:------------------:|--------------------------|:-----------------:|---|---|\n",
    "| axes.grid          | Mostrar grilla           | True              |   |   |\n",
    "| axes.titleweight   | Grosor tipografía título | \"normal\"          |   |   |\n",
    "| axes.titlelocation | Posición del título      | \"center\"          |   |   |"
   ]
  },
  {
   "cell_type": "code",
   "execution_count": null,
   "id": "825db9cc",
   "metadata": {},
   "outputs": [],
   "source": [
    "mpl.rcParams['axes.titleweight'] = 'bold' \n",
    "mpl.rcParams['axes.titlelocation'] = 'left' \n",
    "mpl.rcParams['axes.titlecolor'] = 'firebrick' \n",
    "mpl.rcParams['axes.labelcolor'] = 'blue' \n",
    "mpl.rcParams['axes.labelsize'] = '10' \n",
    "mpl.rcParams['axes.labelweight'] = 'light' \n",
    "mpl.rcParams['axes.linewidth'] = '1' \n",
    "mpl.rcParams['grid.color'] = 'black' \n",
    "mpl.rcParams['grid.linestyle'] = '-.' \n",
    "mpl.rcParams['grid.linewidth'] = '2' "
   ]
  },
  {
   "cell_type": "code",
   "execution_count": null,
   "id": "56bb3172",
   "metadata": {},
   "outputs": [],
   "source": [
    "fig, ax = plt.subplots(figsize=(7, 4))  \n",
    "ax.scatter(df_lluvias['Aug'], df_lluvias['Sep'], c=df_lluvias.index)\n",
    "ax.set_title('(Título rojo en negrita)')\n",
    "ax.set_xlabel('(Etiqueta eje horiz.)')\n",
    "ax.set_ylabel('(Etiqueta eje vert.)')"
   ]
  },
  {
   "cell_type": "code",
   "execution_count": null,
   "id": "0505cd01",
   "metadata": {},
   "outputs": [],
   "source": [
    "mpl.rcParams.update(mpl.rcParamsDefault)"
   ]
  },
  {
   "cell_type": "markdown",
   "id": "435c4a0d",
   "metadata": {},
   "source": [
    "## La librería Seaborn"
   ]
  },
  {
   "cell_type": "markdown",
   "id": "fff86630",
   "metadata": {},
   "source": [
    "Funciona por encima de matplotlib. \n",
    "* Se integra muy bien con las estructuras de datos de Pandas.\n",
    "* Provee métodos que facilitan la generación de gráficos para la comparación de variables categóricas.\n",
    "* Provee sus propios estilos y colores (muy estéticos, por cierto 😏).\n",
    "\n",
    "* Seaborn tiene una sintaxis diferente a matplotlib, por lo que sólo lo aprovecharemos por su punto fuerte: las visualizaciones de variables categóricas.\n",
    "* Como Seaborn se construye sobre matplotlib, puede actualizar los parámetros de matplotlib con los estilos de Seaborn y seguir graficando normalmente.\n"
   ]
  },
  {
   "cell_type": "code",
   "execution_count": null,
   "id": "529c6698",
   "metadata": {},
   "outputs": [],
   "source": [
    "sns.set() ## Aplica el tema Seaborn predeterminado, la escala y la paleta de colore.(mpl.rcParams.update(mpl.rcParamsDefault))"
   ]
  },
  {
   "cell_type": "code",
   "execution_count": 2,
   "id": "4560f6de",
   "metadata": {},
   "outputs": [
    {
     "data": {
      "text/html": [
       "<div>\n",
       "<style scoped>\n",
       "    .dataframe tbody tr th:only-of-type {\n",
       "        vertical-align: middle;\n",
       "    }\n",
       "\n",
       "    .dataframe tbody tr th {\n",
       "        vertical-align: top;\n",
       "    }\n",
       "\n",
       "    .dataframe thead th {\n",
       "        text-align: right;\n",
       "    }\n",
       "</style>\n",
       "<table border=\"1\" class=\"dataframe\">\n",
       "  <thead>\n",
       "    <tr style=\"text-align: right;\">\n",
       "      <th></th>\n",
       "      <th>id</th>\n",
       "      <th>diet</th>\n",
       "      <th>pulse</th>\n",
       "      <th>time</th>\n",
       "      <th>kind</th>\n",
       "    </tr>\n",
       "  </thead>\n",
       "  <tbody>\n",
       "    <tr>\n",
       "      <th>0</th>\n",
       "      <td>1</td>\n",
       "      <td>low fat</td>\n",
       "      <td>85</td>\n",
       "      <td>1 min</td>\n",
       "      <td>rest</td>\n",
       "    </tr>\n",
       "    <tr>\n",
       "      <th>1</th>\n",
       "      <td>1</td>\n",
       "      <td>low fat</td>\n",
       "      <td>85</td>\n",
       "      <td>15 min</td>\n",
       "      <td>rest</td>\n",
       "    </tr>\n",
       "    <tr>\n",
       "      <th>2</th>\n",
       "      <td>1</td>\n",
       "      <td>low fat</td>\n",
       "      <td>88</td>\n",
       "      <td>30 min</td>\n",
       "      <td>rest</td>\n",
       "    </tr>\n",
       "    <tr>\n",
       "      <th>3</th>\n",
       "      <td>2</td>\n",
       "      <td>low fat</td>\n",
       "      <td>90</td>\n",
       "      <td>1 min</td>\n",
       "      <td>rest</td>\n",
       "    </tr>\n",
       "    <tr>\n",
       "      <th>4</th>\n",
       "      <td>2</td>\n",
       "      <td>low fat</td>\n",
       "      <td>92</td>\n",
       "      <td>15 min</td>\n",
       "      <td>rest</td>\n",
       "    </tr>\n",
       "  </tbody>\n",
       "</table>\n",
       "</div>"
      ],
      "text/plain": [
       "   id     diet  pulse    time  kind\n",
       "0   1  low fat     85   1 min  rest\n",
       "1   1  low fat     85  15 min  rest\n",
       "2   1  low fat     88  30 min  rest\n",
       "3   2  low fat     90   1 min  rest\n",
       "4   2  low fat     92  15 min  rest"
      ]
     },
     "execution_count": 2,
     "metadata": {},
     "output_type": "execute_result"
    }
   ],
   "source": [
    "#Seaborn trae algunos datasets de prueba, exploremos uno:\n",
    "\n",
    "#Los valores son mediciones del pulso de 30 personas tras realizar algún tipo de actividad por un determinado tiempo. Las columnas son:\n",
    "#Id: \tnúmero identificador de la persona\n",
    "#Diet: dieta de la persona\t\t\tbaja en grasas o sin grasas\n",
    "#Time: duración del ejercicio\t\t1 min, 15 min o 30 min\n",
    "#Kind: tipo de ejercicio\t\t\treposo, caminar o correr\n",
    "\n",
    "df_ejercicio = sns.load_dataset('exercise')\n",
    "df_ejercicio = df_ejercicio.drop('Unnamed: 0', axis='columns')\n",
    "df_ejercicio.head()"
   ]
  },
  {
   "cell_type": "code",
   "execution_count": 3,
   "id": "43632dfa",
   "metadata": {},
   "outputs": [
    {
     "data": {
      "text/html": [
       "<div>\n",
       "<style scoped>\n",
       "    .dataframe tbody tr th:only-of-type {\n",
       "        vertical-align: middle;\n",
       "    }\n",
       "\n",
       "    .dataframe tbody tr th {\n",
       "        vertical-align: top;\n",
       "    }\n",
       "\n",
       "    .dataframe thead th {\n",
       "        text-align: right;\n",
       "    }\n",
       "</style>\n",
       "<table border=\"1\" class=\"dataframe\">\n",
       "  <thead>\n",
       "    <tr style=\"text-align: right;\">\n",
       "      <th></th>\n",
       "      <th>id</th>\n",
       "      <th>diet</th>\n",
       "      <th>pulse</th>\n",
       "      <th>time</th>\n",
       "      <th>kind</th>\n",
       "    </tr>\n",
       "  </thead>\n",
       "  <tbody>\n",
       "    <tr>\n",
       "      <th>2</th>\n",
       "      <td>1</td>\n",
       "      <td>low fat</td>\n",
       "      <td>88</td>\n",
       "      <td>30 min</td>\n",
       "      <td>rest</td>\n",
       "    </tr>\n",
       "    <tr>\n",
       "      <th>5</th>\n",
       "      <td>2</td>\n",
       "      <td>low fat</td>\n",
       "      <td>93</td>\n",
       "      <td>30 min</td>\n",
       "      <td>rest</td>\n",
       "    </tr>\n",
       "    <tr>\n",
       "      <th>8</th>\n",
       "      <td>3</td>\n",
       "      <td>low fat</td>\n",
       "      <td>94</td>\n",
       "      <td>30 min</td>\n",
       "      <td>rest</td>\n",
       "    </tr>\n",
       "    <tr>\n",
       "      <th>11</th>\n",
       "      <td>4</td>\n",
       "      <td>low fat</td>\n",
       "      <td>83</td>\n",
       "      <td>30 min</td>\n",
       "      <td>rest</td>\n",
       "    </tr>\n",
       "    <tr>\n",
       "      <th>14</th>\n",
       "      <td>5</td>\n",
       "      <td>low fat</td>\n",
       "      <td>91</td>\n",
       "      <td>30 min</td>\n",
       "      <td>rest</td>\n",
       "    </tr>\n",
       "  </tbody>\n",
       "</table>\n",
       "</div>"
      ],
      "text/plain": [
       "    id     diet  pulse    time  kind\n",
       "2    1  low fat     88  30 min  rest\n",
       "5    2  low fat     93  30 min  rest\n",
       "8    3  low fat     94  30 min  rest\n",
       "11   4  low fat     83  30 min  rest\n",
       "14   5  low fat     91  30 min  rest"
      ]
     },
     "execution_count": 3,
     "metadata": {},
     "output_type": "execute_result"
    }
   ],
   "source": [
    "#1)Extraigamos sólo aquellas observaciones que se corresponden con un ejercicio de 30 minutos\n",
    "\n",
    "df_30_min = df_ejercicio[df_ejercicio['time'] == '30 min']\n",
    "df_30_min.head()"
   ]
  },
  {
   "cell_type": "markdown",
   "id": "960f8588",
   "metadata": {},
   "source": [
    "* Debemos especificar la columna de valores en el parámetro x, en este caso nos interesa la columna pulse\n",
    "* Como queremos separar las distribuciones según el tipo de actividad, pasamos el parámetro hue='kind'"
   ]
  },
  {
   "cell_type": "code",
   "execution_count": 43,
   "id": "d8290e68",
   "metadata": {},
   "outputs": [
    {
     "data": {
      "text/plain": [
       "<seaborn.axisgrid.FacetGrid at 0x1f1b45d4d90>"
      ]
     },
     "execution_count": 43,
     "metadata": {},
     "output_type": "execute_result"
    },
    {
     "data": {
      "image/png": "[encoded data removed]",
      "text/plain": [
       "<Figure size 434.875x360 with 1 Axes>"
      ]
     },
     "metadata": {
      "needs_background": "light"
     },
     "output_type": "display_data"
    }
   ],
   "source": [
    "#1) Probar en kind = ['hist', 'kde', 'ecdf']\n",
    "#2) Probar fill = [True, False]\n",
    "#3) Probar hue = [kind, diet]\n",
    "\n",
    "ax = sns.displot(data=df_30_min, x='pulse', kind='kde', hue='kind', fill=True)\n",
    "ax.set(xlabel='Frecuencia Cardíaca', ylabel='Densidad', title='Distribución  de las pulsaciones')"
   ]
  },
  {
   "cell_type": "code",
   "execution_count": 27,
   "id": "2b5906a6",
   "metadata": {},
   "outputs": [
    {
     "data": {
      "text/plain": [
       "seaborn.axisgrid.FacetGrid"
      ]
     },
     "execution_count": 27,
     "metadata": {},
     "output_type": "execute_result"
    }
   ],
   "source": [
    "type(ax)"
   ]
  },
  {
   "cell_type": "markdown",
   "id": "8823df59",
   "metadata": {},
   "source": [
    "### Seaborn: Categorical Plots\n"
   ]
  },
  {
   "cell_type": "markdown",
   "id": "3fae47c1",
   "metadata": {},
   "source": [
    "sns.catplot con el parámetro kind='violin' permite comparar distribuciones separando los datos en base a dos categorías simultáneamente."
   ]
  },
  {
   "cell_type": "code",
   "execution_count": 35,
   "id": "923c50cc",
   "metadata": {},
   "outputs": [
    {
     "data": {
      "text/plain": [
       "<seaborn.axisgrid.FacetGrid at 0x1f1b44fe970>"
      ]
     },
     "execution_count": 35,
     "metadata": {},
     "output_type": "execute_result"
    },
    {
     "data": {
      "image/png": "[encoded data removed]",
      "text/plain": [
       "<Figure size 429.75x360 with 1 Axes>"
      ]
     },
     "metadata": {
      "needs_background": "light"
     },
     "output_type": "display_data"
    }
   ],
   "source": [
    "# 1) Probar cambiar los ejes.\n",
    "# 2) Probar x = [time, kind]\n",
    "\n",
    "ax = sns.catplot(data=df_ejercicio, kind='violin', x='time', y='pulse', hue='diet', split=True)\n",
    "ax.set(xlabel='Duración de ejercicio', ylabel='Frecuencia cardíaca', title='Categorización de la distribución de pulsaciones')"
   ]
  },
  {
   "cell_type": "markdown",
   "id": "9d2b2809",
   "metadata": {},
   "source": [
    "### Desafio Generico"
   ]
  },
  {
   "cell_type": "markdown",
   "id": "e9e24002",
   "metadata": {},
   "source": [
    "Consigna: <br>\n",
    "1. Cargar [este](https://drive.google.com/file/d/1Msf9fKLNyQJFmZbPecSe1G23kjkPg-ap/view) archivo en Python. Realizar estadísticas descriptivas básicas\n",
    "2. Realizar un histograma con los salarios. Qué rango(s) de salarios son los más populares por Departamento?\n",
    "3. Graficar la serie de tiempo correspondiente a LastPerformanceReview_Date y el Salario\n"
   ]
  },
  {
   "cell_type": "code",
   "execution_count": 36,
   "id": "5e41948a",
   "metadata": {},
   "outputs": [],
   "source": [
    "df = pd.read_csv(r\"~/Downloads/HRDataset_v14.csv\")"
   ]
  },
  {
   "cell_type": "code",
   "execution_count": 119,
   "id": "23c1a275",
   "metadata": {},
   "outputs": [],
   "source": [
    "#1)Realizar estadísticas descriptivas básicas\n"
   ]
  },
  {
   "cell_type": "code",
   "execution_count": 118,
   "id": "c7c70d4e",
   "metadata": {},
   "outputs": [],
   "source": [
    "#2) Realizar un histograma con los salarios. Qué rango(s) de salarios son los más populares por Departamento?\n"
   ]
  },
  {
   "cell_type": "code",
   "execution_count": 117,
   "id": "ba3ea627",
   "metadata": {},
   "outputs": [],
   "source": [
    "#3) Graficar la serie de tiempo correspondiente a LastPerformanceReview_Date y el Salario\n",
    "# Tip buscar ordenar las fechas"
   ]
  },
  {
   "cell_type": "code",
   "execution_count": null,
   "id": "df1a2721",
   "metadata": {},
   "outputs": [],
   "source": []
  }
 ],
 "metadata": {
  "kernelspec": {
   "display_name": "Python 3 (ipykernel)",
   "language": "python",
   "name": "python3"
  },
  "language_info": {
   "codemirror_mode": {
    "name": "ipython",
    "version": 3
   },
   "file_extension": ".py",
   "mimetype": "text/x-python",
   "name": "python",
   "nbconvert_exporter": "python",
   "pygments_lexer": "ipython3",
   "version": "3.9.7"
  }
 },
 "nbformat": 4,
 "nbformat_minor": 5
}
