{
 "cells": [
  {
   "cell_type": "markdown",
   "id": "5938a7f4",
   "metadata": {},
   "source": [
    "# Introducción a la manipulación de datos con Pandas (Parte II)"
   ]
  },
  {
   "cell_type": "markdown",
   "id": "993b8ac9",
   "metadata": {},
   "source": [
    "* Terminar de conocer las estructuras de datos en Pandas\n",
    "* Comprender el uso de Pandas para la manipulación de grandes volúmenes de datos"
   ]
  },
  {
   "cell_type": "code",
   "execution_count": null,
   "id": "94cdafd2",
   "metadata": {},
   "outputs": [],
   "source": [
    "import pandas as pd\n",
    "#1) Cargue el archivo: df_lluvias_archivo = pd.read_csv('<ruta>/pune_1965_to_2002.csv')\n",
    "#2) Observe cómo viene el archivo\n",
    "#3) Utilize help si existe un argumento que nos ayude a generar un index con la info del archivo\n",
    "\n",
    "df_lluvias_archivo = pd.read_csv(r'~/Downloads/archive/pune_1965_to_2002.csv')"
   ]
  },
  {
   "cell_type": "markdown",
   "id": "ddd8da6c",
   "metadata": {},
   "source": [
    "* Se trata de mediciones de precipitaciones (en milímetros)\n",
    "* Existe un total de trece columnas, una para el año y otras doce para cada uno de los meses\n",
    "* Tiene un índice numérico\n"
   ]
  },
  {
   "cell_type": "code",
   "execution_count": null,
   "id": "c77010ec",
   "metadata": {},
   "outputs": [],
   "source": [
    "df_lluvias_archivo.head()"
   ]
  },
  {
   "cell_type": "markdown",
   "id": "f42afc75",
   "metadata": {},
   "source": [
    "**Agregaciones en Pandas**"
   ]
  },
  {
   "cell_type": "code",
   "execution_count": null,
   "id": "51146945",
   "metadata": {},
   "outputs": [],
   "source": [
    "df_lluvias_archivo.sum()"
   ]
  },
  {
   "cell_type": "code",
   "execution_count": null,
   "id": "d2fbedd8",
   "metadata": {},
   "outputs": [],
   "source": [
    "df_lluvias_archivo.sum(axis = 1)"
   ]
  },
  {
   "cell_type": "markdown",
   "id": "16c60b2d",
   "metadata": {},
   "source": [
    "**El método describe**"
   ]
  },
  {
   "cell_type": "code",
   "execution_count": null,
   "id": "e46374ba",
   "metadata": {},
   "outputs": [],
   "source": [
    "df_lluvias_archivo.describe().round(1)"
   ]
  },
  {
   "cell_type": "code",
   "execution_count": null,
   "id": "e194530c",
   "metadata": {},
   "outputs": [],
   "source": [
    "df_lluvias_archivo.T.describe().round(1)"
   ]
  },
  {
   "cell_type": "markdown",
   "id": "5727ac0c",
   "metadata": {},
   "source": [
    "### Operaciones sobre Strings"
   ]
  },
  {
   "cell_type": "markdown",
   "id": "a4d75113",
   "metadata": {},
   "source": [
    "* A menudo, tendremos que trabajar con datos en forma de Strings, es decir cadenas de caracteres o texto. \n",
    "* Es muy probable que no tengan el formato requerido\n",
    "* Pandas provee métodos para manipular Strings masivamente😄"
   ]
  },
  {
   "cell_type": "code",
   "execution_count": null,
   "id": "ae66b3fc",
   "metadata": {},
   "outputs": [],
   "source": [
    "# 1) Descargar el archivo en https://drive.google.com/file/d/1F7ZyhZlyRQ4P4x90OEVlOAWcY3-lv46m/view\n",
    "# 2) Usen la columna de president y conviertanlo en un pandas Series \n",
    "# 3) Luego buscar en la documentación de pandas cómo hacer que los caracteres se vuelvan Mayusculas\n",
    "# https://pandas.pydata.org/pandas-docs/stable/reference/series.html\n",
    "# Tambien podemos usar help\n",
    "\n",
    "Presidentes_archivo = pd.read_csv(r'~/Downloads/us_presidents 2.csv')\n",
    "Presidentes_nombres = _\n"
   ]
  },
  {
   "cell_type": "code",
   "execution_count": null,
   "id": "d65a3c75",
   "metadata": {},
   "outputs": [],
   "source": [
    "# 1) Buscar a todo los presidentes que comienzan (startswith) 'J'\n",
    "# 2) Separar los presidentes por espacio \"split\"\n"
   ]
  },
  {
   "cell_type": "markdown",
   "id": "ced73c09",
   "metadata": {},
   "source": [
    "### Introducción a Series de Tiempo\n"
   ]
  },
  {
   "cell_type": "markdown",
   "id": "b7b8cab3",
   "metadata": {},
   "source": [
    "* Son **tipos de datos especiales** donde el tiempo toma un rol fundamental.\n",
    "* Observamos **cambios en los valores** de la variable a lo largo del tiempo.\n",
    "* Si ignoramos esa **dimensión temporal**, los valores pierden contexto."
   ]
  },
  {
   "cell_type": "markdown",
   "id": "04e01ce6",
   "metadata": {},
   "source": [
    "Python provee tres tipos de datos relacionados al tiempo:\n",
    "\n",
    "* **Time stamp o marca de tiempo**: representan un punto en el tiempo. Por ejemplo, fecha y hora.\n",
    "* **Período**: representan un intervalo de tiempo. Por ejemplo, frecuencia anual, mensual, semanal (semana del año)\n",
    "* **Duración**: representa una duración medida en tiempo, es el diferencial de un tiempo inicial a uno final. En pocas palabras el diferencial."
   ]
  },
  {
   "cell_type": "code",
   "execution_count": null,
   "id": "7e4d07ca",
   "metadata": {},
   "outputs": [],
   "source": [
    "#1) Analizar si es necesario usar un criterio de fecha de primero día,mes,año (dayfirst)\n",
    "\n",
    "fecha = pd.to_datetime('03-01-2020')\n",
    "fecha\n"
   ]
  },
  {
   "cell_type": "code",
   "execution_count": null,
   "id": "420d0c6d",
   "metadata": {},
   "outputs": [],
   "source": [
    "#1) Secuencia de fechas\n",
    "\n",
    "fin = pd.to_datetime('10/01/2020',dayfirst=True)\n",
    "fechas_1 = pd.date_range(start=fecha, end=fin)\n",
    "fechas_1"
   ]
  },
  {
   "cell_type": "code",
   "execution_count": null,
   "id": "828a6fa7",
   "metadata": {},
   "outputs": [],
   "source": [
    "#1) Genere una frecuencia semanal (W) y luego mensual (M)\n",
    "\n",
    "fechas_3 = pd.date_range(start= fecha, periods= 8, freq=)\n",
    "fechas_3"
   ]
  },
  {
   "cell_type": "code",
   "execution_count": null,
   "id": "1c012b0a",
   "metadata": {},
   "outputs": [],
   "source": [
    "# Ocho meses consecutivos, a partir del mes de inicio:\n",
    "mes_inicio = fecha.strftime('%Y-%m')\n",
    "print(mes_inicio)\n",
    "fechas_4 = pd.period_range(start=mes_inicio, periods=8, freq='M')\n",
    "print(fechas_4)\n"
   ]
  },
  {
   "cell_type": "markdown",
   "id": "47767495",
   "metadata": {},
   "source": [
    "**Diferenciales de Tiempo**"
   ]
  },
  {
   "cell_type": "code",
   "execution_count": null,
   "id": "5e957994",
   "metadata": {},
   "outputs": [],
   "source": [
    "cuanto_tiempo = fechas_3[7] - fechas_3[0]\n",
    "cuanto_tiempo\n"
   ]
  },
  {
   "cell_type": "code",
   "execution_count": null,
   "id": "a67f3012",
   "metadata": {},
   "outputs": [],
   "source": [
    "cuanto_tiempo_meses = fechas_3[7].to_period('M') - fechas_3[0].to_period('M') \n",
    "cuanto_tiempo_meses\n"
   ]
  },
  {
   "cell_type": "code",
   "execution_count": null,
   "id": "2055a0f0",
   "metadata": {},
   "outputs": [],
   "source": [
    "fechas_3[0]"
   ]
  },
  {
   "cell_type": "markdown",
   "id": "350456a7",
   "metadata": {},
   "source": [
    "**Conversión a DateTimeIndex**"
   ]
  },
  {
   "cell_type": "code",
   "execution_count": null,
   "id": "286200be",
   "metadata": {
    "scrolled": true
   },
   "outputs": [],
   "source": [
    "fechas_presidentes_orig = Presidentes_archivo['start']\n",
    "fechas_presidentes_orig"
   ]
  },
  {
   "cell_type": "code",
   "execution_count": null,
   "id": "5a2579cb",
   "metadata": {},
   "outputs": [],
   "source": [
    "fechas_presidentes = pd.DatetimeIndex(fechas_presidentes_orig)\n",
    "fechas_presidentes"
   ]
  },
  {
   "cell_type": "code",
   "execution_count": null,
   "id": "fe37d0c6",
   "metadata": {
    "scrolled": true
   },
   "outputs": [],
   "source": [
    "#¡Listo!  🎉 \n",
    "#Ya podemos ejecutar operaciones con objetos de tiempo 😄\n",
    "\n",
    "Serie_presidentes = pd.Series(Presidentes_nombres.values,index=fechas_presidentes)\n",
    "Serie_presidentes"
   ]
  },
  {
   "cell_type": "markdown",
   "id": "b0ccb28d",
   "metadata": {},
   "source": [
    "### Desafio Generico"
   ]
  },
  {
   "cell_type": "code",
   "execution_count": null,
   "id": "727e3853",
   "metadata": {
    "scrolled": true
   },
   "outputs": [],
   "source": [
    "#1) Buscar aquellos presidentes que abarca de 1850-1999 (Tip:Slicing and loc)\n",
    "Serie_presidentes"
   ]
  },
  {
   "cell_type": "code",
   "execution_count": null,
   "id": "94722602",
   "metadata": {},
   "outputs": [],
   "source": [
    "#2 Cargar archivo (https://drive.google.com/file/d/1F3L_igH1kJ_Rx44rKRjRVAtrPMulYRsY/view),\n",
    "# construir un objeto de series de tiempo con el índice igual al año de los juegos olímpicos\n",
    "\n",
    "df = pd.read_csv(r'~/Downloads/Summer-Olympic-medals-1976-to-2008.csv',encoding =_)\n",
    "df1 = pd.DataFrame(df.values, columns = _, index=_)"
   ]
  },
  {
   "cell_type": "code",
   "execution_count": null,
   "id": "c96f3996",
   "metadata": {},
   "outputs": [],
   "source": [
    "#3.Construir una tabla que muestre cuántas medallas obtuvieron las mujeres en total en cada año que se realizó el evento.\n"
   ]
  }
 ],
 "metadata": {
  "kernelspec": {
   "display_name": "Python 3 (ipykernel)",
   "language": "python",
   "name": "python3"
  },
  "language_info": {
   "codemirror_mode": {
    "name": "ipython",
    "version": 3
   },
   "file_extension": ".py",
   "mimetype": "text/x-python",
   "name": "python",
   "nbconvert_exporter": "python",
   "pygments_lexer": "ipython3",
   "version": "3.9.7"
  }
 },
 "nbformat": 4,
 "nbformat_minor": 5
}
