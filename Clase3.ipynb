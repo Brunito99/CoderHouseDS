{
 "cells": [
  {
   "cell_type": "markdown",
   "metadata": {},
   "source": [
    "# Clase 3 : Introducción a la programación con Python (Parte II)\n"
   ]
  },
  {
   "cell_type": "markdown",
   "metadata": {},
   "source": [
    "### Tipo de Datos\n",
    "\n",
    "* Simple:"
   ]
  },
  {
   "cell_type": "markdown",
   "metadata": {},
   "source": [
    "#### Número Entero (int)\n",
    "Este tipo de dato se corresponde con números enteros, es decir, sin parte decimal."
   ]
  },
  {
   "cell_type": "code",
   "execution_count": null,
   "metadata": {},
   "outputs": [],
   "source": [
    "# 1. Pon valores de sin decimal, por ejemplo: 99, 59 ,1 ,10\n",
    "entero = \n",
    "print(\"El resultado de la variable es:\",entero,\"de tipo\",type(entero))"
   ]
  },
  {
   "cell_type": "markdown",
   "metadata": {},
   "source": [
    "#### Número Decimal (float)\n",
    "\n",
    "Este tipo de dato se corresponde con números reales con parte decimal. Cabe destacar que el separador decimal en Python es el punto (.) y no la coma (,)."
   ]
  },
  {
   "cell_type": "code",
   "execution_count": null,
   "metadata": {},
   "outputs": [],
   "source": [
    "# 1. Pon valores de sin decimal, por ejemplo: 1.0, 3.879 , 78.0001 ,10.9999\n",
    "decimal = \n",
    "print(\"El resultado de la variable es:\",decimal,\"de tipo\",type(decimal))"
   ]
  },
  {
   "cell_type": "markdown",
   "metadata": {},
   "source": [
    "#### Booleano (bool)\n",
    "\n",
    "Este tipo de dato reconoce solamente dos valores: Verdadero (True) y Falso (False)"
   ]
  },
  {
   "cell_type": "code",
   "execution_count": null,
   "metadata": {},
   "outputs": [],
   "source": [
    "# 1. Pon valores de True o False\n",
    "# 2. Incluye la variable Booleano en la función print\n",
    "Booleano = \n",
    "print(\"El resultado de la variable es:\",,\"de tipo\",type())"
   ]
  },
  {
   "cell_type": "markdown",
   "metadata": {},
   "source": [
    "#### String\n",
    "\n",
    "El tipo de dato String se utiliza para representar una cadena de caracteres (texto)"
   ]
  },
  {
   "cell_type": "code",
   "execution_count": null,
   "metadata": {},
   "outputs": [],
   "source": [
    "# 1. Pon en la variable String \"Hola Mundo!\"\n",
    "# 2. Remplazar la variable String por _\n",
    "String = \"Hola Mundo!\"\n",
    "print(\"El resultado de la variable es:{0} de tipo {1} \".format(_,type(_)))"
   ]
  },
  {
   "cell_type": "markdown",
   "metadata": {},
   "source": [
    "### Tipo de Datos\n",
    "\n",
    "* Estructurado (Colección):"
   ]
  },
  {
   "cell_type": "markdown",
   "metadata": {},
   "source": [
    "#### Lista \n",
    "Las listas en Python son un tipo de dato que permirte contener cualquier variable sin importar que tipo de dato sea."
   ]
  },
  {
   "cell_type": "code",
   "execution_count": null,
   "metadata": {},
   "outputs": [],
   "source": [
    "# 1. Utiliza la variables previamente asignadas en la lista (String, Booleano, decimal, entero)\n",
    "Lista = \n",
    "print(Lista)"
   ]
  },
  {
   "cell_type": "markdown",
   "metadata": {},
   "source": [
    "* Curiosidad: La lista de una lista se le conoce como lista anidada"
   ]
  },
  {
   "cell_type": "code",
   "execution_count": null,
   "metadata": {},
   "outputs": [],
   "source": [
    "[[1, 2, 3], [4, 5, 7]]"
   ]
  },
  {
   "cell_type": "markdown",
   "metadata": {},
   "source": [
    "<p>Acceder al componente de una lista, se debe hacer los siguiente ---> lista[0]: Primer valor <br>\n",
    "Para acceder el ultimo componente de la lista puedes poner el número N-1 o -1 ---> lista[-1]: Primer valor</p>"
   ]
  },
  {
   "cell_type": "code",
   "execution_count": null,
   "metadata": {},
   "outputs": [],
   "source": [
    "# 1. Accede al primer y segundo componente \n",
    "# 2. Accede al ultimo valor y penultimo valor\n",
    "\n",
    "print(Lista[0])\n",
    "print(Lista[])\n",
    "print(Lista[-1])\n",
    "print(Lista[])"
   ]
  },
  {
   "cell_type": "markdown",
   "metadata": {},
   "source": [
    "#### Diccionarios\n",
    "\n",
    "En los Diccionarios cada elemento se compone de un par clave-valor, y para su definición es necesario encerrar los elementos entre llaves."
   ]
  },
  {
   "cell_type": "code",
   "execution_count": null,
   "metadata": {},
   "outputs": [],
   "source": [
    "# 1. Agrega el año de nacimiento de John F. Kennedy (1917) \n",
    "# 2. Luego en modo lista junto con la muerte\n",
    "diccionario = {\"Muerte\":1963,\"Nombre\":\"John F. Kennedy\"}\n",
    "print(diccionario)"
   ]
  },
  {
   "cell_type": "markdown",
   "metadata": {},
   "source": [
    "#### Tuplas\n",
    "\n",
    "Las Tuplas son básicamente Listas de elementos estáticas, es decir, que no pueden modificarse (decimos que las Tuplas son inmutables en Python). Para su definición, en lugar de corchetes se encierran valores separados por comas entre paréntesis."
   ]
  },
  {
   "cell_type": "code",
   "execution_count": null,
   "metadata": {},
   "outputs": [],
   "source": [
    "# 1. Utiliza la variables previamente asignadas en la lista (String, Booleano, decimal, entero)\n",
    "Tuple  = (String, Booleano, decimal, entero) \n",
    "print(Tuple)"
   ]
  },
  {
   "cell_type": "markdown",
   "metadata": {},
   "source": [
    "### ESTRUCTURAS DE CONTROL:\n",
    "FOR, WHILE, IF\n"
   ]
  },
  {
   "cell_type": "markdown",
   "metadata": {},
   "source": [
    "Estructura condicional (IF)"
   ]
  },
  {
   "cell_type": "code",
   "execution_count": null,
   "metadata": {},
   "outputs": [],
   "source": [
    "# 1. Intenta cambiar x por 5\n",
    "# 2. Intenta cambiar x por 10\n",
    "# 3. Intenta cambiar x por 100\n",
    "\n",
    "x = 1\n",
    "if x < 10:                      # Pregunto si x es menor a 10\n",
    "    print(x, \"es menor a 10\")   # Si es así muestro mensaje\n",
    "elif x > 10:                    # Si no es así, pregunto si x es mayor\n",
    "    print(x, \"es mayor a 10\")   # a 10 y si es así muestro mensaje\n",
    "else:                           # Si nada de lo anterior se\n",
    "    print(x, \"es 10\")           # cumple, ejecuto esto\n"
   ]
  },
  {
   "cell_type": "markdown",
   "metadata": {},
   "source": [
    "#### Estructura FOR"
   ]
  },
  {
   "cell_type": "markdown",
   "metadata": {},
   "source": [
    "Primera forma"
   ]
  },
  {
   "cell_type": "code",
   "execution_count": null,
   "metadata": {},
   "outputs": [],
   "source": [
    "for i in range(1,10):\n",
    "    print(i)\n"
   ]
  },
  {
   "cell_type": "markdown",
   "metadata": {},
   "source": [
    "Segunda Forma"
   ]
  },
  {
   "cell_type": "code",
   "execution_count": null,
   "metadata": {},
   "outputs": [],
   "source": [
    "for i in [1,4,6,2]:\n",
    "    print(i)\n"
   ]
  },
  {
   "cell_type": "markdown",
   "metadata": {},
   "source": [
    "Combina utiliza For con condicional If"
   ]
  },
  {
   "cell_type": "code",
   "execution_count": null,
   "metadata": {},
   "outputs": [],
   "source": [
    "# 1. Evalua si el valor dentro de la lista es par \n",
    "# 2. Utiliza el operador modulo %\n",
    "# 3. Recuerda utilizar i\n",
    "\n",
    "for i in [2,4,6,7]:\n",
    "    if  == 0:\n",
    "        print(\"Es par {}\".format(i))\n",
    "    else:\n",
    "        print(\"No es par {}\".format(i))"
   ]
  },
  {
   "cell_type": "markdown",
   "metadata": {},
   "source": [
    "#### Estructura WHILE\n",
    "Repite una secuencia de comandos “mientras” una condición se cumpla. Cuando la condición no se cumple más, termina la repetición."
   ]
  },
  {
   "cell_type": "code",
   "execution_count": null,
   "metadata": {},
   "outputs": [],
   "source": [
    "i = 1\n",
    "while i < 5:   # el código luego de los dos puntos se ejecuta\n",
    "    print(i)        # mientras i es menor a 10.\n",
    "    i += 1          # cuando i llega a 10 termina la ejecución"
   ]
  },
  {
   "cell_type": "markdown",
   "metadata": {},
   "source": [
    "Siempre pongan un incremental en el While!"
   ]
  },
  {
   "cell_type": "markdown",
   "metadata": {},
   "source": [
    "## Ejercicio Generico"
   ]
  },
  {
   "cell_type": "code",
   "execution_count": null,
   "metadata": {},
   "outputs": [],
   "source": [
    "# Ejercicio 1. \n",
    "# Se busca el factorial de x = 5!---> 1*2*3*4*5\n",
    "# Se va a requerir un for usando un range\n",
    "# Recuerden usar los operadores aritmeticos de la clase 3.\n",
    "# Remplazar ___ por la respuesta\n",
    "\n",
    "fac = 1\n",
    "\n",
    "for i in ___:\n",
    "    fac ___\n",
    "\n",
    "print(\"Resultado del factorial es: \", fac)"
   ]
  },
  {
   "cell_type": "code",
   "execution_count": null,
   "metadata": {},
   "outputs": [],
   "source": [
    "# Ejercicio 2. \n",
    "# Se sumar  1 al 100 por ejemplo: 1+2+3+4+5... +100\n",
    "# Se va a requerir un for usando un range\n",
    "# Recuerden usar los operadores aritmeticos de la clase 3.\n",
    "# Remplazar ___ por la respuesta\n",
    "\n",
    "suma = 0\n",
    "\n",
    "for i in range(1,__):\n",
    "    print(i,suma)\n",
    "    suma ___\n",
    "    \n",
    "print(\"Resultado de la suma es: \",suma)"
   ]
  },
  {
   "cell_type": "markdown",
   "metadata": {},
   "source": [
    "### Funciones, argumentos y retorno"
   ]
  },
  {
   "cell_type": "markdown",
   "metadata": {},
   "source": [
    "Las funciones tienen al menos 3 elementos:\n",
    "* El nombre de la función\n",
    "* Cero o más argumentos (variables de entrada)\n",
    "* Un valor de retorno (salida de la función)"
   ]
  },
  {
   "cell_type": "code",
   "execution_count": null,
   "metadata": {},
   "outputs": [],
   "source": [
    "def suma(x,y):  # aquí definimos una función propia con argumentos x e y\n",
    "    z = x + y   # la función suma los valores x e y, y asigna resultado a z\n",
    "    return z    # el valor de retorno es z\n",
    "\n",
    "res = suma(2,7) # aplicamos la función definida a los números 2 y 3\n",
    "                # y guardamos el resultado en res\n",
    "print (res)     # mostramos el resultado: 2 + 3 = 5"
   ]
  },
  {
   "cell_type": "code",
   "execution_count": null,
   "metadata": {},
   "outputs": [],
   "source": []
  }
 ],
 "metadata": {
  "kernelspec": {
   "display_name": "Python 3 (ipykernel)",
   "language": "python",
   "name": "python3"
  },
  "language_info": {
   "codemirror_mode": {
    "name": "ipython",
    "version": 3
   },
   "file_extension": ".py",
   "mimetype": "text/x-python",
   "name": "python",
   "nbconvert_exporter": "python",
   "pygments_lexer": "ipython3",
   "version": "3.9.7"
  }
 },
 "nbformat": 4,
 "nbformat_minor": 4
}
