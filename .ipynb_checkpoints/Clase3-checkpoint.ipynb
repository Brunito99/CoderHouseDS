{
 "cells": [
  {
   "cell_type": "markdown",
   "metadata": {},
   "source": [
    "# Clase 3 : Introducción a la programación con Python (Parte II)\n"
   ]
  },
  {
   "cell_type": "markdown",
   "metadata": {},
   "source": [
    "### Tipo de Datos\n",
    "\n",
    "* Simple:"
   ]
  },
  {
   "cell_type": "markdown",
   "metadata": {},
   "source": [
    "#### Número Entero (int)\n",
    "Este tipo de dato se corresponde con números enteros, es decir, sin parte decimal."
   ]
  },
  {
   "cell_type": "code",
   "execution_count": 1,
   "metadata": {},
   "outputs": [
    {
     "name": "stdout",
     "output_type": "stream",
     "text": [
      "El resultado de la variable es: 42 de tipo <class 'int'>\n"
     ]
    }
   ],
   "source": [
    "# 1. Pon valores de sin decimal, por ejemplo: 99, 59 ,1 ,10\n",
    "entero = 42\n",
    "print(\"El resultado de la variable es:\",entero,\"de tipo\",type(entero))"
   ]
  },
  {
   "cell_type": "markdown",
   "metadata": {},
   "source": [
    "#### Número Decimal (float)\n",
    "\n",
    "Este tipo de dato se corresponde con números reales con parte decimal. Cabe destacar que el separador decimal en Python es el punto (.) y no la coma (,)."
   ]
  },
  {
   "cell_type": "code",
   "execution_count": 2,
   "metadata": {},
   "outputs": [
    {
     "name": "stdout",
     "output_type": "stream",
     "text": [
      "El resultado de la variable es: 3.1416 de tipo <class 'float'>\n"
     ]
    }
   ],
   "source": [
    "# 1. Pon valores de sin decimal, por ejemplo: 1.0, 3.879 , 78.0001 ,10.9999\n",
    "decimal = 3.1416\n",
    "print(\"El resultado de la variable es:\",decimal,\"de tipo\",type(decimal))"
   ]
  },
  {
   "cell_type": "markdown",
   "metadata": {},
   "source": [
    "#### Booleano (bool)\n",
    "\n",
    "Este tipo de dato reconoce solamente dos valores: Verdadero (True) y Falso (False)"
   ]
  },
  {
   "cell_type": "code",
   "execution_count": 5,
   "metadata": {},
   "outputs": [
    {
     "name": "stdout",
     "output_type": "stream",
     "text": [
      "El resultado de la variable es: False de tipo <class 'bool'>\n"
     ]
    }
   ],
   "source": [
    "# 1. Pon valores de True o False\n",
    "# 2. Incluye la variable Booleano en la función print\n",
    "Booleano = False\n",
    "print(\"El resultado de la variable es:\",Booleano,\"de tipo\",type(Booleano))"
   ]
  },
  {
   "cell_type": "markdown",
   "metadata": {},
   "source": [
    "#### String\n",
    "\n",
    "El tipo de dato String se utiliza para representar una cadena de caracteres (texto)"
   ]
  },
  {
   "cell_type": "code",
   "execution_count": 6,
   "metadata": {},
   "outputs": [
    {
     "name": "stdout",
     "output_type": "stream",
     "text": [
      "El resultado de la variable es:Hola Mundo! de tipo <class 'str'> \n"
     ]
    }
   ],
   "source": [
    "# 1. Pon en la variable String \"Hola Mundo!\"\n",
    "# 2. Remplazar la variable String por _\n",
    "String = \"Hola Mundo!\"\n",
    "print(\"El resultado de la variable es:{0} de tipo {1} \".format(String,type(String)))"
   ]
  },
  {
   "cell_type": "markdown",
   "metadata": {},
   "source": [
    "### Tipo de Datos\n",
    "\n",
    "* Estructurado (Colección):"
   ]
  },
  {
   "cell_type": "markdown",
   "metadata": {},
   "source": [
    "#### Lista \n",
    "Las listas en Python son un tipo de dato que permirte contener cualquier variable sin importar que tipo de dato sea."
   ]
  },
  {
   "cell_type": "code",
   "execution_count": 7,
   "metadata": {},
   "outputs": [
    {
     "name": "stdout",
     "output_type": "stream",
     "text": [
      "['Hola Mundo!', False, 3.1416, 42]\n"
     ]
    }
   ],
   "source": [
    "# 1. Utiliza la variables previamente asignadas en la lista (String, Booleano, decimal, entero)\n",
    "Lista = [String, Booleano, decimal, entero]\n",
    "print(Lista)"
   ]
  },
  {
   "cell_type": "markdown",
   "metadata": {},
   "source": [
    "* Curiosidad: La lista de una lista se le conoce como lista anidada"
   ]
  },
  {
   "cell_type": "code",
   "execution_count": 8,
   "metadata": {},
   "outputs": [
    {
     "data": {
      "text/plain": [
       "[[1, 2, 3], [4, 5, 7]]"
      ]
     },
     "execution_count": 8,
     "metadata": {},
     "output_type": "execute_result"
    }
   ],
   "source": [
    "[[1, 2, 3], [4, 5, 7]]"
   ]
  },
  {
   "cell_type": "markdown",
   "metadata": {},
   "source": [
    "<p>Acceder al componente de una lista, se debe hacer los siguiente ---> lista[0]: Primer valor <br>\n",
    "Para acceder el ultimo componente de la lista puedes poner el número N-1 o -1 ---> lista[-1]: Primer valor</p>"
   ]
  },
  {
   "cell_type": "code",
   "execution_count": 9,
   "metadata": {},
   "outputs": [
    {
     "name": "stdout",
     "output_type": "stream",
     "text": [
      "Hola Mundo!\n",
      "False\n",
      "42\n",
      "3.1416\n"
     ]
    }
   ],
   "source": [
    "# 1. Accede al primer y segundo componente \n",
    "# 2. Accede al ultimo valor y penultimo valor\n",
    "\n",
    "print(Lista[0])\n",
    "print(Lista[1])\n",
    "print(Lista[-1])\n",
    "print(Lista[-2])"
   ]
  },
  {
   "cell_type": "markdown",
   "metadata": {},
   "source": [
    "#### Diccionarios\n",
    "\n",
    "En los Diccionarios cada elemento se compone de un par clave-valor, y para su definición es necesario encerrar los elementos entre llaves."
   ]
  },
  {
   "cell_type": "code",
   "execution_count": 11,
   "metadata": {},
   "outputs": [
    {
     "name": "stdout",
     "output_type": "stream",
     "text": [
      "{'Nacimiento y Muerte': [1917, 1963], 'Nombre': 'John F. Kennedy'}\n"
     ]
    }
   ],
   "source": [
    "# 1. Agrega el año de nacimiento de John F. Kennedy (1917) \n",
    "# 2. Luego en modo lista junto con la muerte\n",
    "diccionario = {\"Nacimiento y Muerte\":[1917,1963],\"Nombre\":\"John F. Kennedy\"}\n",
    "print(diccionario)"
   ]
  },
  {
   "cell_type": "markdown",
   "metadata": {},
   "source": [
    "#### Tuplas\n",
    "\n",
    "Las Tuplas son básicamente Listas de elementos estáticas, es decir, que no pueden modificarse (decimos que las Tuplas son inmutables en Python). Para su definición, en lugar de corchetes se encierran valores separados por comas entre paréntesis."
   ]
  },
  {
   "cell_type": "code",
   "execution_count": 12,
   "metadata": {},
   "outputs": [
    {
     "name": "stdout",
     "output_type": "stream",
     "text": [
      "('Hola Mundo!', False, 3.1416, 42)\n"
     ]
    }
   ],
   "source": [
    "# 1. Utiliza la variables previamente asignadas en la lista (String, Booleano, decimal, entero)\n",
    "Tuple  = (String, Booleano, decimal, entero) \n",
    "print(Tuple)"
   ]
  },
  {
   "cell_type": "code",
   "execution_count": 13,
   "metadata": {},
   "outputs": [],
   "source": [
    "Lista[0] = [80]"
   ]
  },
  {
   "cell_type": "code",
   "execution_count": 14,
   "metadata": {},
   "outputs": [
    {
     "name": "stdout",
     "output_type": "stream",
     "text": [
      "[[80], False, 3.1416, 42]\n"
     ]
    }
   ],
   "source": [
    "print(Lista)"
   ]
  },
  {
   "cell_type": "code",
   "execution_count": 15,
   "metadata": {},
   "outputs": [
    {
     "ename": "TypeError",
     "evalue": "'tuple' object does not support item assignment",
     "output_type": "error",
     "traceback": [
      "\u001b[1;31m---------------------------------------------------------------------------\u001b[0m",
      "\u001b[1;31mTypeError\u001b[0m                                 Traceback (most recent call last)",
      "\u001b[1;32m~\\AppData\\Local\\Temp\\1/ipykernel_8868/75660033.py\u001b[0m in \u001b[0;36m<module>\u001b[1;34m\u001b[0m\n\u001b[1;32m----> 1\u001b[1;33m \u001b[0mTuple\u001b[0m\u001b[1;33m[\u001b[0m\u001b[1;36m0\u001b[0m\u001b[1;33m]\u001b[0m \u001b[1;33m=\u001b[0m \u001b[1;33m[\u001b[0m\u001b[1;36m80\u001b[0m\u001b[1;33m]\u001b[0m\u001b[1;33m\u001b[0m\u001b[1;33m\u001b[0m\u001b[0m\n\u001b[0m",
      "\u001b[1;31mTypeError\u001b[0m: 'tuple' object does not support item assignment"
     ]
    }
   ],
   "source": [
    "Tuple[0] = [80]"
   ]
  },
  {
   "cell_type": "markdown",
   "metadata": {},
   "source": [
    "### ESTRUCTURAS DE CONTROL:\n",
    "FOR, WHILE, IF\n"
   ]
  },
  {
   "cell_type": "markdown",
   "metadata": {},
   "source": [
    "Estructura condicional (IF)"
   ]
  },
  {
   "cell_type": "code",
   "execution_count": 19,
   "metadata": {},
   "outputs": [
    {
     "name": "stdout",
     "output_type": "stream",
     "text": [
      "100 es mayor a 10\n"
     ]
    }
   ],
   "source": [
    "# 1. Intenta cambiar x por 5\n",
    "# 2. Intenta cambiar x por 10\n",
    "# 3. Intenta cambiar x por 100\n",
    "\n",
    "x = 100\n",
    "if x < 10:                     # Pregunto si x es menor a 10\n",
    "    print(x, \"es menor a 10\")   # Si es así muestro mensaje\n",
    "elif x > 10:                    # Si no es así, pregunto si x es mayor\n",
    "    print(x, \"es mayor a 10\")   # a 10 y si es así muestro mensaje\n",
    "else:                           # Si nada de lo anterior se\n",
    "    print(x, \"es 10\")           # cumple, ejecuto esto\n"
   ]
  },
  {
   "cell_type": "markdown",
   "metadata": {},
   "source": [
    "#### Estructura FOR"
   ]
  },
  {
   "cell_type": "markdown",
   "metadata": {},
   "source": [
    "Primera forma"
   ]
  },
  {
   "cell_type": "code",
   "execution_count": 22,
   "metadata": {},
   "outputs": [
    {
     "name": "stdout",
     "output_type": "stream",
     "text": [
      "1\n",
      "2\n",
      "3\n",
      "4\n",
      "5\n",
      "6\n",
      "7\n",
      "8\n",
      "9\n"
     ]
    }
   ],
   "source": [
    "for i in range(1,10):\n",
    "    print(i)\n"
   ]
  },
  {
   "cell_type": "markdown",
   "metadata": {},
   "source": [
    "Segunda Forma"
   ]
  },
  {
   "cell_type": "code",
   "execution_count": 23,
   "metadata": {},
   "outputs": [
    {
     "name": "stdout",
     "output_type": "stream",
     "text": [
      "1\n",
      "4\n",
      "6\n",
      "2\n"
     ]
    }
   ],
   "source": [
    "for a in [1,4,6,2]:\n",
    "    print(a)\n"
   ]
  },
  {
   "cell_type": "markdown",
   "metadata": {},
   "source": [
    "Combina utiliza For con condicional If"
   ]
  },
  {
   "cell_type": "code",
   "execution_count": 25,
   "metadata": {},
   "outputs": [
    {
     "name": "stdout",
     "output_type": "stream",
     "text": [
      "Es par 2\n",
      "Es par 4\n",
      "Es par 6\n",
      "No es par 7\n"
     ]
    }
   ],
   "source": [
    "# 1. Evalua si el valor dentro de la lista es par \n",
    "# 2. Utiliza el operador modulo %\n",
    "# 3. Recuerda utilizar i\n",
    "\n",
    "for i in [2,4,6,7]:\n",
    "    if  i%2== 0:\n",
    "        print(\"Es par {}\".format(i))\n",
    "    else:\n",
    "        print(\"No es par {}\".format(i))"
   ]
  },
  {
   "cell_type": "markdown",
   "metadata": {},
   "source": [
    "#### Estructura WHILE\n",
    "Repite una secuencia de comandos “mientras” una condición se cumpla. Cuando la condición no se cumple más, termina la repetición."
   ]
  },
  {
   "cell_type": "code",
   "execution_count": 26,
   "metadata": {},
   "outputs": [
    {
     "name": "stdout",
     "output_type": "stream",
     "text": [
      "1\n",
      "2\n",
      "3\n",
      "4\n"
     ]
    }
   ],
   "source": [
    "i = 1\n",
    "while i < 5:   # el código luego de los dos puntos se ejecuta\n",
    "    print(i)        # mientras i es menor a 10.\n",
    "    i += 1          #i=i+1  # cuando i llega a 10 termina la ejecución"
   ]
  },
  {
   "cell_type": "markdown",
   "metadata": {},
   "source": [
    "Siempre pongan un incremental en el While!"
   ]
  },
  {
   "cell_type": "markdown",
   "metadata": {},
   "source": [
    "## Ejercicio Generico"
   ]
  },
  {
   "cell_type": "code",
   "execution_count": 27,
   "metadata": {},
   "outputs": [
    {
     "name": "stdout",
     "output_type": "stream",
     "text": [
      "Resultado del factorial es:  120\n"
     ]
    }
   ],
   "source": [
    "# Ejercicio 1. \n",
    "# Se busca el factorial de x = 5!---> 1*2*3*4*5\n",
    "# Se va a requerir un for usando un range\n",
    "# Recuerden usar los operadores aritmeticos de la clase 3.\n",
    "# Remplazar ___ por la respuesta\n",
    "\n",
    "fac = 1\n",
    "\n",
    "for i in ___:\n",
    "    fac ___\n",
    "\n",
    "print(\"Resultado del factorial es: \", fac)"
   ]
  },
  {
   "cell_type": "code",
   "execution_count": 28,
   "metadata": {
    "scrolled": true
   },
   "outputs": [
    {
     "name": "stdout",
     "output_type": "stream",
     "text": [
      "1 0\n",
      "2 1\n",
      "3 3\n",
      "4 6\n",
      "5 10\n",
      "6 15\n",
      "7 21\n",
      "8 28\n",
      "9 36\n",
      "10 45\n",
      "11 55\n",
      "12 66\n",
      "13 78\n",
      "14 91\n",
      "15 105\n",
      "16 120\n",
      "17 136\n",
      "18 153\n",
      "19 171\n",
      "20 190\n",
      "21 210\n",
      "22 231\n",
      "23 253\n",
      "24 276\n",
      "25 300\n",
      "26 325\n",
      "27 351\n",
      "28 378\n",
      "29 406\n",
      "30 435\n",
      "31 465\n",
      "32 496\n",
      "33 528\n",
      "34 561\n",
      "35 595\n",
      "36 630\n",
      "37 666\n",
      "38 703\n",
      "39 741\n",
      "40 780\n",
      "41 820\n",
      "42 861\n",
      "43 903\n",
      "44 946\n",
      "45 990\n",
      "46 1035\n",
      "47 1081\n",
      "48 1128\n",
      "49 1176\n",
      "50 1225\n",
      "51 1275\n",
      "52 1326\n",
      "53 1378\n",
      "54 1431\n",
      "55 1485\n",
      "56 1540\n",
      "57 1596\n",
      "58 1653\n",
      "59 1711\n",
      "60 1770\n",
      "61 1830\n",
      "62 1891\n",
      "63 1953\n",
      "64 2016\n",
      "65 2080\n",
      "66 2145\n",
      "67 2211\n",
      "68 2278\n",
      "69 2346\n",
      "70 2415\n",
      "71 2485\n",
      "72 2556\n",
      "73 2628\n",
      "74 2701\n",
      "75 2775\n",
      "76 2850\n",
      "77 2926\n",
      "78 3003\n",
      "79 3081\n",
      "80 3160\n",
      "81 3240\n",
      "82 3321\n",
      "83 3403\n",
      "84 3486\n",
      "85 3570\n",
      "86 3655\n",
      "87 3741\n",
      "88 3828\n",
      "89 3916\n",
      "90 4005\n",
      "91 4095\n",
      "92 4186\n",
      "93 4278\n",
      "94 4371\n",
      "95 4465\n",
      "96 4560\n",
      "97 4656\n",
      "98 4753\n",
      "99 4851\n",
      "100 4950\n",
      "Resultado de la suma es:  5050\n"
     ]
    }
   ],
   "source": [
    "# Ejercicio 2. \n",
    "# Se sumar  1 al 100 por ejemplo: 1+2+3+4+5... +100\n",
    "# Se va a requerir un for usando un range\n",
    "# Recuerden usar los operadores aritmeticos de la clase 3.\n",
    "# Remplazar ___ por la respuesta\n",
    "\n",
    "suma = 0\n",
    "\n",
    "for i in range(1,__):\n",
    "    print(i,suma)\n",
    "    suma ___\n",
    "    \n",
    "print(\"Resultado de la suma es: \",suma)"
   ]
  },
  {
   "cell_type": "markdown",
   "metadata": {},
   "source": [
    "### Funciones, argumentos y retorno"
   ]
  },
  {
   "cell_type": "markdown",
   "metadata": {},
   "source": [
    "Las funciones tienen al menos 3 elementos:\n",
    "* El nombre de la función\n",
    "* Cero o más argumentos (variables de entrada)\n",
    "* Un valor de retorno (salida de la función)"
   ]
  },
  {
   "cell_type": "code",
   "execution_count": null,
   "metadata": {},
   "outputs": [],
   "source": [
    "def suma(x,y):  # aquí definimos una función propia con argumentos x e y\n",
    "    z = x + y   # la función suma los valores x e y, y asigna resultado a z\n",
    "    return z    # el valor de retorno es z\n",
    "\n",
    "res = suma(2,7) # aplicamos la función definida a los números 2 y 3\n",
    "                # y guardamos el resultado en res\n",
    "print (res)     # mostramos el resultado: 2 + 3 = 5"
   ]
  },
  {
   "cell_type": "code",
   "execution_count": null,
   "metadata": {},
   "outputs": [],
   "source": []
  }
 ],
 "metadata": {
  "kernelspec": {
   "display_name": "Python 3 (ipykernel)",
   "language": "python",
   "name": "python3"
  },
  "language_info": {
   "codemirror_mode": {
    "name": "ipython",
    "version": 3
   },
   "file_extension": ".py",
   "mimetype": "text/x-python",
   "name": "python",
   "nbconvert_exporter": "python",
   "pygments_lexer": "ipython3",
   "version": "3.9.7"
  }
 },
 "nbformat": 4,
 "nbformat_minor": 4
}
