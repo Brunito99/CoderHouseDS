{
 "cells": [
  {
   "cell_type": "markdown",
   "id": "d72fb40a",
   "metadata": {},
   "source": [
    "# NTRODUCCIÓN A LA VISUALIZACIÓN EN PYTHON\n"
   ]
  },
  {
   "cell_type": "markdown",
   "id": "5ffdeae2",
   "metadata": {},
   "source": [
    "### Objetivo\n",
    "\n",
    "- Aprender a graficar datos en Python.\n",
    "- Entender el uso básico de las librerías más utilizadas: Matplotlib y Seaborn.\n"
   ]
  },
  {
   "cell_type": "markdown",
   "id": "964f57aa",
   "metadata": {},
   "source": [
    "### ¿Por qué Matplotlib?\n",
    "- Es la librería de visualización más utilizada en el entorno de Python.\n",
    "- Es sencilla y fácil de usar.\n",
    "- Permite un alto nivel de personalización de los gráficos.\n",
    "- Es open source.\n",
    "- Es la base sobre la que se construyen otras librerías como Seaborn.\n"
   ]
  },
  {
   "cell_type": "markdown",
   "id": "6dcf024a",
   "metadata": {},
   "source": [
    "### Interfaces de Matplotlib\n",
    "- Definen la forma en la que interactuamos con el gráfico. \n",
    "- Proveen compatibilidad con el lenguaje que inspiró la librería: MATLAB\n",
    "- Existen dos interfaces disponibles:\n",
    "    - Interfaz orientada a estados, orientada a usuarios de MATLAB para mantener compatibilidad.\n",
    "    - Interfaz orientada a objetos: Permite mayor grado de control sobre los gráficos porque los tratamos como objetos. \n",
    "\n",
    "Más Pythonista para nuestro gusto (y la más utilizada)\n",
    "Del lado Python de la vida! 🐍💪"
   ]
  },
  {
   "cell_type": "code",
   "execution_count": null,
   "id": "c86aea83",
   "metadata": {},
   "outputs": [],
   "source": [
    "import matplotlib as mpl\n",
    "import matplotlib.pyplot as plt #conda install -c conda-forge matplotlib\n",
    "import seaborn as sns #conda install -c anaconda seaborn\n",
    "import pandas as pd #conda install -c anaconda pandas "
   ]
  },
  {
   "cell_type": "code",
   "execution_count": null,
   "id": "8904e9c1",
   "metadata": {},
   "outputs": [],
   "source": [
    "#Estilos existentes:\n",
    "#https://matplotlib.org/3.5.1/gallery/style_sheets/style_sheets_reference.html\n",
    "mpl.style.use('bmh')"
   ]
  },
  {
   "cell_type": "code",
   "execution_count": null,
   "id": "68786031",
   "metadata": {},
   "outputs": [],
   "source": [
    "#plt.subplots() Regresa una tupla\n",
    "#1) Probar plt.subplots (nrows, ncols)\n",
    "\n",
    "fig, ax = plt.subplots() # inicializa la grafica\n",
    "ax.plot([1, 3], [2, 4])  # Primera parte el eje horizontal (eje x), la segunda vertical (eje y)"
   ]
  },
  {
   "cell_type": "code",
   "execution_count": null,
   "id": "19e72dd2",
   "metadata": {},
   "outputs": [],
   "source": [
    "#Hace exactamente lo mismo (orientado a estados)\n",
    "plt.plot([1, 3], [2, 4])"
   ]
  },
  {
   "cell_type": "code",
   "execution_count": null,
   "id": "c23da8f3",
   "metadata": {},
   "outputs": [],
   "source": [
    "df_lluvias = pd.read_csv(r'~\\Downloads\\archive/pune_1965_to_2002.csv')\n",
    "df_lluvias.head()"
   ]
  },
  {
   "cell_type": "code",
   "execution_count": null,
   "id": "e9587560",
   "metadata": {},
   "outputs": [],
   "source": [
    "df_lluvias.index = df_lluvias['Year']\n",
    "df_lluvias = df_lluvias.drop('Year', axis='columns')\n",
    "df_lluvias.head()"
   ]
  },
  {
   "cell_type": "markdown",
   "id": "91a900b2",
   "metadata": {},
   "source": [
    "#### Graficaremos precipitaciones acumuladas de distintos años"
   ]
  },
  {
   "cell_type": "code",
   "execution_count": null,
   "id": "83fbdc21",
   "metadata": {},
   "outputs": [],
   "source": [
    "# 1)Obtendremos del eje x por medio del indice.\n",
    "# 2)Obtendremos del eje y, la suma por año (axis = 1)\n",
    "\n",
    "x = df_lluvias.index\n",
    "y = df_lluvias.sum(axis=1)\n",
    "fig, ax = plt.subplots(figsize=(12, 4)) #figsize=(width, height) por pulgadas\n",
    "# https://pixelsconverter.com/pixels-to-inches \n",
    "# https://www.unitconverters.net/typography/pixel-x-to-centimeter.htm\n",
    "ax.plot(x, y, label='Precipitaciones acumuladas')"
   ]
  },
  {
   "cell_type": "code",
   "execution_count": null,
   "id": "f89bca85",
   "metadata": {},
   "outputs": [],
   "source": [
    "ax.set_xlabel('Año')  \n",
    "ax.set_ylabel('Precipitación acumulada (mm.)')\n",
    "ax.set_title('Precipitaciones acumuladas según el año') \n",
    "ax.legend()\n",
    "#ax.legend(loc='upper right')\n",
    "fig # Para que aparezca de nuevo la grafica"
   ]
  },
  {
   "cell_type": "code",
   "execution_count": null,
   "id": "42241f39",
   "metadata": {},
   "outputs": [],
   "source": [
    "print(df_lluvias.index[0])\n",
    "print(df_lluvias.index[7])\n",
    "ax.set_xlim(df_lluvias.index[0], df_lluvias.index[7])\n",
    "fig\n",
    "#fig.savefig(\"precipitaciones_año.pdf\") #Exportamos el grafico en un archivo pdf"
   ]
  },
  {
   "cell_type": "code",
   "execution_count": null,
   "id": "13b98844",
   "metadata": {},
   "outputs": [],
   "source": [
    "#1) "
   ]
  },
  {
   "cell_type": "markdown",
   "id": "288772ea",
   "metadata": {},
   "source": [
    "### Tipos de Graficos"
   ]
  },
  {
   "cell_type": "markdown",
   "id": "cd3443d8",
   "metadata": {},
   "source": [
    "#### Gráficos de líneas\n",
    "\n",
    "- Son adecuados para visualizar datos con secuencialidad temporal, como las series de tiempo.\n",
    "- Se grafican con el método  ax.plot(x, y)\n",
    "- En caso de no especificarse x, matplotlib toma como coordenadas en x al arreglo de números enteros [0, 1, 2, …, n]"
   ]
  },
  {
   "cell_type": "code",
   "execution_count": null,
   "id": "707cbb4b",
   "metadata": {},
   "outputs": [],
   "source": [
    "fig, ax = plt.subplots()\n",
    "ax.plot([0, 1, 2, 3, 4, 5, 6], [1, 5, 2, 4, 8, 9, 2])"
   ]
  },
  {
   "cell_type": "markdown",
   "id": "ce8fb9f3",
   "metadata": {},
   "source": [
    "#### Gráficos de puntos o dispersión\n",
    "\n",
    "- Útiles cuando se tienen una **gran cantidad de datos numéricos emparejados**\n",
    "- Permiten visualizar la relación entre las variables por medio de la **nube de puntos**\n",
    "    - Nube de puntos “alineada”         --> relación fuerte\n",
    "    - Nube de puntos “dispersa”          --> relación débil o nula\n",
    "-Se grafican con ax.scatter"
   ]
  },
  {
   "cell_type": "code",
   "execution_count": null,
   "id": "17c728a7",
   "metadata": {},
   "outputs": [],
   "source": [
    "pesos = [42.8, 43.3, 42. , 44. , 44.1, 43.5, 48.1, 48.9, 47.7,46.9,50.4,\n",
    "       52.7, 51.8, 54.5, 54.2, 56.9, 55.4, 55.5, 57.1, 58.3, 63.7, 58.8,\n",
    "       64.6, 60.2, 64. , 63.8, 61.4, 66.3, 64.7, 63.9, 69.3, 67.9, 65.2,\n",
    "       70.8, 70.5, 69.3, 75.3, 75.5, 78.2, 78. , 73.2, 78. , 80.1, 78.2,\n",
    "       76. , 81.5, 79.4, 81.8, 81.8, 84.1]\n",
    "alturas = [149. , 149. , 149.9, 156.8, 150.6, 155.4, 151. , 162. , 165.,\n",
    "       157.8, 164.4, 160.1, 160.8, 163.8, 175.2, 162. , 159.5, 159.2,\n",
    "       169.8, 166.7, 179.4, 180.6, 163.3, 178.8, 176.3, 184.8, 181. ,\n",
    "       170.5, 184.1, 187.1, 187.1, 177.7, 184.5, 190.3, 196. , 192.1,\n",
    "       200.4, 201.8, 187.5, 202.1, 200.3, 208.8, 204.6, 193.5, 200.9,\n",
    "       196.8, 213.1, 204.8, 215.5, 210.2] "
   ]
  },
  {
   "cell_type": "code",
   "execution_count": null,
   "id": "c7431d08",
   "metadata": {},
   "outputs": [],
   "source": [
    "fig, ax = plt.subplots()\n",
    "ax.scatter(alturas, pesos, alpha=0.7) # Codigo para crear un grafico de puntos\n",
    "ax.set_title('Altura vs. Peso de 50 alumnos')\n",
    "ax.set_xlabel('Altura (cm.)')\n",
    "ax.set_ylabel('Peso (kg.)')"
   ]
  },
  {
   "cell_type": "code",
   "execution_count": null,
   "id": "d656f148",
   "metadata": {},
   "outputs": [],
   "source": [
    "# Vamos a crear una grafica de puntos para ver la relación de la presipitación de Ago y Sep\n",
    "fig, ax = plt.subplots()  \n",
    "mapeo_colores = ax.scatter(df_lluvias['Aug'], df_lluvias['Sep'], c=df_lluvias.index)\n",
    "# s = asigna el tamaño de los puntos\n",
    "# s = podemos asignarle una lista de tamaño N\n",
    "fig.colorbar(mapeo_colores)\n",
    "ax.set_title('Precipitaciones Agosto-Septiembre')\n",
    "ax.set_xlabel('Precipitaciones en Agosto (mm.)')\n",
    "ax.set_ylabel('Precipitaciones en Septiembre (mm.)')"
   ]
  },
  {
   "cell_type": "markdown",
   "id": "459c2ec0",
   "metadata": {},
   "source": [
    "#### Gráficos de barras\n",
    "\n",
    "- Permiten comparar y poner en perspectiva los valores de distintas variables categóricas. Por ejemplo, las precipitaciones según el mes del año. \n",
    "- Para el ejemplo, acumulemos las precipitaciones para los distintos meses a lo largo de los años.\n"
   ]
  },
  {
   "cell_type": "code",
   "execution_count": null,
   "id": "58bfd878",
   "metadata": {},
   "outputs": [],
   "source": [
    "fig, ax = plt.subplots(figsize=(8,4))\n",
    "precipitaciones_acumuladas = df_lluvias.sum()\n",
    "ax.bar(df_lluvias.columns, precipitaciones_acumuladas)\n",
    "ax.set_title('Precipitaciones acumuladas desde 1965 a 2002, según el mes')\n",
    "ax.set_ylabel('Precipitación total (mm.)')\n",
    "ax.set_xlabel('Mes')"
   ]
  },
  {
   "cell_type": "markdown",
   "id": "6f504c19",
   "metadata": {},
   "source": [
    "#### Histograma\n",
    "\n",
    "- La altura de cada barra representa la proporción o cantidad de los distintos valores de una variable numérica.\n",
    "- Requiere clasificar a los datos en intervalos de clase.\n",
    "- Permiten comparar la frecuencia relativa o absoluta de cada intervalo.\n",
    "- Se construyen con ax.hist, que recibe como parámetro:\n",
    "    - El arreglo de valores. \n",
    "    - bins, que representa la cantidad de intervalos a construir."
   ]
  },
  {
   "cell_type": "code",
   "execution_count": null,
   "id": "b3df4f2a",
   "metadata": {},
   "outputs": [],
   "source": [
    "fig, ax = plt.subplots(figsize=(8, 4))\n",
    "# https://www.geeksforgeeks.org/numpy-ndarray-flatten-function-python/\n",
    "ax.hist(df_lluvias.values.flatten(), bins=10)\n",
    "ax.set_title('Histograma de precipitaciones')\n",
    "ax.set_xlabel('Intervalos de precipitaciones (mm.)')\n",
    "ax.set_ylabel('Frecuencia absoluta')"
   ]
  },
  {
   "cell_type": "markdown",
   "id": "9e2a6e54",
   "metadata": {},
   "source": [
    "### Enriqueciendo las visualizaciones"
   ]
  },
  {
   "cell_type": "markdown",
   "id": "21584681",
   "metadata": {},
   "source": [
    "#### Múltiples elementos\n",
    "\n",
    "- En ocasiones necesitamos resaltar ciertas características de los datos. \n",
    "- Por ejemplo, ¿Qué pasa si quisiéramos resaltar el punto máximo en una serie de tiempo?\n",
    "- Podemos cargar al objeto ax con múltiples elementos para que los muestre todos juntos?"
   ]
  },
  {
   "cell_type": "code",
   "execution_count": null,
   "id": "3ae3812e",
   "metadata": {},
   "outputs": [],
   "source": [
    "# Comparemos las precipitaciones de Enero y Febrero en el mismo objeto ax\n",
    "\n",
    "fig, ax = plt.subplots(figsize=(12, 3))  \n",
    "ax.plot(df_lluvias.index, df_lluvias['Jan'], label='Precipitaciones de enero')\n",
    "ax.plot(df_lluvias.index, df_lluvias['Feb'], label='Precipitaciones de febrero', color='C1')"
   ]
  },
  {
   "cell_type": "code",
   "execution_count": null,
   "id": "be02d804",
   "metadata": {},
   "outputs": [],
   "source": [
    "maximo_enero = df_lluvias['Jan'].max()\n",
    "maximo_febrero =  df_lluvias['Feb'].max()\n",
    "ax.axhline(maximo_enero, color='red', linestyle='--', alpha=0.5,    linewidth=3, label='Máxima de enero')\n",
    "ax.axhline(maximo_febrero, color='red', linestyle=':', alpha=0.5, linewidth=3, label='Máxima de febrero')"
   ]
  },
  {
   "cell_type": "code",
   "execution_count": null,
   "id": "d94863f4",
   "metadata": {},
   "outputs": [],
   "source": [
    "ax.set_xlabel('Año')  \n",
    "ax.set_ylabel('Precipitación (mm.)') \n",
    "ax.set_title('Precipitaciones de enero y febrero')\n",
    "ax.set_xlim(df_lluvias.index[0], df_lluvias.index[-1])\n",
    "ax.legend()"
   ]
  },
  {
   "cell_type": "code",
   "execution_count": null,
   "id": "ea6fcb48",
   "metadata": {},
   "outputs": [],
   "source": [
    "fig"
   ]
  }
 ],
 "metadata": {
  "kernelspec": {
   "display_name": "Python 3 (ipykernel)",
   "language": "python",
   "name": "python3"
  },
  "language_info": {
   "codemirror_mode": {
    "name": "ipython",
    "version": 3
   },
   "file_extension": ".py",
   "mimetype": "text/x-python",
   "name": "python",
   "nbconvert_exporter": "python",
   "pygments_lexer": "ipython3",
   "version": "3.9.7"
  }
 },
 "nbformat": 4,
 "nbformat_minor": 5
}
