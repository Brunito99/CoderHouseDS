{
 "cells": [
  {
   "cell_type": "markdown",
   "id": "84d30028",
   "metadata": {},
   "source": [
    "# OOP  "
   ]
  },
  {
   "cell_type": "code",
   "execution_count": 2,
   "id": "16c621e5",
   "metadata": {},
   "outputs": [],
   "source": [
    "class Cliente:\n",
    "    \n",
    "    def __init__(self, i):\n",
    "        print(f'Se inicializa  {i}')\n",
    "        self.id = i\n",
    "        \n",
    "    def nombre_cliente(self, nombre):\n",
    "        self.nombre = nombre\n",
    "        print(\"El nombre del cliente es:\" + nombre)"
   ]
  },
  {
   "cell_type": "code",
   "execution_count": 3,
   "id": "d081578f-bc2a-43e8-adc0-fb59caea573b",
   "metadata": {},
   "outputs": [
    {
     "name": "stdout",
     "output_type": "stream",
     "text": [
      "Se inicializa  10\n"
     ]
    }
   ],
   "source": [
    "cliente_1 = Cliente(10)"
   ]
  },
  {
   "cell_type": "code",
   "execution_count": 4,
   "id": "87795b0b-49a5-46a4-bce8-71573b556156",
   "metadata": {},
   "outputs": [
    {
     "name": "stdout",
     "output_type": "stream",
     "text": [
      "El nombre del cliente es:Laura\n"
     ]
    }
   ],
   "source": [
    "cliente_1.nombre_cliente(\"Laura\")"
   ]
  },
  {
   "cell_type": "code",
   "execution_count": 5,
   "id": "bfc0cd65-b434-4230-b448-b941a1e16735",
   "metadata": {},
   "outputs": [
    {
     "data": {
      "text/plain": [
       "10"
      ]
     },
     "execution_count": 5,
     "metadata": {},
     "output_type": "execute_result"
    }
   ],
   "source": [
    "cliente_1.id"
   ]
  },
  {
   "cell_type": "code",
   "execution_count": 6,
   "id": "a17c8fd7-548e-4653-a92a-a781e9ca9668",
   "metadata": {},
   "outputs": [
    {
     "data": {
      "text/plain": [
       "'Laura'"
      ]
     },
     "execution_count": 6,
     "metadata": {},
     "output_type": "execute_result"
    }
   ],
   "source": [
    "cliente_1.nombre"
   ]
  },
  {
   "cell_type": "code",
   "execution_count": 17,
   "id": "cdfeded3",
   "metadata": {},
   "outputs": [],
   "source": [
    "#1) Examinar la clase Temperatura\n",
    "#2) Crear un metodo que genere la temperatura de kelvin\n",
    "#3) Construir los demas metodos de C a F y otro que obtenga la temperatura de C.\n",
    "\n",
    "class Temperatura:\n",
    "    \n",
    "    def __init__(self, i = \"\"):\n",
    "        \n",
    "        if i == \"\":\n",
    "            print(f'No hay temperatura:  {i}')\n",
    "        else:\n",
    "            print(f'La temperatura propuesta es {i} C')\n",
    "            self.temperature_c = i\n",
    "        \n",
    "    def Kelvin(self):\n",
    "        self.temperatura_k = self.temperature_c + 273.15\n",
    "        print(self.temperatura_k)\n",
    "\n",
    "    def Fahrenheit(self):\n",
    "        self.temperatura_f = 9.0/5.0 * self.temperature_c +32\n",
    "        print(self.temperatura_f)"
   ]
  },
  {
   "cell_type": "code",
   "execution_count": 18,
   "id": "9af1537d-ad2b-4a44-a735-485110d196a9",
   "metadata": {},
   "outputs": [
    {
     "name": "stdout",
     "output_type": "stream",
     "text": [
      "La temperatura propuesta es 30 C\n"
     ]
    }
   ],
   "source": [
    "temp = Temperatura(30)"
   ]
  },
  {
   "cell_type": "code",
   "execution_count": 19,
   "id": "7aa512fa-c139-4e0b-8914-bbde7fb0f37e",
   "metadata": {},
   "outputs": [
    {
     "name": "stdout",
     "output_type": "stream",
     "text": [
      "303.15\n"
     ]
    }
   ],
   "source": [
    "temp.Kelvin()"
   ]
  },
  {
   "cell_type": "code",
   "execution_count": 20,
   "id": "f3c35dbb-b9b5-4d1d-8305-38adb1faff43",
   "metadata": {},
   "outputs": [
    {
     "name": "stdout",
     "output_type": "stream",
     "text": [
      "86.0\n"
     ]
    }
   ],
   "source": [
    "temp.Fahrenheit()"
   ]
  },
  {
   "cell_type": "code",
   "execution_count": 29,
   "id": "5375019e-a2b7-4507-a021-8441b45b88d0",
   "metadata": {},
   "outputs": [],
   "source": [
    "temp1.temperature_c = 10"
   ]
  },
  {
   "cell_type": "code",
   "execution_count": 23,
   "id": "82b9bf1c-a825-4942-a64b-b4f3844ad72b",
   "metadata": {},
   "outputs": [
    {
     "ename": "AttributeError",
     "evalue": "'Temperatura' object has no attribute 'temperature_f'",
     "output_type": "error",
     "traceback": [
      "\u001b[1;31m---------------------------------------------------------------------------\u001b[0m",
      "\u001b[1;31mAttributeError\u001b[0m                            Traceback (most recent call last)",
      "Input \u001b[1;32mIn [23]\u001b[0m, in \u001b[0;36m<cell line: 1>\u001b[1;34m()\u001b[0m\n\u001b[1;32m----> 1\u001b[0m \u001b[43mtemp1\u001b[49m\u001b[38;5;241;43m.\u001b[39;49m\u001b[43mtemperature_f\u001b[49m\n",
      "\u001b[1;31mAttributeError\u001b[0m: 'Temperatura' object has no attribute 'temperature_f'"
     ]
    }
   ],
   "source": [
    "temp1.temperature_f"
   ]
  },
  {
   "cell_type": "markdown",
   "id": "4346c7fd",
   "metadata": {},
   "source": [
    "## Series de tiempo"
   ]
  },
  {
   "cell_type": "markdown",
   "id": "90d36147",
   "metadata": {},
   "source": [
    "Entender la clase TimeStamp"
   ]
  },
  {
   "cell_type": "markdown",
   "id": "7e5c4372",
   "metadata": {},
   "source": [
    "https://pandas.pydata.org/docs/reference/api/pandas.Timestamp.html "
   ]
  },
  {
   "cell_type": "code",
   "execution_count": 24,
   "id": "5f344ada",
   "metadata": {},
   "outputs": [
    {
     "name": "stdout",
     "output_type": "stream",
     "text": [
      "<class 'pandas._libs.tslibs.timestamps.Timestamp'>\n",
      "2018-01-15 15:45:00\n"
     ]
    }
   ],
   "source": [
    "import pandas as pd\n",
    "ts = pd.to_datetime('2018-01-15 3:45pm')\n",
    "print(type(ts))\n",
    "print(ts)"
   ]
  },
  {
   "cell_type": "code",
   "execution_count": 27,
   "id": "ebc8c1f7-7cc0-4284-b35a-feea70b96723",
   "metadata": {},
   "outputs": [
    {
     "data": {
      "text/plain": [
       "3"
      ]
     },
     "execution_count": 27,
     "metadata": {},
     "output_type": "execute_result"
    }
   ],
   "source": [
    "ts.week"
   ]
  },
  {
   "cell_type": "code",
   "execution_count": 28,
   "id": "15f6f34e-3818-49a9-8267-9ee477d30d0e",
   "metadata": {},
   "outputs": [
    {
     "data": {
      "text/plain": [
       "'Monday'"
      ]
     },
     "execution_count": 28,
     "metadata": {},
     "output_type": "execute_result"
    }
   ],
   "source": [
    "ts.day_name()"
   ]
  }
 ],
 "metadata": {
  "kernelspec": {
   "display_name": "Python 3 (ipykernel)",
   "language": "python",
   "name": "python3"
  },
  "language_info": {
   "codemirror_mode": {
    "name": "ipython",
    "version": 3
   },
   "file_extension": ".py",
   "mimetype": "text/x-python",
   "name": "python",
   "nbconvert_exporter": "python",
   "pygments_lexer": "ipython3",
   "version": "3.9.7"
  }
 },
 "nbformat": 4,
 "nbformat_minor": 5
}
