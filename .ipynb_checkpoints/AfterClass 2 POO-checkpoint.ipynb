{
 "cells": [
  {
   "cell_type": "code",
   "execution_count": 4,
   "id": "6df7061d",
   "metadata": {},
   "outputs": [],
   "source": [
    "class Cliente:\n",
    "    # Mi primer clase\n",
    "    pass"
   ]
  },
  {
   "cell_type": "code",
   "execution_count": 2,
   "id": "6868cf5c",
   "metadata": {},
   "outputs": [],
   "source": [
    "cliente_1 = Cliente()"
   ]
  },
  {
   "cell_type": "code",
   "execution_count": 3,
   "id": "b8931001",
   "metadata": {},
   "outputs": [
    {
     "data": {
      "text/plain": [
       "__main__.Cliente"
      ]
     },
     "execution_count": 3,
     "metadata": {},
     "output_type": "execute_result"
    }
   ],
   "source": [
    "type(cliente_1)"
   ]
  },
  {
   "cell_type": "code",
   "execution_count": 6,
   "id": "223acba3",
   "metadata": {},
   "outputs": [],
   "source": [
    "import pandas as pd\n",
    "df = pd.DataFrame({\"A\": [1,2], \"B\":[3,4]})"
   ]
  },
  {
   "cell_type": "code",
   "execution_count": 7,
   "id": "fc90f874",
   "metadata": {},
   "outputs": [
    {
     "data": {
      "text/plain": [
       "pandas.core.frame.DataFrame"
      ]
     },
     "execution_count": 7,
     "metadata": {},
     "output_type": "execute_result"
    }
   ],
   "source": [
    "type(df)"
   ]
  },
  {
   "cell_type": "markdown",
   "id": "afac03cd",
   "metadata": {},
   "source": [
    "**Un metodo** es una función con la excepción de que vive dentro de una clase y ademas dentro de su función forzosamente se pone la palabra **\"self\"**."
   ]
  },
  {
   "cell_type": "code",
   "execution_count": 10,
   "id": "dae444aa",
   "metadata": {},
   "outputs": [],
   "source": [
    "class Cliente:\n",
    "    \n",
    "    def nombre_cliente(self, nombre):\n",
    "        #Self le indica que se refiere al futuro yo que usaremos. \n",
    "        #Es decir, para saber que esa función le pertenece a una clase, se debe referir a quien le pertenece en un futuro.\n",
    "        # por ejemplo clase_2.nombre_cliente pero en vez de decir un objeto especifico, self es un generico.\n",
    "        print(\"Mi nombre es:\" + nombre)"
   ]
  },
  {
   "cell_type": "code",
   "execution_count": 14,
   "id": "4b99e7d9",
   "metadata": {},
   "outputs": [],
   "source": [
    "def nombre_cliente(nombre):\n",
    "        print(\"Mi nombre es:\" + nombre)"
   ]
  },
  {
   "cell_type": "code",
   "execution_count": 11,
   "id": "3b45701c",
   "metadata": {},
   "outputs": [],
   "source": [
    "cliente_2 = Cliente()"
   ]
  },
  {
   "cell_type": "code",
   "execution_count": 13,
   "id": "3cb5e8cf",
   "metadata": {},
   "outputs": [
    {
     "name": "stdout",
     "output_type": "stream",
     "text": [
      "Mi nombre es:Mariana\n"
     ]
    }
   ],
   "source": [
    "cliente_2.nombre_cliente(\"Mariana\")"
   ]
  },
  {
   "cell_type": "code",
   "execution_count": 16,
   "id": "f733ad1d",
   "metadata": {},
   "outputs": [],
   "source": [
    "class Cliente:\n",
    "    \n",
    "    def nombre_cliente(self, nombre):\n",
    "        self.nombre = nombre\n",
    "        print(\"El nombre del cliente es:\" + nombre)"
   ]
  },
  {
   "cell_type": "code",
   "execution_count": 17,
   "id": "acd28d8e",
   "metadata": {},
   "outputs": [],
   "source": [
    "cliente_3 = Cliente()"
   ]
  },
  {
   "cell_type": "code",
   "execution_count": 18,
   "id": "502e18c2",
   "metadata": {},
   "outputs": [
    {
     "name": "stdout",
     "output_type": "stream",
     "text": [
      "El nombre del cliente es:Laura\n"
     ]
    }
   ],
   "source": [
    "cliente_3.nombre_cliente(\"Laura\")"
   ]
  },
  {
   "cell_type": "code",
   "execution_count": 19,
   "id": "b7abe965",
   "metadata": {},
   "outputs": [
    {
     "data": {
      "text/plain": [
       "'Laura'"
      ]
     },
     "execution_count": 19,
     "metadata": {},
     "output_type": "execute_result"
    }
   ],
   "source": [
    "cliente_3.nombre"
   ]
  },
  {
   "cell_type": "markdown",
   "id": "740ead36",
   "metadata": {},
   "source": [
    "### Mezcla de objetos"
   ]
  },
  {
   "cell_type": "code",
   "execution_count": 20,
   "id": "f0e664ee",
   "metadata": {},
   "outputs": [],
   "source": [
    "import pandas as pd\n",
    "import numpy as np"
   ]
  },
  {
   "cell_type": "code",
   "execution_count": 21,
   "id": "b4190712",
   "metadata": {},
   "outputs": [],
   "source": [
    "df = pd.DataFrame({\"A\": [1,2], \"B\":[3,4]})"
   ]
  },
  {
   "cell_type": "code",
   "execution_count": 22,
   "id": "10c70d39",
   "metadata": {},
   "outputs": [
    {
     "data": {
      "text/html": [
       "<div>\n",
       "<style scoped>\n",
       "    .dataframe tbody tr th:only-of-type {\n",
       "        vertical-align: middle;\n",
       "    }\n",
       "\n",
       "    .dataframe tbody tr th {\n",
       "        vertical-align: top;\n",
       "    }\n",
       "\n",
       "    .dataframe thead th {\n",
       "        text-align: right;\n",
       "    }\n",
       "</style>\n",
       "<table border=\"1\" class=\"dataframe\">\n",
       "  <thead>\n",
       "    <tr style=\"text-align: right;\">\n",
       "      <th></th>\n",
       "      <th>A</th>\n",
       "      <th>B</th>\n",
       "    </tr>\n",
       "  </thead>\n",
       "  <tbody>\n",
       "    <tr>\n",
       "      <th>0</th>\n",
       "      <td>1</td>\n",
       "      <td>3</td>\n",
       "    </tr>\n",
       "    <tr>\n",
       "      <th>1</th>\n",
       "      <td>2</td>\n",
       "      <td>4</td>\n",
       "    </tr>\n",
       "  </tbody>\n",
       "</table>\n",
       "</div>"
      ],
      "text/plain": [
       "   A  B\n",
       "0  1  3\n",
       "1  2  4"
      ]
     },
     "execution_count": 22,
     "metadata": {},
     "output_type": "execute_result"
    }
   ],
   "source": [
    "df.head()"
   ]
  },
  {
   "cell_type": "code",
   "execution_count": 23,
   "id": "32e7fe12",
   "metadata": {},
   "outputs": [
    {
     "ename": "AttributeError",
     "evalue": "module 'pandas' has no attribute 'random'",
     "output_type": "error",
     "traceback": [
      "\u001b[1;31m---------------------------------------------------------------------------\u001b[0m",
      "\u001b[1;31mAttributeError\u001b[0m                            Traceback (most recent call last)",
      "Input \u001b[1;32mIn [23]\u001b[0m, in \u001b[0;36m<cell line: 1>\u001b[1;34m()\u001b[0m\n\u001b[1;32m----> 1\u001b[0m \u001b[43mpd\u001b[49m\u001b[38;5;241;43m.\u001b[39;49m\u001b[43mrandom\u001b[49m\u001b[38;5;241m.\u001b[39mstandard_normal(\u001b[38;5;241m10\u001b[39m)\n",
      "File \u001b[1;32m~\\Miniconda3\\lib\\site-packages\\pandas\\__init__.py:261\u001b[0m, in \u001b[0;36m__getattr__\u001b[1;34m(name)\u001b[0m\n\u001b[0;32m    257\u001b[0m     \u001b[38;5;28;01mfrom\u001b[39;00m \u001b[38;5;21;01mpandas\u001b[39;00m\u001b[38;5;21;01m.\u001b[39;00m\u001b[38;5;21;01mcore\u001b[39;00m\u001b[38;5;21;01m.\u001b[39;00m\u001b[38;5;21;01marrays\u001b[39;00m\u001b[38;5;21;01m.\u001b[39;00m\u001b[38;5;21;01msparse\u001b[39;00m \u001b[38;5;28;01mimport\u001b[39;00m SparseArray \u001b[38;5;28;01mas\u001b[39;00m _SparseArray\n\u001b[0;32m    259\u001b[0m     \u001b[38;5;28;01mreturn\u001b[39;00m _SparseArray\n\u001b[1;32m--> 261\u001b[0m \u001b[38;5;28;01mraise\u001b[39;00m \u001b[38;5;167;01mAttributeError\u001b[39;00m(\u001b[38;5;124mf\u001b[39m\u001b[38;5;124m\"\u001b[39m\u001b[38;5;124mmodule \u001b[39m\u001b[38;5;124m'\u001b[39m\u001b[38;5;124mpandas\u001b[39m\u001b[38;5;124m'\u001b[39m\u001b[38;5;124m has no attribute \u001b[39m\u001b[38;5;124m'\u001b[39m\u001b[38;5;132;01m{\u001b[39;00mname\u001b[38;5;132;01m}\u001b[39;00m\u001b[38;5;124m'\u001b[39m\u001b[38;5;124m\"\u001b[39m)\n",
      "\u001b[1;31mAttributeError\u001b[0m: module 'pandas' has no attribute 'random'"
     ]
    }
   ],
   "source": [
    "pd.random.standard_normal(10)"
   ]
  },
  {
   "cell_type": "code",
   "execution_count": 30,
   "id": "c84f3c2f",
   "metadata": {},
   "outputs": [
    {
     "data": {
      "text/plain": [
       "-1.7136151455948574"
      ]
     },
     "execution_count": 30,
     "metadata": {},
     "output_type": "execute_result"
    }
   ],
   "source": [
    "np.random.standard_normal(10).sum()"
   ]
  },
  {
   "cell_type": "code",
   "execution_count": 25,
   "id": "93397fdb",
   "metadata": {},
   "outputs": [
    {
     "data": {
      "text/plain": [
       "pandas.core.frame.DataFrame"
      ]
     },
     "execution_count": 25,
     "metadata": {},
     "output_type": "execute_result"
    }
   ],
   "source": [
    "type(df.head())"
   ]
  },
  {
   "cell_type": "code",
   "execution_count": 32,
   "id": "fd75d515",
   "metadata": {},
   "outputs": [
    {
     "data": {
      "text/plain": [
       "10"
      ]
     },
     "execution_count": 32,
     "metadata": {},
     "output_type": "execute_result"
    }
   ],
   "source": [
    "df.values.sum()"
   ]
  },
  {
   "cell_type": "code",
   "execution_count": 34,
   "id": "b294ac50",
   "metadata": {},
   "outputs": [
    {
     "name": "stdout",
     "output_type": "stream",
     "text": [
      "{'A': {0: 1, 1: 2}, 'B': {0: 3, 1: 4}} <class 'dict'>\n"
     ]
    }
   ],
   "source": [
    "print(df.to_dict(), type(df.to_dict()))\n"
   ]
  }
 ],
 "metadata": {
  "kernelspec": {
   "display_name": "Python 3 (ipykernel)",
   "language": "python",
   "name": "python3"
  },
  "language_info": {
   "codemirror_mode": {
    "name": "ipython",
    "version": 3
   },
   "file_extension": ".py",
   "mimetype": "text/x-python",
   "name": "python",
   "nbconvert_exporter": "python",
   "pygments_lexer": "ipython3",
   "version": "3.9.7"
  }
 },
 "nbformat": 4,
 "nbformat_minor": 5
}
