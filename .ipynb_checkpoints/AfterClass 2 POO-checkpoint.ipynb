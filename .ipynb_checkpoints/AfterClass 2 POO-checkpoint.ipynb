{
 "cells": [
  {
   "cell_type": "code",
   "execution_count": null,
   "id": "6df7061d",
   "metadata": {},
   "outputs": [],
   "source": [
    "class Cliente:\n",
    "    # Mi primer clase\n",
    "    pass"
   ]
  },
  {
   "cell_type": "code",
   "execution_count": null,
   "id": "6868cf5c",
   "metadata": {},
   "outputs": [],
   "source": [
    "cliente_1 = Cliente()"
   ]
  },
  {
   "cell_type": "code",
   "execution_count": null,
   "id": "b8931001",
   "metadata": {},
   "outputs": [],
   "source": [
    "type(cliente_1)"
   ]
  },
  {
   "cell_type": "markdown",
   "id": "afac03cd",
   "metadata": {},
   "source": [
    "**Un metodo** es una función con la excepción de que vive dentro de una clase y ademas dentro de su función forzosamente se pone la palabra **\"self\"**."
   ]
  },
  {
   "cell_type": "code",
   "execution_count": null,
   "id": "dae444aa",
   "metadata": {},
   "outputs": [],
   "source": [
    "class Cliente:\n",
    "    \n",
    "    def nombre_cliente(self, nombre):\n",
    "        #Self le indica que se refiere al futuro yo que usaremos. \n",
    "        #Es decir, para saber que esa función le pertenece a una clase, se debe referir a quien le pertenece en un futuro.\n",
    "        # por ejemplo clase_2.nombre_cliente pero en vez de decir un objeto especifico, self es un generico.\n",
    "        print(\"El nombre del cliente es:\" + nombre)"
   ]
  },
  {
   "cell_type": "code",
   "execution_count": null,
   "id": "3b45701c",
   "metadata": {},
   "outputs": [],
   "source": [
    "cliente_2 = Cliente()"
   ]
  },
  {
   "cell_type": "code",
   "execution_count": null,
   "id": "3cb5e8cf",
   "metadata": {},
   "outputs": [],
   "source": [
    "cliente_2.nombre_cliente(\"Mariana\")"
   ]
  },
  {
   "cell_type": "code",
   "execution_count": null,
   "id": "f733ad1d",
   "metadata": {},
   "outputs": [],
   "source": [
    "class Cliente:\n",
    "    \n",
    "    def nombre_cliente(self, nombre):\n",
    "        self.nombre = nombre\n",
    "        print(\"El nombre del cliente es:\" + nombre)"
   ]
  },
  {
   "cell_type": "code",
   "execution_count": null,
   "id": "acd28d8e",
   "metadata": {},
   "outputs": [],
   "source": [
    "cliente_3 = Cliente()"
   ]
  },
  {
   "cell_type": "code",
   "execution_count": null,
   "id": "502e18c2",
   "metadata": {},
   "outputs": [],
   "source": [
    "cliente_3.nombre_cliente(\"Laura\")"
   ]
  },
  {
   "cell_type": "code",
   "execution_count": null,
   "id": "b7abe965",
   "metadata": {},
   "outputs": [],
   "source": [
    "cliente_3.nombre"
   ]
  },
  {
   "cell_type": "markdown",
   "id": "740ead36",
   "metadata": {},
   "source": [
    "### Mezcla de objetos"
   ]
  },
  {
   "cell_type": "code",
   "execution_count": null,
   "id": "f0e664ee",
   "metadata": {},
   "outputs": [],
   "source": [
    "import pandas as pd\n",
    "import numpy as np"
   ]
  },
  {
   "cell_type": "code",
   "execution_count": null,
   "id": "b4190712",
   "metadata": {},
   "outputs": [],
   "source": [
    "df = pd.DataFrame({\"A\": [1,2], \"B\":[3,4]})"
   ]
  },
  {
   "cell_type": "code",
   "execution_count": null,
   "id": "10c70d39",
   "metadata": {},
   "outputs": [],
   "source": [
    "df.head()"
   ]
  },
  {
   "cell_type": "code",
   "execution_count": null,
   "id": "32e7fe12",
   "metadata": {},
   "outputs": [],
   "source": [
    "pd.random.standard_normal(10)"
   ]
  },
  {
   "cell_type": "code",
   "execution_count": null,
   "id": "c84f3c2f",
   "metadata": {},
   "outputs": [],
   "source": [
    "np.random.standard_normal(10)"
   ]
  },
  {
   "cell_type": "code",
   "execution_count": null,
   "id": "93397fdb",
   "metadata": {},
   "outputs": [],
   "source": [
    "type(df.head())"
   ]
  },
  {
   "cell_type": "code",
   "execution_count": null,
   "id": "b294ac50",
   "metadata": {},
   "outputs": [],
   "source": [
    "print(df.to_dict(), \"   \", type(df.to_dict()))\n"
   ]
  }
 ],
 "metadata": {
  "kernelspec": {
   "display_name": "Python 3 (ipykernel)",
   "language": "python",
   "name": "python3"
  },
  "language_info": {
   "codemirror_mode": {
    "name": "ipython",
    "version": 3
   },
   "file_extension": ".py",
   "mimetype": "text/x-python",
   "name": "python",
   "nbconvert_exporter": "python",
   "pygments_lexer": "ipython3",
   "version": "3.9.7"
  }
 },
 "nbformat": 4,
 "nbformat_minor": 5
}
