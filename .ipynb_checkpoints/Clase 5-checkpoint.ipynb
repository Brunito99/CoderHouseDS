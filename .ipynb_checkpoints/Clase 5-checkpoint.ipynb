{
 "cells": [
  {
   "cell_type": "markdown",
   "id": "99712307",
   "metadata": {},
   "source": [
    "# Introducción a la manipulación de datos con Pandas (Parte I)\n"
   ]
  },
  {
   "cell_type": "code",
   "execution_count": 2,
   "id": "ea73d243",
   "metadata": {},
   "outputs": [],
   "source": [
    "# Accediendo a la libreria\n",
    "import pandas as pd"
   ]
  },
  {
   "cell_type": "markdown",
   "id": "ec331feb",
   "metadata": {},
   "source": [
    "### Objetivo de la clase:\n",
    "\n",
    "* Tener un primer acercamiento con la libreria Pandas.\n",
    "* Conocer las estructuras de datos en Pandas.\n",
    "* Comprender el uso de Pandas para operaciones básicas."
   ]
  },
  {
   "cell_type": "markdown",
   "id": "e6ea637b",
   "metadata": {},
   "source": [
    "### Las estructuras de datos en Pandas"
   ]
  },
  {
   "cell_type": "markdown",
   "id": "12088fae",
   "metadata": {},
   "source": [
    "**Panda Series**"
   ]
  },
  {
   "cell_type": "code",
   "execution_count": 3,
   "id": "bd18cee7",
   "metadata": {},
   "outputs": [
    {
     "name": "stdout",
     "output_type": "stream",
     "text": [
      "0    50\n",
      "1    52\n",
      "2    54\n",
      "3    56\n",
      "4    58\n",
      "5    60\n",
      "6    62\n",
      "7    64\n",
      "8    66\n",
      "9    68\n",
      "dtype: int64\n"
     ]
    }
   ],
   "source": [
    "Numeros = range(50, 70, 2)\n",
    "Numeros_serie = pd.Series(Numeros)\n",
    "print(Numeros_serie)"
   ]
  },
  {
   "cell_type": "code",
   "execution_count": 4,
   "id": "3e537912",
   "metadata": {},
   "outputs": [
    {
     "name": "stdout",
     "output_type": "stream",
     "text": [
      "54\n"
     ]
    }
   ],
   "source": [
    "print(Numeros_serie[2])"
   ]
  },
  {
   "cell_type": "markdown",
   "id": "bd1203c4",
   "metadata": {},
   "source": [
    "**Panda Series**"
   ]
  },
  {
   "cell_type": "code",
   "execution_count": 6,
   "id": "fc365963",
   "metadata": {},
   "outputs": [
    {
     "name": "stdout",
     "output_type": "stream",
     "text": [
      "RangeIndex(start=0, stop=10, step=1)\n"
     ]
    }
   ],
   "source": [
    "print(Numeros_serie.index)"
   ]
  },
  {
   "cell_type": "code",
   "execution_count": 8,
   "id": "9cf70bcf",
   "metadata": {},
   "outputs": [
    {
     "name": "stdout",
     "output_type": "stream",
     "text": [
      "[50 52 54 56 58 60 62 64 66 68]\n"
     ]
    }
   ],
   "source": [
    "print(Numeros_serie.values)"
   ]
  },
  {
   "cell_type": "markdown",
   "id": "600ad386",
   "metadata": {},
   "source": [
    "Tanto el arreglo de índices como el de valores pueden modificarse\n"
   ]
  },
  {
   "cell_type": "code",
   "execution_count": 11,
   "id": "0704036a",
   "metadata": {},
   "outputs": [
    {
     "data": {
      "text/plain": [
       "primero    50\n",
       "segundo    52\n",
       "tercero    54\n",
       "cuarto     56\n",
       "quinto     58\n",
       "sexto      60\n",
       "séptimo    62\n",
       "octavo     64\n",
       "noveno     66\n",
       "décimo     68\n",
       "dtype: int64"
      ]
     },
     "execution_count": 11,
     "metadata": {},
     "output_type": "execute_result"
    }
   ],
   "source": [
    "Numeros_en_texto = ['primero','segundo','tercero','cuarto','quinto','sexto','séptimo','octavo','noveno','décimo']\n",
    "Numeros_serie_2 = pd.Series(Numeros,index=Numeros_en_texto)\n",
    "Numeros_serie_2"
   ]
  },
  {
   "cell_type": "markdown",
   "id": "54ce8d87",
   "metadata": {},
   "source": [
    "**Panda Data Frame**"
   ]
  },
  {
   "cell_type": "markdown",
   "id": "10f00b47",
   "metadata": {},
   "source": [
    "Construyendo un Data Frame manualmente"
   ]
  },
  {
   "cell_type": "code",
   "execution_count": 26,
   "id": "49359622",
   "metadata": {},
   "outputs": [
    {
     "name": "stdout",
     "output_type": "stream",
     "text": [
      "                           Peso   Precio\n",
      "A4 3.0 Quattro 4dr manual  3583  $33,430\n",
      "A4 3.0 Quattro 4dr auto    3627  $34,480\n",
      "A6 3.0 4dr                 3561  $36,640\n",
      "A6 3.0 Quattro 4dr         3880  $39,640\n",
      "A4 3.0 convertible 2dr     3814  $42,490\n"
     ]
    }
   ],
   "source": [
    "# Primera forma\n",
    "\n",
    "# Se construyen primero las listas para luego convertirse en Pandas.Series\n",
    "modelos = ['A4 3.0 Quattro 4dr manual',\n",
    " 'A4 3.0 Quattro 4dr auto',\n",
    " 'A6 3.0 4dr',\n",
    " 'A6 3.0 Quattro 4dr',\n",
    " 'A4 3.0 convertible 2dr']\n",
    "peso = [3583, 3627, 3561, 3880, 3814]\n",
    "precios = ['$33,430', '$34,480', '$36,640', '$39,640', '$42,490']\n",
    "\n",
    "# Se asigna el mismo indice a ambos series\n",
    "Autos_peso = pd.Series(peso,index=modelos)\n",
    "Autos_precio = pd.Series(precios,index=modelos) \n",
    "\n",
    "#Construir el Data Frame a partir de las Series en un dictionary:\n",
    "Autos = pd.DataFrame({'Peso':Autos_peso,'Precio':Autos_precio})\n",
    "\n",
    "\n",
    "print(Autos)"
   ]
  },
  {
   "cell_type": "code",
   "execution_count": 14,
   "id": "314b171b",
   "metadata": {},
   "outputs": [
    {
     "name": "stdout",
     "output_type": "stream",
     "text": [
      "   Peso   Precio\n",
      "0  3583  $33,430\n",
      "1  3627  $34,480\n",
      "2  3561  $36,640\n",
      "3  3880  $39,640\n",
      "4  3814  $42,490\n"
     ]
    }
   ],
   "source": [
    "# Segunda forma (sin indices)\n",
    "DAutos = {'Peso': peso, 'Precio':precios}\n",
    "\n",
    "Autos = pd.DataFrame(DAutos)\n",
    "\n",
    "print(Autos)"
   ]
  },
  {
   "cell_type": "markdown",
   "id": "7025368d",
   "metadata": {},
   "source": [
    "##### Haciendo un tablero de Ajedrez"
   ]
  },
  {
   "cell_type": "code",
   "execution_count": 16,
   "id": "0c96f2cb",
   "metadata": {},
   "outputs": [
    {
     "data": {
      "text/html": [
       "<div>\n",
       "<style scoped>\n",
       "    .dataframe tbody tr th:only-of-type {\n",
       "        vertical-align: middle;\n",
       "    }\n",
       "\n",
       "    .dataframe tbody tr th {\n",
       "        vertical-align: top;\n",
       "    }\n",
       "\n",
       "    .dataframe thead th {\n",
       "        text-align: right;\n",
       "    }\n",
       "</style>\n",
       "<table border=\"1\" class=\"dataframe\">\n",
       "  <thead>\n",
       "    <tr style=\"text-align: right;\">\n",
       "      <th></th>\n",
       "      <th>1</th>\n",
       "      <th>2</th>\n",
       "      <th>3</th>\n",
       "      <th>4</th>\n",
       "      <th>5</th>\n",
       "      <th>6</th>\n",
       "      <th>7</th>\n",
       "      <th>8</th>\n",
       "    </tr>\n",
       "  </thead>\n",
       "  <tbody>\n",
       "    <tr>\n",
       "      <th>A</th>\n",
       "      <td>1</td>\n",
       "      <td>2</td>\n",
       "      <td>3</td>\n",
       "      <td>4</td>\n",
       "      <td>5</td>\n",
       "      <td>6</td>\n",
       "      <td>7</td>\n",
       "      <td>8</td>\n",
       "    </tr>\n",
       "    <tr>\n",
       "      <th>B</th>\n",
       "      <td>9</td>\n",
       "      <td>10</td>\n",
       "      <td>11</td>\n",
       "      <td>12</td>\n",
       "      <td>13</td>\n",
       "      <td>14</td>\n",
       "      <td>15</td>\n",
       "      <td>16</td>\n",
       "    </tr>\n",
       "    <tr>\n",
       "      <th>C</th>\n",
       "      <td>17</td>\n",
       "      <td>18</td>\n",
       "      <td>19</td>\n",
       "      <td>20</td>\n",
       "      <td>21</td>\n",
       "      <td>22</td>\n",
       "      <td>23</td>\n",
       "      <td>24</td>\n",
       "    </tr>\n",
       "    <tr>\n",
       "      <th>D</th>\n",
       "      <td>25</td>\n",
       "      <td>26</td>\n",
       "      <td>27</td>\n",
       "      <td>28</td>\n",
       "      <td>29</td>\n",
       "      <td>30</td>\n",
       "      <td>31</td>\n",
       "      <td>32</td>\n",
       "    </tr>\n",
       "    <tr>\n",
       "      <th>E</th>\n",
       "      <td>33</td>\n",
       "      <td>34</td>\n",
       "      <td>35</td>\n",
       "      <td>36</td>\n",
       "      <td>37</td>\n",
       "      <td>38</td>\n",
       "      <td>39</td>\n",
       "      <td>40</td>\n",
       "    </tr>\n",
       "    <tr>\n",
       "      <th>F</th>\n",
       "      <td>41</td>\n",
       "      <td>42</td>\n",
       "      <td>43</td>\n",
       "      <td>44</td>\n",
       "      <td>45</td>\n",
       "      <td>46</td>\n",
       "      <td>47</td>\n",
       "      <td>48</td>\n",
       "    </tr>\n",
       "    <tr>\n",
       "      <th>G</th>\n",
       "      <td>49</td>\n",
       "      <td>50</td>\n",
       "      <td>51</td>\n",
       "      <td>52</td>\n",
       "      <td>53</td>\n",
       "      <td>54</td>\n",
       "      <td>55</td>\n",
       "      <td>56</td>\n",
       "    </tr>\n",
       "    <tr>\n",
       "      <th>H</th>\n",
       "      <td>57</td>\n",
       "      <td>58</td>\n",
       "      <td>59</td>\n",
       "      <td>60</td>\n",
       "      <td>61</td>\n",
       "      <td>62</td>\n",
       "      <td>63</td>\n",
       "      <td>64</td>\n",
       "    </tr>\n",
       "  </tbody>\n",
       "</table>\n",
       "</div>"
      ],
      "text/plain": [
       "    1   2   3   4   5   6   7   8\n",
       "A   1   2   3   4   5   6   7   8\n",
       "B   9  10  11  12  13  14  15  16\n",
       "C  17  18  19  20  21  22  23  24\n",
       "D  25  26  27  28  29  30  31  32\n",
       "E  33  34  35  36  37  38  39  40\n",
       "F  41  42  43  44  45  46  47  48\n",
       "G  49  50  51  52  53  54  55  56\n",
       "H  57  58  59  60  61  62  63  64"
      ]
     },
     "execution_count": 16,
     "metadata": {},
     "output_type": "execute_result"
    }
   ],
   "source": [
    "import numpy as np\n",
    "\n",
    "Ajedrez_64 = np.arange(1,65).reshape(8,8)\n",
    "Ajedrez_df = pd.DataFrame(\n",
    "Ajedrez_64,\n",
    "columns=range(1,9),\n",
    "index=['A','B','C','D','E','F','G','H']\n",
    ") \n",
    "Ajedrez_df"
   ]
  },
  {
   "cell_type": "markdown",
   "id": "f4671d76",
   "metadata": {},
   "source": [
    "### Selección de elementos"
   ]
  },
  {
   "cell_type": "markdown",
   "id": "0c7d263d",
   "metadata": {},
   "source": [
    "**Seleccionando una Serie**"
   ]
  },
  {
   "cell_type": "markdown",
   "id": "15f8bf4f",
   "metadata": {},
   "source": [
    "Con Pandas, existen tres formas de seleccionar elementos:"
   ]
  },
  {
   "cell_type": "code",
   "execution_count": 19,
   "id": "1cc6a104",
   "metadata": {},
   "outputs": [
    {
     "name": "stdout",
     "output_type": "stream",
     "text": [
      "primero    50\n",
      "segundo    52\n",
      "tercero    54\n",
      "cuarto     56\n",
      "quinto     58\n",
      "sexto      60\n",
      "séptimo    62\n",
      "octavo     64\n",
      "noveno     66\n",
      "décimo     68\n",
      "dtype: int64\n"
     ]
    }
   ],
   "source": [
    "print(Numeros_serie_2)"
   ]
  },
  {
   "cell_type": "code",
   "execution_count": 17,
   "id": "ba9d6b37",
   "metadata": {},
   "outputs": [
    {
     "data": {
      "text/plain": [
       "58"
      ]
     },
     "execution_count": 17,
     "metadata": {},
     "output_type": "execute_result"
    }
   ],
   "source": [
    "#Mediante el índice\n",
    "Numeros_serie_2['quinto']"
   ]
  },
  {
   "cell_type": "code",
   "execution_count": 20,
   "id": "710e7005",
   "metadata": {},
   "outputs": [
    {
     "data": {
      "text/plain": [
       "58"
      ]
     },
     "execution_count": 20,
     "metadata": {},
     "output_type": "execute_result"
    }
   ],
   "source": [
    "#Mediante el método loc()\n",
    "Numeros_serie_2.loc['quinto']"
   ]
  },
  {
   "cell_type": "code",
   "execution_count": 24,
   "id": "4cc3f814",
   "metadata": {},
   "outputs": [
    {
     "data": {
      "text/plain": [
       "58"
      ]
     },
     "execution_count": 24,
     "metadata": {},
     "output_type": "execute_result"
    }
   ],
   "source": [
    "#Mediante el método iloc()\n",
    "Numeros_serie_2.iloc[4] # Recordemos que primero: [0], segundo: [1]..."
   ]
  },
  {
   "cell_type": "markdown",
   "id": "b972272d",
   "metadata": {},
   "source": [
    "**Seleccionando un Data Frame**"
   ]
  },
  {
   "cell_type": "markdown",
   "id": "8e720b79",
   "metadata": {},
   "source": [
    "También podemos seleccionar partes específicas del Data Frame, como índices, columnas y valores"
   ]
  },
  {
   "cell_type": "code",
   "execution_count": 27,
   "id": "c6a8464f",
   "metadata": {},
   "outputs": [
    {
     "data": {
      "text/plain": [
       "Index(['A4 3.0 Quattro 4dr manual', 'A4 3.0 Quattro 4dr auto', 'A6 3.0 4dr',\n",
       "       'A6 3.0 Quattro 4dr', 'A4 3.0 convertible 2dr'],\n",
       "      dtype='object')"
      ]
     },
     "execution_count": 27,
     "metadata": {},
     "output_type": "execute_result"
    }
   ],
   "source": [
    "Autos.index"
   ]
  },
  {
   "cell_type": "code",
   "execution_count": 28,
   "id": "c8e8d88b",
   "metadata": {},
   "outputs": [
    {
     "data": {
      "text/plain": [
       "Index(['Peso', 'Precio'], dtype='object')"
      ]
     },
     "execution_count": 28,
     "metadata": {},
     "output_type": "execute_result"
    }
   ],
   "source": [
    "Autos.columns"
   ]
  },
  {
   "cell_type": "code",
   "execution_count": 29,
   "id": "7372a95f",
   "metadata": {},
   "outputs": [
    {
     "data": {
      "text/plain": [
       "array([[3583, '$33,430'],\n",
       "       [3627, '$34,480'],\n",
       "       [3561, '$36,640'],\n",
       "       [3880, '$39,640'],\n",
       "       [3814, '$42,490']], dtype=object)"
      ]
     },
     "execution_count": 29,
     "metadata": {},
     "output_type": "execute_result"
    }
   ],
   "source": [
    "Autos.values"
   ]
  },
  {
   "cell_type": "code",
   "execution_count": 33,
   "id": "d1a87e7c",
   "metadata": {},
   "outputs": [
    {
     "data": {
      "text/plain": [
       "A4 3.0 Quattro 4dr manual    3583\n",
       "A4 3.0 Quattro 4dr auto      3627\n",
       "A6 3.0 4dr                   3561\n",
       "A6 3.0 Quattro 4dr           3880\n",
       "A4 3.0 convertible 2dr       3814\n",
       "Name: Peso, dtype: int64"
      ]
     },
     "execution_count": 33,
     "metadata": {},
     "output_type": "execute_result"
    }
   ],
   "source": [
    "# Seleccionando columna\n",
    "Autos['Peso']"
   ]
  },
  {
   "cell_type": "code",
   "execution_count": 34,
   "id": "06246962",
   "metadata": {},
   "outputs": [
    {
     "data": {
      "text/plain": [
       "pandas.core.series.Series"
      ]
     },
     "execution_count": 34,
     "metadata": {},
     "output_type": "execute_result"
    }
   ],
   "source": [
    "#Al seleccionar una columna, automaticamente lo entiende como pandas Series\n",
    "type(Autos['Peso'])"
   ]
  },
  {
   "cell_type": "code",
   "execution_count": 42,
   "id": "23fb3918",
   "metadata": {},
   "outputs": [
    {
     "data": {
      "text/plain": [
       "array([3627, '$34,480'], dtype=object)"
      ]
     },
     "execution_count": 42,
     "metadata": {},
     "output_type": "execute_result"
    }
   ],
   "source": [
    "# Selección de fila\n",
    "Autos.values[1]"
   ]
  },
  {
   "cell_type": "code",
   "execution_count": 40,
   "id": "7ff687e8",
   "metadata": {},
   "outputs": [
    {
     "data": {
      "text/plain": [
       "Peso         3627\n",
       "Precio    $34,480\n",
       "Name: A4 3.0 Quattro 4dr auto, dtype: object"
      ]
     },
     "execution_count": 40,
     "metadata": {},
     "output_type": "execute_result"
    }
   ],
   "source": [
    "#Selección de fila\n",
    "Autos.loc['A4 3.0 Quattro 4dr auto',]"
   ]
  },
  {
   "cell_type": "markdown",
   "id": "bf278aae",
   "metadata": {},
   "source": [
    "Selección con condición"
   ]
  },
  {
   "cell_type": "markdown",
   "id": "0cf2d214",
   "metadata": {},
   "source": [
    "Supongamos que necesitamos un listado de precios de aquellos autos con peso mayor a 3600 🤔"
   ]
  },
  {
   "cell_type": "code",
   "execution_count": 43,
   "id": "b99aa8e4",
   "metadata": {},
   "outputs": [
    {
     "data": {
      "text/plain": [
       "A4 3.0 Quattro 4dr auto    $34,480\n",
       "A6 3.0 Quattro 4dr         $39,640\n",
       "A4 3.0 convertible 2dr     $42,490\n",
       "Name: Precio, dtype: object"
      ]
     },
     "execution_count": 43,
     "metadata": {},
     "output_type": "execute_result"
    }
   ],
   "source": [
    "Autos.loc[Autos.Peso >= 3600,'Precio']"
   ]
  },
  {
   "cell_type": "markdown",
   "id": "c2729d2e",
   "metadata": {},
   "source": [
    "#### Operaciones básicas con datos en Pandas"
   ]
  },
  {
   "cell_type": "code",
   "execution_count": 44,
   "id": "9bca0822",
   "metadata": {},
   "outputs": [
    {
     "data": {
      "text/html": [
       "<div>\n",
       "<style scoped>\n",
       "    .dataframe tbody tr th:only-of-type {\n",
       "        vertical-align: middle;\n",
       "    }\n",
       "\n",
       "    .dataframe tbody tr th {\n",
       "        vertical-align: top;\n",
       "    }\n",
       "\n",
       "    .dataframe thead th {\n",
       "        text-align: right;\n",
       "    }\n",
       "</style>\n",
       "<table border=\"1\" class=\"dataframe\">\n",
       "  <thead>\n",
       "    <tr style=\"text-align: right;\">\n",
       "      <th></th>\n",
       "      <th>A4 3.0 Quattro 4dr manual</th>\n",
       "      <th>A4 3.0 Quattro 4dr auto</th>\n",
       "      <th>A6 3.0 4dr</th>\n",
       "      <th>A6 3.0 Quattro 4dr</th>\n",
       "      <th>A4 3.0 convertible 2dr</th>\n",
       "    </tr>\n",
       "  </thead>\n",
       "  <tbody>\n",
       "    <tr>\n",
       "      <th>Peso</th>\n",
       "      <td>3583</td>\n",
       "      <td>3627</td>\n",
       "      <td>3561</td>\n",
       "      <td>3880</td>\n",
       "      <td>3814</td>\n",
       "    </tr>\n",
       "    <tr>\n",
       "      <th>Precio</th>\n",
       "      <td>$33,430</td>\n",
       "      <td>$34,480</td>\n",
       "      <td>$36,640</td>\n",
       "      <td>$39,640</td>\n",
       "      <td>$42,490</td>\n",
       "    </tr>\n",
       "  </tbody>\n",
       "</table>\n",
       "</div>"
      ],
      "text/plain": [
       "       A4 3.0 Quattro 4dr manual A4 3.0 Quattro 4dr auto A6 3.0 4dr  \\\n",
       "Peso                        3583                    3627       3561   \n",
       "Precio                   $33,430                 $34,480    $36,640   \n",
       "\n",
       "       A6 3.0 Quattro 4dr A4 3.0 convertible 2dr  \n",
       "Peso                 3880                   3814  \n",
       "Precio            $39,640                $42,490  "
      ]
     },
     "execution_count": 44,
     "metadata": {},
     "output_type": "execute_result"
    }
   ],
   "source": [
    "# Transpuesta\n",
    "\n",
    "Autos.T"
   ]
  },
  {
   "cell_type": "code",
   "execution_count": 48,
   "id": "cae092dc",
   "metadata": {},
   "outputs": [
    {
     "data": {
      "text/plain": [
       "primero    51\n",
       "segundo    53\n",
       "tercero    55\n",
       "cuarto     57\n",
       "quinto     59\n",
       "sexto      61\n",
       "séptimo    63\n",
       "octavo     65\n",
       "noveno     67\n",
       "décimo     69\n",
       "dtype: int64"
      ]
     },
     "execution_count": 48,
     "metadata": {},
     "output_type": "execute_result"
    }
   ],
   "source": [
    "#Las funciones vectorizadas o ufuncs de Numpy pueden realizarse también sobre Data Frames y Series.\n",
    "#Tras ejecutar la operación se conservan los índices.\n",
    "\n",
    "Numeros_3 = range(51,70,2)\n",
    "Numeros_serie_3 = pd.Series(Numeros_3,index=Numeros_en_texto)\n",
    "Numeros_serie_3"
   ]
  },
  {
   "cell_type": "code",
   "execution_count": 50,
   "id": "016d4e9d",
   "metadata": {},
   "outputs": [
    {
     "data": {
      "text/html": [
       "<div>\n",
       "<style scoped>\n",
       "    .dataframe tbody tr th:only-of-type {\n",
       "        vertical-align: middle;\n",
       "    }\n",
       "\n",
       "    .dataframe tbody tr th {\n",
       "        vertical-align: top;\n",
       "    }\n",
       "\n",
       "    .dataframe thead th {\n",
       "        text-align: right;\n",
       "    }\n",
       "</style>\n",
       "<table border=\"1\" class=\"dataframe\">\n",
       "  <thead>\n",
       "    <tr style=\"text-align: right;\">\n",
       "      <th></th>\n",
       "      <th>Peso</th>\n",
       "      <th>Largo</th>\n",
       "    </tr>\n",
       "  </thead>\n",
       "  <tbody>\n",
       "    <tr>\n",
       "      <th>A4 3.0 Quattro 4dr manual</th>\n",
       "      <td>3583</td>\n",
       "      <td>179</td>\n",
       "    </tr>\n",
       "    <tr>\n",
       "      <th>A4 3.0 Quattro 4dr auto</th>\n",
       "      <td>3627</td>\n",
       "      <td>179</td>\n",
       "    </tr>\n",
       "    <tr>\n",
       "      <th>A6 3.0 4dr</th>\n",
       "      <td>3561</td>\n",
       "      <td>192</td>\n",
       "    </tr>\n",
       "    <tr>\n",
       "      <th>A6 3.0 Quattro 4dr</th>\n",
       "      <td>3880</td>\n",
       "      <td>192</td>\n",
       "    </tr>\n",
       "    <tr>\n",
       "      <th>A4 3.0 convertible 2dr</th>\n",
       "      <td>3814</td>\n",
       "      <td>180</td>\n",
       "    </tr>\n",
       "  </tbody>\n",
       "</table>\n",
       "</div>"
      ],
      "text/plain": [
       "                           Peso  Largo\n",
       "A4 3.0 Quattro 4dr manual  3583    179\n",
       "A4 3.0 Quattro 4dr auto    3627    179\n",
       "A6 3.0 4dr                 3561    192\n",
       "A6 3.0 Quattro 4dr         3880    192\n",
       "A4 3.0 convertible 2dr     3814    180"
      ]
     },
     "execution_count": 50,
     "metadata": {},
     "output_type": "execute_result"
    }
   ],
   "source": [
    "#Normal\n",
    "\n",
    "largo = [179, 179, 192, 192, 180]\n",
    "Autos_2 = pd.DataFrame({'Peso':peso,'Largo':largo},index=modelos)\n",
    "Autos_2"
   ]
  },
  {
   "cell_type": "code",
   "execution_count": 57,
   "id": "b1ad7d16",
   "metadata": {},
   "outputs": [
    {
     "data": {
      "text/html": [
       "<div>\n",
       "<style scoped>\n",
       "    .dataframe tbody tr th:only-of-type {\n",
       "        vertical-align: middle;\n",
       "    }\n",
       "\n",
       "    .dataframe tbody tr th {\n",
       "        vertical-align: top;\n",
       "    }\n",
       "\n",
       "    .dataframe thead th {\n",
       "        text-align: right;\n",
       "    }\n",
       "</style>\n",
       "<table border=\"1\" class=\"dataframe\">\n",
       "  <thead>\n",
       "    <tr style=\"text-align: right;\">\n",
       "      <th></th>\n",
       "      <th>Peso</th>\n",
       "      <th>Largo</th>\n",
       "    </tr>\n",
       "  </thead>\n",
       "  <tbody>\n",
       "    <tr>\n",
       "      <th>A4 3.0 Quattro 4dr manual</th>\n",
       "      <td>0.000000</td>\n",
       "      <td>0.000000</td>\n",
       "    </tr>\n",
       "    <tr>\n",
       "      <th>A4 3.0 Quattro 4dr auto</th>\n",
       "      <td>1.228021</td>\n",
       "      <td>0.000000</td>\n",
       "    </tr>\n",
       "    <tr>\n",
       "      <th>A6 3.0 4dr</th>\n",
       "      <td>-0.614011</td>\n",
       "      <td>7.262570</td>\n",
       "    </tr>\n",
       "    <tr>\n",
       "      <th>A6 3.0 Quattro 4dr</th>\n",
       "      <td>8.289143</td>\n",
       "      <td>7.262570</td>\n",
       "    </tr>\n",
       "    <tr>\n",
       "      <th>A4 3.0 convertible 2dr</th>\n",
       "      <td>6.447111</td>\n",
       "      <td>0.558659</td>\n",
       "    </tr>\n",
       "  </tbody>\n",
       "</table>\n",
       "</div>"
      ],
      "text/plain": [
       "                               Peso     Largo\n",
       "A4 3.0 Quattro 4dr manual  0.000000  0.000000\n",
       "A4 3.0 Quattro 4dr auto    1.228021  0.000000\n",
       "A6 3.0 4dr                -0.614011  7.262570\n",
       "A6 3.0 Quattro 4dr         8.289143  7.262570\n",
       "A4 3.0 convertible 2dr     6.447111  0.558659"
      ]
     },
     "execution_count": 57,
     "metadata": {},
     "output_type": "execute_result"
    }
   ],
   "source": [
    "(Autos_2 / Autos_2.iloc[0]-1) * 100"
   ]
  },
  {
   "cell_type": "code",
   "execution_count": 58,
   "id": "61710cae",
   "metadata": {},
   "outputs": [
    {
     "data": {
      "text/plain": [
       "primero    50\n",
       "segundo    52\n",
       "tercero    54\n",
       "cuarto     56\n",
       "quinto     58\n",
       "sexto      60\n",
       "séptimo    62\n",
       "octavo     64\n",
       "noveno     66\n",
       "décimo     68\n",
       "dtype: int64"
      ]
     },
     "execution_count": 58,
     "metadata": {},
     "output_type": "execute_result"
    }
   ],
   "source": [
    "Numeros_serie_2.add(Numeros_serie_3)"
   ]
  },
  {
   "cell_type": "code",
   "execution_count": 62,
   "id": "c26fd7b6",
   "metadata": {},
   "outputs": [
    {
     "name": "stdout",
     "output_type": "stream",
     "text": [
      "quinto     58\n",
      "sexto      60\n",
      "séptimo    62\n",
      "dtype: int64\n",
      "#########################\n",
      "sexto      61\n",
      "séptimo    63\n",
      "octavo     65\n",
      "dtype: int64\n"
     ]
    }
   ],
   "source": [
    "Numeros_serie_2_porcion = Numeros_serie_2[4:7]\n",
    "Numeros_serie_3_porcion = Numeros_serie_3[5:8]\n",
    "print(Numeros_serie_2_porcion)\n",
    "print(\"#########################\")\n",
    "print(Numeros_serie_3_porcion)"
   ]
  },
  {
   "cell_type": "code",
   "execution_count": 63,
   "id": "23a78048",
   "metadata": {},
   "outputs": [
    {
     "name": "stdout",
     "output_type": "stream",
     "text": [
      "octavo       NaN\n",
      "quinto       NaN\n",
      "sexto      121.0\n",
      "séptimo    125.0\n",
      "dtype: float64\n"
     ]
    }
   ],
   "source": [
    "print(Numeros_serie_2_porcion + Numeros_serie_3_porcion)"
   ]
  },
  {
   "cell_type": "markdown",
   "id": "ef5b566e",
   "metadata": {},
   "source": [
    "### Lidiando con valores faltantes"
   ]
  },
  {
   "cell_type": "code",
   "execution_count": 64,
   "id": "630dd72e",
   "metadata": {},
   "outputs": [
    {
     "data": {
      "text/plain": [
       "octavo      65.0\n",
       "quinto      58.0\n",
       "sexto      121.0\n",
       "séptimo    125.0\n",
       "dtype: float64"
      ]
     },
     "execution_count": 64,
     "metadata": {},
     "output_type": "execute_result"
    }
   ],
   "source": [
    "#La mayoría de las operaciones de Pandas admiten un parámetro fill_value,\n",
    "#que indica el valor a insertar en caso de resultar un NaN.\n",
    "\n",
    "Numeros_serie_2_porcion.add(Numeros_serie_3_porcion, fill_value=0)"
   ]
  },
  {
   "cell_type": "markdown",
   "id": "e68a2b00",
   "metadata": {},
   "source": [
    "**Propagación de valores faltantes**"
   ]
  },
  {
   "cell_type": "code",
   "execution_count": 67,
   "id": "ec4963b4",
   "metadata": {},
   "outputs": [
    {
     "data": {
      "text/plain": [
       "float"
      ]
     },
     "execution_count": 67,
     "metadata": {},
     "output_type": "execute_result"
    }
   ],
   "source": [
    "valor_nan = np.nan # asi se declara Nan\n",
    "type(valor_nan)"
   ]
  },
  {
   "cell_type": "code",
   "execution_count": 68,
   "id": "af256e72",
   "metadata": {},
   "outputs": [
    {
     "data": {
      "text/plain": [
       "nan"
      ]
     },
     "execution_count": 68,
     "metadata": {},
     "output_type": "execute_result"
    }
   ],
   "source": [
    "2 * valor_nan"
   ]
  },
  {
   "cell_type": "code",
   "execution_count": 69,
   "id": "db1cc6fc",
   "metadata": {},
   "outputs": [
    {
     "data": {
      "text/plain": [
       "2.0"
      ]
     },
     "execution_count": 69,
     "metadata": {},
     "output_type": "execute_result"
    }
   ],
   "source": [
    "np.nanprod([2,valor_nan])"
   ]
  },
  {
   "cell_type": "markdown",
   "id": "bd6a2c5c",
   "metadata": {},
   "source": [
    "En caso de Pandas"
   ]
  },
  {
   "cell_type": "markdown",
   "id": "70ec6c2d",
   "metadata": {},
   "source": [
    "* Estos valores podrían no ser adecuados para algunos algoritmos de Data Science. \n",
    "* Por ello, deben ser manejados correctamente.\n",
    "* Pandas nos provee de herramientas para trabajar con ellos.\n"
   ]
  },
  {
   "cell_type": "code",
   "execution_count": 71,
   "id": "19b49015",
   "metadata": {},
   "outputs": [
    {
     "data": {
      "text/plain": [
       "octavo       NaN\n",
       "quinto       NaN\n",
       "sexto      121.0\n",
       "séptimo    125.0\n",
       "dtype: float64"
      ]
     },
     "execution_count": 71,
     "metadata": {},
     "output_type": "execute_result"
    }
   ],
   "source": [
    "Numeros_nan = Numeros_serie_2_porcion + Numeros_serie_3_porcion\n",
    "Numeros_nan"
   ]
  },
  {
   "cell_type": "code",
   "execution_count": 76,
   "id": "b072cb87",
   "metadata": {},
   "outputs": [
    {
     "data": {
      "text/plain": [
       "octavo      True\n",
       "quinto      True\n",
       "sexto      False\n",
       "séptimo    False\n",
       "dtype: bool"
      ]
     },
     "execution_count": 76,
     "metadata": {},
     "output_type": "execute_result"
    }
   ],
   "source": [
    "#Podemos marcarlos\n",
    "Numeros_nan.isnull()"
   ]
  },
  {
   "cell_type": "code",
   "execution_count": 73,
   "id": "2dae53cb",
   "metadata": {},
   "outputs": [
    {
     "name": "stdout",
     "output_type": "stream",
     "text": [
      "<class 'pandas.core.series.Series'>\n",
      "Index: 4 entries, octavo to séptimo\n",
      "Series name: None\n",
      "Non-Null Count  Dtype  \n",
      "--------------  -----  \n",
      "2 non-null      float64\n",
      "dtypes: float64(1)\n",
      "memory usage: 236.0+ bytes\n"
     ]
    }
   ],
   "source": [
    "#Saber cuantos son\n",
    "Numeros_nan.info()"
   ]
  },
  {
   "cell_type": "code",
   "execution_count": 74,
   "id": "a4a946d0",
   "metadata": {},
   "outputs": [
    {
     "data": {
      "text/plain": [
       "octavo       0.0\n",
       "quinto       0.0\n",
       "sexto      121.0\n",
       "séptimo    125.0\n",
       "dtype: float64"
      ]
     },
     "execution_count": 74,
     "metadata": {},
     "output_type": "execute_result"
    }
   ],
   "source": [
    "# Podemos reemplazarlos\n",
    "Numeros_nan.fillna(0)"
   ]
  },
  {
   "cell_type": "code",
   "execution_count": 75,
   "id": "85a367ee",
   "metadata": {},
   "outputs": [
    {
     "data": {
      "text/plain": [
       "sexto      121.0\n",
       "séptimo    125.0\n",
       "dtype: float64"
      ]
     },
     "execution_count": 75,
     "metadata": {},
     "output_type": "execute_result"
    }
   ],
   "source": [
    "# Podemos eliminarlos\n",
    "Numeros_nan.dropna()"
   ]
  }
 ],
 "metadata": {
  "kernelspec": {
   "display_name": "Python 3 (ipykernel)",
   "language": "python",
   "name": "python3"
  },
  "language_info": {
   "codemirror_mode": {
    "name": "ipython",
    "version": 3
   },
   "file_extension": ".py",
   "mimetype": "text/x-python",
   "name": "python",
   "nbconvert_exporter": "python",
   "pygments_lexer": "ipython3",
   "version": "3.9.7"
  }
 },
 "nbformat": 4,
 "nbformat_minor": 5
}
