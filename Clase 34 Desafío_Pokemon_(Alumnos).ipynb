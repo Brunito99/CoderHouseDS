{
  "cells": [
    {
      "cell_type": "markdown",
      "metadata": {
        "id": "dotCm65973DI"
      },
      "source": [
        "# Desafío: Pokemon.csv"
      ]
    },
    {
      "cell_type": "markdown",
      "metadata": {
        "id": "3XRMWA4873DO"
      },
      "source": [
        "Parte 1"
      ]
    },
    {
      "cell_type": "markdown",
      "metadata": {
        "id": "TO053Yb273DP"
      },
      "source": [
        "1. Importar las librerías"
      ]
    },
    {
      "cell_type": "code",
      "execution_count": 1,
      "metadata": {
        "id": "Ak5xjWGJ73DP"
      },
      "outputs": [],
      "source": [
        "#Completar\n",
        "import pandas as pd\n",
        "import numpy as np\n",
        "import matplotlib.pyplot as plt\n",
        "import seaborn as sns\n",
        "from matplotlib.ticker import FormatStrFormatter"
      ]
    },
    {
      "cell_type": "markdown",
      "metadata": {
        "id": "zCEfTBZZ73DR"
      },
      "source": [
        "2. Importar el archivo csv"
      ]
    },
    {
      "cell_type": "code",
      "execution_count": 3,
      "metadata": {
        "colab": {
          "base_uri": "https://localhost:8080/",
          "height": 421
        },
        "id": "06BCiG8C73DR",
        "outputId": "5c514c9d-d337-49c0-b740-e0c2e51efc63"
      },
      "outputs": [
        {
          "output_type": "execute_result",
          "data": {
            "text/plain": [
              "                     abilities  against_bug  against_dark  against_dragon  \\\n",
              "0  ['Overgrow', 'Chlorophyll']          1.0           1.0             1.0   \n",
              "1  ['Overgrow', 'Chlorophyll']          1.0           1.0             1.0   \n",
              "2  ['Overgrow', 'Chlorophyll']          1.0           1.0             1.0   \n",
              "3     ['Blaze', 'Solar Power']          0.5           1.0             1.0   \n",
              "4     ['Blaze', 'Solar Power']          0.5           1.0             1.0   \n",
              "\n",
              "   against_electric  against_fairy  against_fight  against_fire  \\\n",
              "0               0.5            0.5            0.5           2.0   \n",
              "1               0.5            0.5            0.5           2.0   \n",
              "2               0.5            0.5            0.5           2.0   \n",
              "3               1.0            0.5            1.0           0.5   \n",
              "4               1.0            0.5            1.0           0.5   \n",
              "\n",
              "   against_flying  against_ghost  ...  percentage_male  pokedex_number  \\\n",
              "0             2.0            1.0  ...             88.1               1   \n",
              "1             2.0            1.0  ...             88.1               2   \n",
              "2             2.0            1.0  ...             88.1               3   \n",
              "3             1.0            1.0  ...             88.1               4   \n",
              "4             1.0            1.0  ...             88.1               5   \n",
              "\n",
              "   sp_attack  sp_defense  speed  type1   type2  weight_kg  generation  \\\n",
              "0         65          65     45  grass  poison        6.9           1   \n",
              "1         80          80     60  grass  poison       13.0           1   \n",
              "2        122         120     80  grass  poison      100.0           1   \n",
              "3         60          50     65   fire     NaN        8.5           1   \n",
              "4         80          65     80   fire     NaN       19.0           1   \n",
              "\n",
              "   is_legendary  \n",
              "0             0  \n",
              "1             0  \n",
              "2             0  \n",
              "3             0  \n",
              "4             0  \n",
              "\n",
              "[5 rows x 41 columns]"
            ],
            "text/html": [
              "\n",
              "  <div id=\"df-a6ce8988-83b7-476a-8275-75c8d76134e0\">\n",
              "    <div class=\"colab-df-container\">\n",
              "      <div>\n",
              "<style scoped>\n",
              "    .dataframe tbody tr th:only-of-type {\n",
              "        vertical-align: middle;\n",
              "    }\n",
              "\n",
              "    .dataframe tbody tr th {\n",
              "        vertical-align: top;\n",
              "    }\n",
              "\n",
              "    .dataframe thead th {\n",
              "        text-align: right;\n",
              "    }\n",
              "</style>\n",
              "<table border=\"1\" class=\"dataframe\">\n",
              "  <thead>\n",
              "    <tr style=\"text-align: right;\">\n",
              "      <th></th>\n",
              "      <th>abilities</th>\n",
              "      <th>against_bug</th>\n",
              "      <th>against_dark</th>\n",
              "      <th>against_dragon</th>\n",
              "      <th>against_electric</th>\n",
              "      <th>against_fairy</th>\n",
              "      <th>against_fight</th>\n",
              "      <th>against_fire</th>\n",
              "      <th>against_flying</th>\n",
              "      <th>against_ghost</th>\n",
              "      <th>...</th>\n",
              "      <th>percentage_male</th>\n",
              "      <th>pokedex_number</th>\n",
              "      <th>sp_attack</th>\n",
              "      <th>sp_defense</th>\n",
              "      <th>speed</th>\n",
              "      <th>type1</th>\n",
              "      <th>type2</th>\n",
              "      <th>weight_kg</th>\n",
              "      <th>generation</th>\n",
              "      <th>is_legendary</th>\n",
              "    </tr>\n",
              "  </thead>\n",
              "  <tbody>\n",
              "    <tr>\n",
              "      <th>0</th>\n",
              "      <td>['Overgrow', 'Chlorophyll']</td>\n",
              "      <td>1.0</td>\n",
              "      <td>1.0</td>\n",
              "      <td>1.0</td>\n",
              "      <td>0.5</td>\n",
              "      <td>0.5</td>\n",
              "      <td>0.5</td>\n",
              "      <td>2.0</td>\n",
              "      <td>2.0</td>\n",
              "      <td>1.0</td>\n",
              "      <td>...</td>\n",
              "      <td>88.1</td>\n",
              "      <td>1</td>\n",
              "      <td>65</td>\n",
              "      <td>65</td>\n",
              "      <td>45</td>\n",
              "      <td>grass</td>\n",
              "      <td>poison</td>\n",
              "      <td>6.9</td>\n",
              "      <td>1</td>\n",
              "      <td>0</td>\n",
              "    </tr>\n",
              "    <tr>\n",
              "      <th>1</th>\n",
              "      <td>['Overgrow', 'Chlorophyll']</td>\n",
              "      <td>1.0</td>\n",
              "      <td>1.0</td>\n",
              "      <td>1.0</td>\n",
              "      <td>0.5</td>\n",
              "      <td>0.5</td>\n",
              "      <td>0.5</td>\n",
              "      <td>2.0</td>\n",
              "      <td>2.0</td>\n",
              "      <td>1.0</td>\n",
              "      <td>...</td>\n",
              "      <td>88.1</td>\n",
              "      <td>2</td>\n",
              "      <td>80</td>\n",
              "      <td>80</td>\n",
              "      <td>60</td>\n",
              "      <td>grass</td>\n",
              "      <td>poison</td>\n",
              "      <td>13.0</td>\n",
              "      <td>1</td>\n",
              "      <td>0</td>\n",
              "    </tr>\n",
              "    <tr>\n",
              "      <th>2</th>\n",
              "      <td>['Overgrow', 'Chlorophyll']</td>\n",
              "      <td>1.0</td>\n",
              "      <td>1.0</td>\n",
              "      <td>1.0</td>\n",
              "      <td>0.5</td>\n",
              "      <td>0.5</td>\n",
              "      <td>0.5</td>\n",
              "      <td>2.0</td>\n",
              "      <td>2.0</td>\n",
              "      <td>1.0</td>\n",
              "      <td>...</td>\n",
              "      <td>88.1</td>\n",
              "      <td>3</td>\n",
              "      <td>122</td>\n",
              "      <td>120</td>\n",
              "      <td>80</td>\n",
              "      <td>grass</td>\n",
              "      <td>poison</td>\n",
              "      <td>100.0</td>\n",
              "      <td>1</td>\n",
              "      <td>0</td>\n",
              "    </tr>\n",
              "    <tr>\n",
              "      <th>3</th>\n",
              "      <td>['Blaze', 'Solar Power']</td>\n",
              "      <td>0.5</td>\n",
              "      <td>1.0</td>\n",
              "      <td>1.0</td>\n",
              "      <td>1.0</td>\n",
              "      <td>0.5</td>\n",
              "      <td>1.0</td>\n",
              "      <td>0.5</td>\n",
              "      <td>1.0</td>\n",
              "      <td>1.0</td>\n",
              "      <td>...</td>\n",
              "      <td>88.1</td>\n",
              "      <td>4</td>\n",
              "      <td>60</td>\n",
              "      <td>50</td>\n",
              "      <td>65</td>\n",
              "      <td>fire</td>\n",
              "      <td>NaN</td>\n",
              "      <td>8.5</td>\n",
              "      <td>1</td>\n",
              "      <td>0</td>\n",
              "    </tr>\n",
              "    <tr>\n",
              "      <th>4</th>\n",
              "      <td>['Blaze', 'Solar Power']</td>\n",
              "      <td>0.5</td>\n",
              "      <td>1.0</td>\n",
              "      <td>1.0</td>\n",
              "      <td>1.0</td>\n",
              "      <td>0.5</td>\n",
              "      <td>1.0</td>\n",
              "      <td>0.5</td>\n",
              "      <td>1.0</td>\n",
              "      <td>1.0</td>\n",
              "      <td>...</td>\n",
              "      <td>88.1</td>\n",
              "      <td>5</td>\n",
              "      <td>80</td>\n",
              "      <td>65</td>\n",
              "      <td>80</td>\n",
              "      <td>fire</td>\n",
              "      <td>NaN</td>\n",
              "      <td>19.0</td>\n",
              "      <td>1</td>\n",
              "      <td>0</td>\n",
              "    </tr>\n",
              "  </tbody>\n",
              "</table>\n",
              "<p>5 rows × 41 columns</p>\n",
              "</div>\n",
              "      <button class=\"colab-df-convert\" onclick=\"convertToInteractive('df-a6ce8988-83b7-476a-8275-75c8d76134e0')\"\n",
              "              title=\"Convert this dataframe to an interactive table.\"\n",
              "              style=\"display:none;\">\n",
              "        \n",
              "  <svg xmlns=\"http://www.w3.org/2000/svg\" height=\"24px\"viewBox=\"0 0 24 24\"\n",
              "       width=\"24px\">\n",
              "    <path d=\"M0 0h24v24H0V0z\" fill=\"none\"/>\n",
              "    <path d=\"M18.56 5.44l.94 2.06.94-2.06 2.06-.94-2.06-.94-.94-2.06-.94 2.06-2.06.94zm-11 1L8.5 8.5l.94-2.06 2.06-.94-2.06-.94L8.5 2.5l-.94 2.06-2.06.94zm10 10l.94 2.06.94-2.06 2.06-.94-2.06-.94-.94-2.06-.94 2.06-2.06.94z\"/><path d=\"M17.41 7.96l-1.37-1.37c-.4-.4-.92-.59-1.43-.59-.52 0-1.04.2-1.43.59L10.3 9.45l-7.72 7.72c-.78.78-.78 2.05 0 2.83L4 21.41c.39.39.9.59 1.41.59.51 0 1.02-.2 1.41-.59l7.78-7.78 2.81-2.81c.8-.78.8-2.07 0-2.86zM5.41 20L4 18.59l7.72-7.72 1.47 1.35L5.41 20z\"/>\n",
              "  </svg>\n",
              "      </button>\n",
              "      \n",
              "  <style>\n",
              "    .colab-df-container {\n",
              "      display:flex;\n",
              "      flex-wrap:wrap;\n",
              "      gap: 12px;\n",
              "    }\n",
              "\n",
              "    .colab-df-convert {\n",
              "      background-color: #E8F0FE;\n",
              "      border: none;\n",
              "      border-radius: 50%;\n",
              "      cursor: pointer;\n",
              "      display: none;\n",
              "      fill: #1967D2;\n",
              "      height: 32px;\n",
              "      padding: 0 0 0 0;\n",
              "      width: 32px;\n",
              "    }\n",
              "\n",
              "    .colab-df-convert:hover {\n",
              "      background-color: #E2EBFA;\n",
              "      box-shadow: 0px 1px 2px rgba(60, 64, 67, 0.3), 0px 1px 3px 1px rgba(60, 64, 67, 0.15);\n",
              "      fill: #174EA6;\n",
              "    }\n",
              "\n",
              "    [theme=dark] .colab-df-convert {\n",
              "      background-color: #3B4455;\n",
              "      fill: #D2E3FC;\n",
              "    }\n",
              "\n",
              "    [theme=dark] .colab-df-convert:hover {\n",
              "      background-color: #434B5C;\n",
              "      box-shadow: 0px 1px 3px 1px rgba(0, 0, 0, 0.15);\n",
              "      filter: drop-shadow(0px 1px 2px rgba(0, 0, 0, 0.3));\n",
              "      fill: #FFFFFF;\n",
              "    }\n",
              "  </style>\n",
              "\n",
              "      <script>\n",
              "        const buttonEl =\n",
              "          document.querySelector('#df-a6ce8988-83b7-476a-8275-75c8d76134e0 button.colab-df-convert');\n",
              "        buttonEl.style.display =\n",
              "          google.colab.kernel.accessAllowed ? 'block' : 'none';\n",
              "\n",
              "        async function convertToInteractive(key) {\n",
              "          const element = document.querySelector('#df-a6ce8988-83b7-476a-8275-75c8d76134e0');\n",
              "          const dataTable =\n",
              "            await google.colab.kernel.invokeFunction('convertToInteractive',\n",
              "                                                     [key], {});\n",
              "          if (!dataTable) return;\n",
              "\n",
              "          const docLinkHtml = 'Like what you see? Visit the ' +\n",
              "            '<a target=\"_blank\" href=https://colab.research.google.com/notebooks/data_table.ipynb>data table notebook</a>'\n",
              "            + ' to learn more about interactive tables.';\n",
              "          element.innerHTML = '';\n",
              "          dataTable['output_type'] = 'display_data';\n",
              "          await google.colab.output.renderOutput(dataTable, element);\n",
              "          const docLink = document.createElement('div');\n",
              "          docLink.innerHTML = docLinkHtml;\n",
              "          element.appendChild(docLink);\n",
              "        }\n",
              "      </script>\n",
              "    </div>\n",
              "  </div>\n",
              "  "
            ]
          },
          "metadata": {},
          "execution_count": 3
        }
      ],
      "source": [
        "#Completar\n",
        "df = pd.read_csv(\"/content/pokemon.csv\")\n",
        "df.head()"
      ]
    },
    {
      "cell_type": "markdown",
      "metadata": {
        "id": "hLVMuQeA73DR"
      },
      "source": [
        "3. Analizar el shape del df"
      ]
    },
    {
      "cell_type": "code",
      "execution_count": 4,
      "metadata": {
        "colab": {
          "base_uri": "https://localhost:8080/"
        },
        "id": "hVaLIN_M73DS",
        "outputId": "aa5614a3-b315-42e7-cffd-4c015539e516"
      },
      "outputs": [
        {
          "output_type": "execute_result",
          "data": {
            "text/plain": [
              "(801, 41)"
            ]
          },
          "metadata": {},
          "execution_count": 4
        }
      ],
      "source": [
        "#Completar\n",
        "df.shape"
      ]
    },
    {
      "cell_type": "markdown",
      "metadata": {
        "id": "EJReJe8F73DS"
      },
      "source": [
        "4. Obtener la totalidad de registros por columnas"
      ]
    },
    {
      "cell_type": "code",
      "execution_count": 5,
      "metadata": {
        "colab": {
          "base_uri": "https://localhost:8080/"
        },
        "id": "zXQCtI9-73DT",
        "outputId": "ae527aa8-2a48-49dd-f809-0121ad094ca1"
      },
      "outputs": [
        {
          "output_type": "execute_result",
          "data": {
            "text/plain": [
              "abilities            801\n",
              "against_bug          801\n",
              "against_dark         801\n",
              "against_dragon       801\n",
              "against_electric     801\n",
              "against_fairy        801\n",
              "against_fight        801\n",
              "against_fire         801\n",
              "against_flying       801\n",
              "against_ghost        801\n",
              "against_grass        801\n",
              "against_ground       801\n",
              "against_ice          801\n",
              "against_normal       801\n",
              "against_poison       801\n",
              "against_psychic      801\n",
              "against_rock         801\n",
              "against_steel        801\n",
              "against_water        801\n",
              "attack               801\n",
              "base_egg_steps       801\n",
              "base_happiness       801\n",
              "base_total           801\n",
              "capture_rate         801\n",
              "classfication        801\n",
              "defense              801\n",
              "experience_growth    801\n",
              "height_m             781\n",
              "hp                   801\n",
              "japanese_name        801\n",
              "name                 801\n",
              "percentage_male      703\n",
              "pokedex_number       801\n",
              "sp_attack            801\n",
              "sp_defense           801\n",
              "speed                801\n",
              "type1                801\n",
              "type2                417\n",
              "weight_kg            781\n",
              "generation           801\n",
              "is_legendary         801\n",
              "dtype: int64"
            ]
          },
          "metadata": {},
          "execution_count": 5
        }
      ],
      "source": [
        "#Completar\n",
        "df.count()"
      ]
    },
    {
      "cell_type": "markdown",
      "metadata": {
        "id": "hdH7h4P173DT"
      },
      "source": [
        "5. Analizar el tipo de dato de cada columna"
      ]
    },
    {
      "cell_type": "code",
      "execution_count": 6,
      "metadata": {
        "colab": {
          "base_uri": "https://localhost:8080/"
        },
        "id": "B0NlFCJQ73DU",
        "outputId": "71eb7b52-8952-4c90-e693-97bc1d812503"
      },
      "outputs": [
        {
          "output_type": "execute_result",
          "data": {
            "text/plain": [
              "abilities             object\n",
              "against_bug          float64\n",
              "against_dark         float64\n",
              "against_dragon       float64\n",
              "against_electric     float64\n",
              "against_fairy        float64\n",
              "against_fight        float64\n",
              "against_fire         float64\n",
              "against_flying       float64\n",
              "against_ghost        float64\n",
              "against_grass        float64\n",
              "against_ground       float64\n",
              "against_ice          float64\n",
              "against_normal       float64\n",
              "against_poison       float64\n",
              "against_psychic      float64\n",
              "against_rock         float64\n",
              "against_steel        float64\n",
              "against_water        float64\n",
              "attack                 int64\n",
              "base_egg_steps         int64\n",
              "base_happiness         int64\n",
              "base_total             int64\n",
              "capture_rate          object\n",
              "classfication         object\n",
              "defense                int64\n",
              "experience_growth      int64\n",
              "height_m             float64\n",
              "hp                     int64\n",
              "japanese_name         object\n",
              "name                  object\n",
              "percentage_male      float64\n",
              "pokedex_number         int64\n",
              "sp_attack              int64\n",
              "sp_defense             int64\n",
              "speed                  int64\n",
              "type1                 object\n",
              "type2                 object\n",
              "weight_kg            float64\n",
              "generation             int64\n",
              "is_legendary           int64\n",
              "dtype: object"
            ]
          },
          "metadata": {},
          "execution_count": 6
        }
      ],
      "source": [
        "#Completar\n",
        "df.dtypes"
      ]
    },
    {
      "cell_type": "markdown",
      "metadata": {
        "id": "RV0sium973DU"
      },
      "source": [
        "6. Obtener el tipo de estructura del dataset. Ej: si es o no un DataFrame"
      ]
    },
    {
      "cell_type": "code",
      "execution_count": 7,
      "metadata": {
        "colab": {
          "base_uri": "https://localhost:8080/"
        },
        "id": "fxZLuFuO73DU",
        "outputId": "fae658ac-bd10-4241-c8a8-06195fb106ec"
      },
      "outputs": [
        {
          "output_type": "execute_result",
          "data": {
            "text/plain": [
              "pandas.core.frame.DataFrame"
            ]
          },
          "metadata": {},
          "execution_count": 7
        }
      ],
      "source": [
        "#Completar\n",
        "type(df)"
      ]
    },
    {
      "cell_type": "markdown",
      "metadata": {
        "id": "ZOg17Pc373DV"
      },
      "source": [
        "7. Listar los nombres de las columnas"
      ]
    },
    {
      "cell_type": "code",
      "execution_count": 8,
      "metadata": {
        "colab": {
          "base_uri": "https://localhost:8080/"
        },
        "id": "mrkXJbNB73DV",
        "outputId": "1903532c-4f8f-4629-9ff1-7f330a655158"
      },
      "outputs": [
        {
          "output_type": "execute_result",
          "data": {
            "text/plain": [
              "Index(['abilities', 'against_bug', 'against_dark', 'against_dragon',\n",
              "       'against_electric', 'against_fairy', 'against_fight', 'against_fire',\n",
              "       'against_flying', 'against_ghost', 'against_grass', 'against_ground',\n",
              "       'against_ice', 'against_normal', 'against_poison', 'against_psychic',\n",
              "       'against_rock', 'against_steel', 'against_water', 'attack',\n",
              "       'base_egg_steps', 'base_happiness', 'base_total', 'capture_rate',\n",
              "       'classfication', 'defense', 'experience_growth', 'height_m', 'hp',\n",
              "       'japanese_name', 'name', 'percentage_male', 'pokedex_number',\n",
              "       'sp_attack', 'sp_defense', 'speed', 'type1', 'type2', 'weight_kg',\n",
              "       'generation', 'is_legendary'],\n",
              "      dtype='object')"
            ]
          },
          "metadata": {},
          "execution_count": 8
        }
      ],
      "source": [
        "#Completar\n",
        "df.columns"
      ]
    },
    {
      "cell_type": "markdown",
      "metadata": {
        "id": "mAaCf-hz73DV"
      },
      "source": [
        "8. Crear un gráfico de barras con la función value_counts() sobre la variable: 'type1'"
      ]
    },
    {
      "cell_type": "code",
      "execution_count": 13,
      "metadata": {
        "colab": {
          "base_uri": "https://localhost:8080/",
          "height": 312
        },
        "id": "cxvfkMOf73DV",
        "outputId": "2705ae3a-6e4d-45f7-b51c-30024d771720"
      },
      "outputs": [
        {
          "output_type": "execute_result",
          "data": {
            "text/plain": [
              "<matplotlib.axes._subplots.AxesSubplot at 0x7f7c2c5bc410>"
            ]
          },
          "metadata": {},
          "execution_count": 13
        },
        {
          "output_type": "display_data",
          "data": {
            "text/plain": [
              "<Figure size 432x288 with 1 Axes>"
            ],
            "image/png": "[encoded data removed]"
          },
          "metadata": {
            "needs_background": "light"
          }
        }
      ],
      "source": [
        "#Completar\n",
        "df.type1.value_counts().plot.bar()"
      ]
    },
    {
      "cell_type": "markdown",
      "metadata": {
        "id": "NpewbE_R73DW"
      },
      "source": [
        "9. Crear un gráfico de líneas de la variable: 'hp', utilizando la función value_counts() y realizar un ordenamimiento poor intermedio de: sort_index()"
      ]
    },
    {
      "cell_type": "code",
      "execution_count": 25,
      "metadata": {
        "colab": {
          "base_uri": "https://localhost:8080/",
          "height": 284
        },
        "id": "nGXUgrK273DW",
        "outputId": "cf96cdd3-cb63-47bf-c4a0-60880965c213"
      },
      "outputs": [
        {
          "output_type": "execute_result",
          "data": {
            "text/plain": [
              "<matplotlib.axes._subplots.AxesSubplot at 0x7f7c2a1ed590>"
            ]
          },
          "metadata": {},
          "execution_count": 25
        },
        {
          "output_type": "display_data",
          "data": {
            "text/plain": [
              "<Figure size 432x288 with 1 Axes>"
            ],
            "image/png": "[encoded data removed]"
          },
          "metadata": {
            "needs_background": "light"
          }
        }
      ],
      "source": [
        "#Completar\n",
        "df['hp'].value_counts().sort_index().plot.line()"
      ]
    },
    {
      "cell_type": "markdown",
      "metadata": {
        "id": "rrKemZX373DX"
      },
      "source": [
        "10. Crear un histograma de la variable: 'weight_kg'"
      ]
    },
    {
      "cell_type": "code",
      "execution_count": 17,
      "metadata": {
        "colab": {
          "base_uri": "https://localhost:8080/",
          "height": 284
        },
        "id": "DXdycb3A73DX",
        "outputId": "bfb53d22-32f3-4a92-b287-c8dd2953ba89"
      },
      "outputs": [
        {
          "output_type": "execute_result",
          "data": {
            "text/plain": [
              "<matplotlib.axes._subplots.AxesSubplot at 0x7f7c2a276290>"
            ]
          },
          "metadata": {},
          "execution_count": 17
        },
        {
          "output_type": "display_data",
          "data": {
            "text/plain": [
              "<Figure size 432x288 with 1 Axes>"
            ],
            "image/png": "[encoded data removed]"
          },
          "metadata": {
            "needs_background": "light"
          }
        }
      ],
      "source": [
        "#Completar\n",
        "df['weight_kg'].plot.hist()"
      ]
    },
    {
      "cell_type": "markdown",
      "metadata": {
        "id": "LqwMNawI73DY"
      },
      "source": [
        "# Distribucion de Frecuencias\n",
        "\n",
        "Parte 2"
      ]
    },
    {
      "cell_type": "markdown",
      "metadata": {
        "id": "LihInMti73DY"
      },
      "source": [
        "Calcular la frecuencia absoluta, la absoluta acumulada, la frecuencia relativa y relativa acumulada para la variable: **classfication**, en base al ejemplo visto en el notebook: Ejemplo 1 - Análisis Univariado de Datos (CoderHouse) "
      ]
    },
    {
      "cell_type": "code",
      "source": [
        "frec = df[\"classfication\"].value_counts()\n",
        "frec"
      ],
      "metadata": {
        "colab": {
          "base_uri": "https://localhost:8080/"
        },
        "id": "jbETBNBI-s-_",
        "outputId": "48140168-d9e6-4680-ae28-e970c892f241"
      },
      "execution_count": 18,
      "outputs": [
        {
          "output_type": "execute_result",
          "data": {
            "text/plain": [
              "Dragon Pokémon        8\n",
              "Mouse Pokémon         6\n",
              "Mushroom Pokémon      6\n",
              "Flame Pokémon         5\n",
              "Balloon Pokémon       5\n",
              "                     ..\n",
              "Marionette Pokémon    1\n",
              "Puppet Pokémon        1\n",
              "Color Swap Pokémon    1\n",
              "Weather Pokémon       1\n",
              "Artificial Pokémon    1\n",
              "Name: classfication, Length: 588, dtype: int64"
            ]
          },
          "metadata": {},
          "execution_count": 18
        }
      ]
    },
    {
      "cell_type": "code",
      "source": [
        "frec_df = pd.DataFrame(frec)\n",
        "frec_df"
      ],
      "metadata": {
        "colab": {
          "base_uri": "https://localhost:8080/",
          "height": 423
        },
        "id": "SWqO6Zd1-xRu",
        "outputId": "7c63bbb3-1475-4bec-ec28-cf2079dec42e"
      },
      "execution_count": 19,
      "outputs": [
        {
          "output_type": "execute_result",
          "data": {
            "text/plain": [
              "                    classfication\n",
              "Dragon Pokémon                  8\n",
              "Mouse Pokémon                   6\n",
              "Mushroom Pokémon                6\n",
              "Flame Pokémon                   5\n",
              "Balloon Pokémon                 5\n",
              "...                           ...\n",
              "Marionette Pokémon              1\n",
              "Puppet Pokémon                  1\n",
              "Color Swap Pokémon              1\n",
              "Weather Pokémon                 1\n",
              "Artificial Pokémon              1\n",
              "\n",
              "[588 rows x 1 columns]"
            ],
            "text/html": [
              "\n",
              "  <div id=\"df-ce1d8d09-e71a-43fb-af97-6f0a975a5294\">\n",
              "    <div class=\"colab-df-container\">\n",
              "      <div>\n",
              "<style scoped>\n",
              "    .dataframe tbody tr th:only-of-type {\n",
              "        vertical-align: middle;\n",
              "    }\n",
              "\n",
              "    .dataframe tbody tr th {\n",
              "        vertical-align: top;\n",
              "    }\n",
              "\n",
              "    .dataframe thead th {\n",
              "        text-align: right;\n",
              "    }\n",
              "</style>\n",
              "<table border=\"1\" class=\"dataframe\">\n",
              "  <thead>\n",
              "    <tr style=\"text-align: right;\">\n",
              "      <th></th>\n",
              "      <th>classfication</th>\n",
              "    </tr>\n",
              "  </thead>\n",
              "  <tbody>\n",
              "    <tr>\n",
              "      <th>Dragon Pokémon</th>\n",
              "      <td>8</td>\n",
              "    </tr>\n",
              "    <tr>\n",
              "      <th>Mouse Pokémon</th>\n",
              "      <td>6</td>\n",
              "    </tr>\n",
              "    <tr>\n",
              "      <th>Mushroom Pokémon</th>\n",
              "      <td>6</td>\n",
              "    </tr>\n",
              "    <tr>\n",
              "      <th>Flame Pokémon</th>\n",
              "      <td>5</td>\n",
              "    </tr>\n",
              "    <tr>\n",
              "      <th>Balloon Pokémon</th>\n",
              "      <td>5</td>\n",
              "    </tr>\n",
              "    <tr>\n",
              "      <th>...</th>\n",
              "      <td>...</td>\n",
              "    </tr>\n",
              "    <tr>\n",
              "      <th>Marionette Pokémon</th>\n",
              "      <td>1</td>\n",
              "    </tr>\n",
              "    <tr>\n",
              "      <th>Puppet Pokémon</th>\n",
              "      <td>1</td>\n",
              "    </tr>\n",
              "    <tr>\n",
              "      <th>Color Swap Pokémon</th>\n",
              "      <td>1</td>\n",
              "    </tr>\n",
              "    <tr>\n",
              "      <th>Weather Pokémon</th>\n",
              "      <td>1</td>\n",
              "    </tr>\n",
              "    <tr>\n",
              "      <th>Artificial Pokémon</th>\n",
              "      <td>1</td>\n",
              "    </tr>\n",
              "  </tbody>\n",
              "</table>\n",
              "<p>588 rows × 1 columns</p>\n",
              "</div>\n",
              "      <button class=\"colab-df-convert\" onclick=\"convertToInteractive('df-ce1d8d09-e71a-43fb-af97-6f0a975a5294')\"\n",
              "              title=\"Convert this dataframe to an interactive table.\"\n",
              "              style=\"display:none;\">\n",
              "        \n",
              "  <svg xmlns=\"http://www.w3.org/2000/svg\" height=\"24px\"viewBox=\"0 0 24 24\"\n",
              "       width=\"24px\">\n",
              "    <path d=\"M0 0h24v24H0V0z\" fill=\"none\"/>\n",
              "    <path d=\"M18.56 5.44l.94 2.06.94-2.06 2.06-.94-2.06-.94-.94-2.06-.94 2.06-2.06.94zm-11 1L8.5 8.5l.94-2.06 2.06-.94-2.06-.94L8.5 2.5l-.94 2.06-2.06.94zm10 10l.94 2.06.94-2.06 2.06-.94-2.06-.94-.94-2.06-.94 2.06-2.06.94z\"/><path d=\"M17.41 7.96l-1.37-1.37c-.4-.4-.92-.59-1.43-.59-.52 0-1.04.2-1.43.59L10.3 9.45l-7.72 7.72c-.78.78-.78 2.05 0 2.83L4 21.41c.39.39.9.59 1.41.59.51 0 1.02-.2 1.41-.59l7.78-7.78 2.81-2.81c.8-.78.8-2.07 0-2.86zM5.41 20L4 18.59l7.72-7.72 1.47 1.35L5.41 20z\"/>\n",
              "  </svg>\n",
              "      </button>\n",
              "      \n",
              "  <style>\n",
              "    .colab-df-container {\n",
              "      display:flex;\n",
              "      flex-wrap:wrap;\n",
              "      gap: 12px;\n",
              "    }\n",
              "\n",
              "    .colab-df-convert {\n",
              "      background-color: #E8F0FE;\n",
              "      border: none;\n",
              "      border-radius: 50%;\n",
              "      cursor: pointer;\n",
              "      display: none;\n",
              "      fill: #1967D2;\n",
              "      height: 32px;\n",
              "      padding: 0 0 0 0;\n",
              "      width: 32px;\n",
              "    }\n",
              "\n",
              "    .colab-df-convert:hover {\n",
              "      background-color: #E2EBFA;\n",
              "      box-shadow: 0px 1px 2px rgba(60, 64, 67, 0.3), 0px 1px 3px 1px rgba(60, 64, 67, 0.15);\n",
              "      fill: #174EA6;\n",
              "    }\n",
              "\n",
              "    [theme=dark] .colab-df-convert {\n",
              "      background-color: #3B4455;\n",
              "      fill: #D2E3FC;\n",
              "    }\n",
              "\n",
              "    [theme=dark] .colab-df-convert:hover {\n",
              "      background-color: #434B5C;\n",
              "      box-shadow: 0px 1px 3px 1px rgba(0, 0, 0, 0.15);\n",
              "      filter: drop-shadow(0px 1px 2px rgba(0, 0, 0, 0.3));\n",
              "      fill: #FFFFFF;\n",
              "    }\n",
              "  </style>\n",
              "\n",
              "      <script>\n",
              "        const buttonEl =\n",
              "          document.querySelector('#df-ce1d8d09-e71a-43fb-af97-6f0a975a5294 button.colab-df-convert');\n",
              "        buttonEl.style.display =\n",
              "          google.colab.kernel.accessAllowed ? 'block' : 'none';\n",
              "\n",
              "        async function convertToInteractive(key) {\n",
              "          const element = document.querySelector('#df-ce1d8d09-e71a-43fb-af97-6f0a975a5294');\n",
              "          const dataTable =\n",
              "            await google.colab.kernel.invokeFunction('convertToInteractive',\n",
              "                                                     [key], {});\n",
              "          if (!dataTable) return;\n",
              "\n",
              "          const docLinkHtml = 'Like what you see? Visit the ' +\n",
              "            '<a target=\"_blank\" href=https://colab.research.google.com/notebooks/data_table.ipynb>data table notebook</a>'\n",
              "            + ' to learn more about interactive tables.';\n",
              "          element.innerHTML = '';\n",
              "          dataTable['output_type'] = 'display_data';\n",
              "          await google.colab.output.renderOutput(dataTable, element);\n",
              "          const docLink = document.createElement('div');\n",
              "          docLink.innerHTML = docLinkHtml;\n",
              "          element.appendChild(docLink);\n",
              "        }\n",
              "      </script>\n",
              "    </div>\n",
              "  </div>\n",
              "  "
            ]
          },
          "metadata": {},
          "execution_count": 19
        }
      ]
    },
    {
      "cell_type": "code",
      "source": [
        "frec_df.rename(columns={'classfication':'Frec_abs'},inplace=True)\n",
        "frec_df"
      ],
      "metadata": {
        "colab": {
          "base_uri": "https://localhost:8080/",
          "height": 423
        },
        "id": "sDtgiBqv-07M",
        "outputId": "7d94cf4a-825d-4857-9a90-fb7cf62e1523"
      },
      "execution_count": 20,
      "outputs": [
        {
          "output_type": "execute_result",
          "data": {
            "text/plain": [
              "                    Frec_abs\n",
              "Dragon Pokémon             8\n",
              "Mouse Pokémon              6\n",
              "Mushroom Pokémon           6\n",
              "Flame Pokémon              5\n",
              "Balloon Pokémon            5\n",
              "...                      ...\n",
              "Marionette Pokémon         1\n",
              "Puppet Pokémon             1\n",
              "Color Swap Pokémon         1\n",
              "Weather Pokémon            1\n",
              "Artificial Pokémon         1\n",
              "\n",
              "[588 rows x 1 columns]"
            ],
            "text/html": [
              "\n",
              "  <div id=\"df-aa0c9df9-8344-4344-856a-8d375cd9a15d\">\n",
              "    <div class=\"colab-df-container\">\n",
              "      <div>\n",
              "<style scoped>\n",
              "    .dataframe tbody tr th:only-of-type {\n",
              "        vertical-align: middle;\n",
              "    }\n",
              "\n",
              "    .dataframe tbody tr th {\n",
              "        vertical-align: top;\n",
              "    }\n",
              "\n",
              "    .dataframe thead th {\n",
              "        text-align: right;\n",
              "    }\n",
              "</style>\n",
              "<table border=\"1\" class=\"dataframe\">\n",
              "  <thead>\n",
              "    <tr style=\"text-align: right;\">\n",
              "      <th></th>\n",
              "      <th>Frec_abs</th>\n",
              "    </tr>\n",
              "  </thead>\n",
              "  <tbody>\n",
              "    <tr>\n",
              "      <th>Dragon Pokémon</th>\n",
              "      <td>8</td>\n",
              "    </tr>\n",
              "    <tr>\n",
              "      <th>Mouse Pokémon</th>\n",
              "      <td>6</td>\n",
              "    </tr>\n",
              "    <tr>\n",
              "      <th>Mushroom Pokémon</th>\n",
              "      <td>6</td>\n",
              "    </tr>\n",
              "    <tr>\n",
              "      <th>Flame Pokémon</th>\n",
              "      <td>5</td>\n",
              "    </tr>\n",
              "    <tr>\n",
              "      <th>Balloon Pokémon</th>\n",
              "      <td>5</td>\n",
              "    </tr>\n",
              "    <tr>\n",
              "      <th>...</th>\n",
              "      <td>...</td>\n",
              "    </tr>\n",
              "    <tr>\n",
              "      <th>Marionette Pokémon</th>\n",
              "      <td>1</td>\n",
              "    </tr>\n",
              "    <tr>\n",
              "      <th>Puppet Pokémon</th>\n",
              "      <td>1</td>\n",
              "    </tr>\n",
              "    <tr>\n",
              "      <th>Color Swap Pokémon</th>\n",
              "      <td>1</td>\n",
              "    </tr>\n",
              "    <tr>\n",
              "      <th>Weather Pokémon</th>\n",
              "      <td>1</td>\n",
              "    </tr>\n",
              "    <tr>\n",
              "      <th>Artificial Pokémon</th>\n",
              "      <td>1</td>\n",
              "    </tr>\n",
              "  </tbody>\n",
              "</table>\n",
              "<p>588 rows × 1 columns</p>\n",
              "</div>\n",
              "      <button class=\"colab-df-convert\" onclick=\"convertToInteractive('df-aa0c9df9-8344-4344-856a-8d375cd9a15d')\"\n",
              "              title=\"Convert this dataframe to an interactive table.\"\n",
              "              style=\"display:none;\">\n",
              "        \n",
              "  <svg xmlns=\"http://www.w3.org/2000/svg\" height=\"24px\"viewBox=\"0 0 24 24\"\n",
              "       width=\"24px\">\n",
              "    <path d=\"M0 0h24v24H0V0z\" fill=\"none\"/>\n",
              "    <path d=\"M18.56 5.44l.94 2.06.94-2.06 2.06-.94-2.06-.94-.94-2.06-.94 2.06-2.06.94zm-11 1L8.5 8.5l.94-2.06 2.06-.94-2.06-.94L8.5 2.5l-.94 2.06-2.06.94zm10 10l.94 2.06.94-2.06 2.06-.94-2.06-.94-.94-2.06-.94 2.06-2.06.94z\"/><path d=\"M17.41 7.96l-1.37-1.37c-.4-.4-.92-.59-1.43-.59-.52 0-1.04.2-1.43.59L10.3 9.45l-7.72 7.72c-.78.78-.78 2.05 0 2.83L4 21.41c.39.39.9.59 1.41.59.51 0 1.02-.2 1.41-.59l7.78-7.78 2.81-2.81c.8-.78.8-2.07 0-2.86zM5.41 20L4 18.59l7.72-7.72 1.47 1.35L5.41 20z\"/>\n",
              "  </svg>\n",
              "      </button>\n",
              "      \n",
              "  <style>\n",
              "    .colab-df-container {\n",
              "      display:flex;\n",
              "      flex-wrap:wrap;\n",
              "      gap: 12px;\n",
              "    }\n",
              "\n",
              "    .colab-df-convert {\n",
              "      background-color: #E8F0FE;\n",
              "      border: none;\n",
              "      border-radius: 50%;\n",
              "      cursor: pointer;\n",
              "      display: none;\n",
              "      fill: #1967D2;\n",
              "      height: 32px;\n",
              "      padding: 0 0 0 0;\n",
              "      width: 32px;\n",
              "    }\n",
              "\n",
              "    .colab-df-convert:hover {\n",
              "      background-color: #E2EBFA;\n",
              "      box-shadow: 0px 1px 2px rgba(60, 64, 67, 0.3), 0px 1px 3px 1px rgba(60, 64, 67, 0.15);\n",
              "      fill: #174EA6;\n",
              "    }\n",
              "\n",
              "    [theme=dark] .colab-df-convert {\n",
              "      background-color: #3B4455;\n",
              "      fill: #D2E3FC;\n",
              "    }\n",
              "\n",
              "    [theme=dark] .colab-df-convert:hover {\n",
              "      background-color: #434B5C;\n",
              "      box-shadow: 0px 1px 3px 1px rgba(0, 0, 0, 0.15);\n",
              "      filter: drop-shadow(0px 1px 2px rgba(0, 0, 0, 0.3));\n",
              "      fill: #FFFFFF;\n",
              "    }\n",
              "  </style>\n",
              "\n",
              "      <script>\n",
              "        const buttonEl =\n",
              "          document.querySelector('#df-aa0c9df9-8344-4344-856a-8d375cd9a15d button.colab-df-convert');\n",
              "        buttonEl.style.display =\n",
              "          google.colab.kernel.accessAllowed ? 'block' : 'none';\n",
              "\n",
              "        async function convertToInteractive(key) {\n",
              "          const element = document.querySelector('#df-aa0c9df9-8344-4344-856a-8d375cd9a15d');\n",
              "          const dataTable =\n",
              "            await google.colab.kernel.invokeFunction('convertToInteractive',\n",
              "                                                     [key], {});\n",
              "          if (!dataTable) return;\n",
              "\n",
              "          const docLinkHtml = 'Like what you see? Visit the ' +\n",
              "            '<a target=\"_blank\" href=https://colab.research.google.com/notebooks/data_table.ipynb>data table notebook</a>'\n",
              "            + ' to learn more about interactive tables.';\n",
              "          element.innerHTML = '';\n",
              "          dataTable['output_type'] = 'display_data';\n",
              "          await google.colab.output.renderOutput(dataTable, element);\n",
              "          const docLink = document.createElement('div');\n",
              "          docLink.innerHTML = docLinkHtml;\n",
              "          element.appendChild(docLink);\n",
              "        }\n",
              "      </script>\n",
              "    </div>\n",
              "  </div>\n",
              "  "
            ]
          },
          "metadata": {},
          "execution_count": 20
        }
      ]
    },
    {
      "cell_type": "code",
      "source": [
        "#Obtenemos los valores de las Frecuencias Absolutas\n",
        "Frec_abs_val = frec_df[\"Frec_abs\"].values\n",
        "\n",
        "#Creamos una lista vacia en donde vamos a guardar las frecuencias absolutas acumuladas\n",
        "acum = []\n",
        "\n",
        "#Iniciamos una variable en la que guardaremos los valores anteriores\n",
        "valor_acum = 0\n",
        "\n",
        "#Recorremos la lista  de las frecuencias absolutas para irlas sumando\n",
        "for i in Frec_abs_val:\n",
        "    valor_acum = valor_acum + i\n",
        "    acum.append(valor_acum)\n",
        "    \n",
        "frec_df[\"frec_abs_acum\"] = acum\n",
        "frec_df"
      ],
      "metadata": {
        "colab": {
          "base_uri": "https://localhost:8080/",
          "height": 423
        },
        "id": "d6tlGH5W-54R",
        "outputId": "1ec3b4e3-a4bb-49d8-84a8-238dc5167971"
      },
      "execution_count": 21,
      "outputs": [
        {
          "output_type": "execute_result",
          "data": {
            "text/plain": [
              "                    Frec_abs  frec_abs_acum\n",
              "Dragon Pokémon             8              8\n",
              "Mouse Pokémon              6             14\n",
              "Mushroom Pokémon           6             20\n",
              "Flame Pokémon              5             25\n",
              "Balloon Pokémon            5             30\n",
              "...                      ...            ...\n",
              "Marionette Pokémon         1            797\n",
              "Puppet Pokémon             1            798\n",
              "Color Swap Pokémon         1            799\n",
              "Weather Pokémon            1            800\n",
              "Artificial Pokémon         1            801\n",
              "\n",
              "[588 rows x 2 columns]"
            ],
            "text/html": [
              "\n",
              "  <div id=\"df-d88acdcd-7455-4eb2-bc9e-83c4a815f4e4\">\n",
              "    <div class=\"colab-df-container\">\n",
              "      <div>\n",
              "<style scoped>\n",
              "    .dataframe tbody tr th:only-of-type {\n",
              "        vertical-align: middle;\n",
              "    }\n",
              "\n",
              "    .dataframe tbody tr th {\n",
              "        vertical-align: top;\n",
              "    }\n",
              "\n",
              "    .dataframe thead th {\n",
              "        text-align: right;\n",
              "    }\n",
              "</style>\n",
              "<table border=\"1\" class=\"dataframe\">\n",
              "  <thead>\n",
              "    <tr style=\"text-align: right;\">\n",
              "      <th></th>\n",
              "      <th>Frec_abs</th>\n",
              "      <th>frec_abs_acum</th>\n",
              "    </tr>\n",
              "  </thead>\n",
              "  <tbody>\n",
              "    <tr>\n",
              "      <th>Dragon Pokémon</th>\n",
              "      <td>8</td>\n",
              "      <td>8</td>\n",
              "    </tr>\n",
              "    <tr>\n",
              "      <th>Mouse Pokémon</th>\n",
              "      <td>6</td>\n",
              "      <td>14</td>\n",
              "    </tr>\n",
              "    <tr>\n",
              "      <th>Mushroom Pokémon</th>\n",
              "      <td>6</td>\n",
              "      <td>20</td>\n",
              "    </tr>\n",
              "    <tr>\n",
              "      <th>Flame Pokémon</th>\n",
              "      <td>5</td>\n",
              "      <td>25</td>\n",
              "    </tr>\n",
              "    <tr>\n",
              "      <th>Balloon Pokémon</th>\n",
              "      <td>5</td>\n",
              "      <td>30</td>\n",
              "    </tr>\n",
              "    <tr>\n",
              "      <th>...</th>\n",
              "      <td>...</td>\n",
              "      <td>...</td>\n",
              "    </tr>\n",
              "    <tr>\n",
              "      <th>Marionette Pokémon</th>\n",
              "      <td>1</td>\n",
              "      <td>797</td>\n",
              "    </tr>\n",
              "    <tr>\n",
              "      <th>Puppet Pokémon</th>\n",
              "      <td>1</td>\n",
              "      <td>798</td>\n",
              "    </tr>\n",
              "    <tr>\n",
              "      <th>Color Swap Pokémon</th>\n",
              "      <td>1</td>\n",
              "      <td>799</td>\n",
              "    </tr>\n",
              "    <tr>\n",
              "      <th>Weather Pokémon</th>\n",
              "      <td>1</td>\n",
              "      <td>800</td>\n",
              "    </tr>\n",
              "    <tr>\n",
              "      <th>Artificial Pokémon</th>\n",
              "      <td>1</td>\n",
              "      <td>801</td>\n",
              "    </tr>\n",
              "  </tbody>\n",
              "</table>\n",
              "<p>588 rows × 2 columns</p>\n",
              "</div>\n",
              "      <button class=\"colab-df-convert\" onclick=\"convertToInteractive('df-d88acdcd-7455-4eb2-bc9e-83c4a815f4e4')\"\n",
              "              title=\"Convert this dataframe to an interactive table.\"\n",
              "              style=\"display:none;\">\n",
              "        \n",
              "  <svg xmlns=\"http://www.w3.org/2000/svg\" height=\"24px\"viewBox=\"0 0 24 24\"\n",
              "       width=\"24px\">\n",
              "    <path d=\"M0 0h24v24H0V0z\" fill=\"none\"/>\n",
              "    <path d=\"M18.56 5.44l.94 2.06.94-2.06 2.06-.94-2.06-.94-.94-2.06-.94 2.06-2.06.94zm-11 1L8.5 8.5l.94-2.06 2.06-.94-2.06-.94L8.5 2.5l-.94 2.06-2.06.94zm10 10l.94 2.06.94-2.06 2.06-.94-2.06-.94-.94-2.06-.94 2.06-2.06.94z\"/><path d=\"M17.41 7.96l-1.37-1.37c-.4-.4-.92-.59-1.43-.59-.52 0-1.04.2-1.43.59L10.3 9.45l-7.72 7.72c-.78.78-.78 2.05 0 2.83L4 21.41c.39.39.9.59 1.41.59.51 0 1.02-.2 1.41-.59l7.78-7.78 2.81-2.81c.8-.78.8-2.07 0-2.86zM5.41 20L4 18.59l7.72-7.72 1.47 1.35L5.41 20z\"/>\n",
              "  </svg>\n",
              "      </button>\n",
              "      \n",
              "  <style>\n",
              "    .colab-df-container {\n",
              "      display:flex;\n",
              "      flex-wrap:wrap;\n",
              "      gap: 12px;\n",
              "    }\n",
              "\n",
              "    .colab-df-convert {\n",
              "      background-color: #E8F0FE;\n",
              "      border: none;\n",
              "      border-radius: 50%;\n",
              "      cursor: pointer;\n",
              "      display: none;\n",
              "      fill: #1967D2;\n",
              "      height: 32px;\n",
              "      padding: 0 0 0 0;\n",
              "      width: 32px;\n",
              "    }\n",
              "\n",
              "    .colab-df-convert:hover {\n",
              "      background-color: #E2EBFA;\n",
              "      box-shadow: 0px 1px 2px rgba(60, 64, 67, 0.3), 0px 1px 3px 1px rgba(60, 64, 67, 0.15);\n",
              "      fill: #174EA6;\n",
              "    }\n",
              "\n",
              "    [theme=dark] .colab-df-convert {\n",
              "      background-color: #3B4455;\n",
              "      fill: #D2E3FC;\n",
              "    }\n",
              "\n",
              "    [theme=dark] .colab-df-convert:hover {\n",
              "      background-color: #434B5C;\n",
              "      box-shadow: 0px 1px 3px 1px rgba(0, 0, 0, 0.15);\n",
              "      filter: drop-shadow(0px 1px 2px rgba(0, 0, 0, 0.3));\n",
              "      fill: #FFFFFF;\n",
              "    }\n",
              "  </style>\n",
              "\n",
              "      <script>\n",
              "        const buttonEl =\n",
              "          document.querySelector('#df-d88acdcd-7455-4eb2-bc9e-83c4a815f4e4 button.colab-df-convert');\n",
              "        buttonEl.style.display =\n",
              "          google.colab.kernel.accessAllowed ? 'block' : 'none';\n",
              "\n",
              "        async function convertToInteractive(key) {\n",
              "          const element = document.querySelector('#df-d88acdcd-7455-4eb2-bc9e-83c4a815f4e4');\n",
              "          const dataTable =\n",
              "            await google.colab.kernel.invokeFunction('convertToInteractive',\n",
              "                                                     [key], {});\n",
              "          if (!dataTable) return;\n",
              "\n",
              "          const docLinkHtml = 'Like what you see? Visit the ' +\n",
              "            '<a target=\"_blank\" href=https://colab.research.google.com/notebooks/data_table.ipynb>data table notebook</a>'\n",
              "            + ' to learn more about interactive tables.';\n",
              "          element.innerHTML = '';\n",
              "          dataTable['output_type'] = 'display_data';\n",
              "          await google.colab.output.renderOutput(dataTable, element);\n",
              "          const docLink = document.createElement('div');\n",
              "          docLink.innerHTML = docLinkHtml;\n",
              "          element.appendChild(docLink);\n",
              "        }\n",
              "      </script>\n",
              "    </div>\n",
              "  </div>\n",
              "  "
            ]
          },
          "metadata": {},
          "execution_count": 21
        }
      ]
    },
    {
      "cell_type": "code",
      "source": [
        "#Calculamos la Frecuencia Relativa en %\n",
        "frec_df[\"frec_rel_%\"] = round(100 * frec_df[\"Frec_abs\"]/len(df.classfication),4)\n",
        "frec_df"
      ],
      "metadata": {
        "colab": {
          "base_uri": "https://localhost:8080/",
          "height": 423
        },
        "id": "SRW4jadt-9H3",
        "outputId": "d1284b2d-c300-4309-8193-aeb4dd727d6a"
      },
      "execution_count": 23,
      "outputs": [
        {
          "output_type": "execute_result",
          "data": {
            "text/plain": [
              "                    Frec_abs  frec_abs_acum  frec_rel_%\n",
              "Dragon Pokémon             8              8      0.9988\n",
              "Mouse Pokémon              6             14      0.7491\n",
              "Mushroom Pokémon           6             20      0.7491\n",
              "Flame Pokémon              5             25      0.6242\n",
              "Balloon Pokémon            5             30      0.6242\n",
              "...                      ...            ...         ...\n",
              "Marionette Pokémon         1            797      0.1248\n",
              "Puppet Pokémon             1            798      0.1248\n",
              "Color Swap Pokémon         1            799      0.1248\n",
              "Weather Pokémon            1            800      0.1248\n",
              "Artificial Pokémon         1            801      0.1248\n",
              "\n",
              "[588 rows x 3 columns]"
            ],
            "text/html": [
              "\n",
              "  <div id=\"df-fe4aed8f-d026-4773-97b3-9b50b1eb2bec\">\n",
              "    <div class=\"colab-df-container\">\n",
              "      <div>\n",
              "<style scoped>\n",
              "    .dataframe tbody tr th:only-of-type {\n",
              "        vertical-align: middle;\n",
              "    }\n",
              "\n",
              "    .dataframe tbody tr th {\n",
              "        vertical-align: top;\n",
              "    }\n",
              "\n",
              "    .dataframe thead th {\n",
              "        text-align: right;\n",
              "    }\n",
              "</style>\n",
              "<table border=\"1\" class=\"dataframe\">\n",
              "  <thead>\n",
              "    <tr style=\"text-align: right;\">\n",
              "      <th></th>\n",
              "      <th>Frec_abs</th>\n",
              "      <th>frec_abs_acum</th>\n",
              "      <th>frec_rel_%</th>\n",
              "    </tr>\n",
              "  </thead>\n",
              "  <tbody>\n",
              "    <tr>\n",
              "      <th>Dragon Pokémon</th>\n",
              "      <td>8</td>\n",
              "      <td>8</td>\n",
              "      <td>0.9988</td>\n",
              "    </tr>\n",
              "    <tr>\n",
              "      <th>Mouse Pokémon</th>\n",
              "      <td>6</td>\n",
              "      <td>14</td>\n",
              "      <td>0.7491</td>\n",
              "    </tr>\n",
              "    <tr>\n",
              "      <th>Mushroom Pokémon</th>\n",
              "      <td>6</td>\n",
              "      <td>20</td>\n",
              "      <td>0.7491</td>\n",
              "    </tr>\n",
              "    <tr>\n",
              "      <th>Flame Pokémon</th>\n",
              "      <td>5</td>\n",
              "      <td>25</td>\n",
              "      <td>0.6242</td>\n",
              "    </tr>\n",
              "    <tr>\n",
              "      <th>Balloon Pokémon</th>\n",
              "      <td>5</td>\n",
              "      <td>30</td>\n",
              "      <td>0.6242</td>\n",
              "    </tr>\n",
              "    <tr>\n",
              "      <th>...</th>\n",
              "      <td>...</td>\n",
              "      <td>...</td>\n",
              "      <td>...</td>\n",
              "    </tr>\n",
              "    <tr>\n",
              "      <th>Marionette Pokémon</th>\n",
              "      <td>1</td>\n",
              "      <td>797</td>\n",
              "      <td>0.1248</td>\n",
              "    </tr>\n",
              "    <tr>\n",
              "      <th>Puppet Pokémon</th>\n",
              "      <td>1</td>\n",
              "      <td>798</td>\n",
              "      <td>0.1248</td>\n",
              "    </tr>\n",
              "    <tr>\n",
              "      <th>Color Swap Pokémon</th>\n",
              "      <td>1</td>\n",
              "      <td>799</td>\n",
              "      <td>0.1248</td>\n",
              "    </tr>\n",
              "    <tr>\n",
              "      <th>Weather Pokémon</th>\n",
              "      <td>1</td>\n",
              "      <td>800</td>\n",
              "      <td>0.1248</td>\n",
              "    </tr>\n",
              "    <tr>\n",
              "      <th>Artificial Pokémon</th>\n",
              "      <td>1</td>\n",
              "      <td>801</td>\n",
              "      <td>0.1248</td>\n",
              "    </tr>\n",
              "  </tbody>\n",
              "</table>\n",
              "<p>588 rows × 3 columns</p>\n",
              "</div>\n",
              "      <button class=\"colab-df-convert\" onclick=\"convertToInteractive('df-fe4aed8f-d026-4773-97b3-9b50b1eb2bec')\"\n",
              "              title=\"Convert this dataframe to an interactive table.\"\n",
              "              style=\"display:none;\">\n",
              "        \n",
              "  <svg xmlns=\"http://www.w3.org/2000/svg\" height=\"24px\"viewBox=\"0 0 24 24\"\n",
              "       width=\"24px\">\n",
              "    <path d=\"M0 0h24v24H0V0z\" fill=\"none\"/>\n",
              "    <path d=\"M18.56 5.44l.94 2.06.94-2.06 2.06-.94-2.06-.94-.94-2.06-.94 2.06-2.06.94zm-11 1L8.5 8.5l.94-2.06 2.06-.94-2.06-.94L8.5 2.5l-.94 2.06-2.06.94zm10 10l.94 2.06.94-2.06 2.06-.94-2.06-.94-.94-2.06-.94 2.06-2.06.94z\"/><path d=\"M17.41 7.96l-1.37-1.37c-.4-.4-.92-.59-1.43-.59-.52 0-1.04.2-1.43.59L10.3 9.45l-7.72 7.72c-.78.78-.78 2.05 0 2.83L4 21.41c.39.39.9.59 1.41.59.51 0 1.02-.2 1.41-.59l7.78-7.78 2.81-2.81c.8-.78.8-2.07 0-2.86zM5.41 20L4 18.59l7.72-7.72 1.47 1.35L5.41 20z\"/>\n",
              "  </svg>\n",
              "      </button>\n",
              "      \n",
              "  <style>\n",
              "    .colab-df-container {\n",
              "      display:flex;\n",
              "      flex-wrap:wrap;\n",
              "      gap: 12px;\n",
              "    }\n",
              "\n",
              "    .colab-df-convert {\n",
              "      background-color: #E8F0FE;\n",
              "      border: none;\n",
              "      border-radius: 50%;\n",
              "      cursor: pointer;\n",
              "      display: none;\n",
              "      fill: #1967D2;\n",
              "      height: 32px;\n",
              "      padding: 0 0 0 0;\n",
              "      width: 32px;\n",
              "    }\n",
              "\n",
              "    .colab-df-convert:hover {\n",
              "      background-color: #E2EBFA;\n",
              "      box-shadow: 0px 1px 2px rgba(60, 64, 67, 0.3), 0px 1px 3px 1px rgba(60, 64, 67, 0.15);\n",
              "      fill: #174EA6;\n",
              "    }\n",
              "\n",
              "    [theme=dark] .colab-df-convert {\n",
              "      background-color: #3B4455;\n",
              "      fill: #D2E3FC;\n",
              "    }\n",
              "\n",
              "    [theme=dark] .colab-df-convert:hover {\n",
              "      background-color: #434B5C;\n",
              "      box-shadow: 0px 1px 3px 1px rgba(0, 0, 0, 0.15);\n",
              "      filter: drop-shadow(0px 1px 2px rgba(0, 0, 0, 0.3));\n",
              "      fill: #FFFFFF;\n",
              "    }\n",
              "  </style>\n",
              "\n",
              "      <script>\n",
              "        const buttonEl =\n",
              "          document.querySelector('#df-fe4aed8f-d026-4773-97b3-9b50b1eb2bec button.colab-df-convert');\n",
              "        buttonEl.style.display =\n",
              "          google.colab.kernel.accessAllowed ? 'block' : 'none';\n",
              "\n",
              "        async function convertToInteractive(key) {\n",
              "          const element = document.querySelector('#df-fe4aed8f-d026-4773-97b3-9b50b1eb2bec');\n",
              "          const dataTable =\n",
              "            await google.colab.kernel.invokeFunction('convertToInteractive',\n",
              "                                                     [key], {});\n",
              "          if (!dataTable) return;\n",
              "\n",
              "          const docLinkHtml = 'Like what you see? Visit the ' +\n",
              "            '<a target=\"_blank\" href=https://colab.research.google.com/notebooks/data_table.ipynb>data table notebook</a>'\n",
              "            + ' to learn more about interactive tables.';\n",
              "          element.innerHTML = '';\n",
              "          dataTable['output_type'] = 'display_data';\n",
              "          await google.colab.output.renderOutput(dataTable, element);\n",
              "          const docLink = document.createElement('div');\n",
              "          docLink.innerHTML = docLinkHtml;\n",
              "          element.appendChild(docLink);\n",
              "        }\n",
              "      </script>\n",
              "    </div>\n",
              "  </div>\n",
              "  "
            ]
          },
          "metadata": {},
          "execution_count": 23
        }
      ]
    },
    {
      "cell_type": "code",
      "source": [
        "#Obtenemos los valores de las Frecuencias Relativas\n",
        "Frec_rel_val = frec_df[\"frec_rel_%\"].values\n",
        "\n",
        "#Creamos una lista vacia en donde vamos a guardar las frecuencias relativas acumuladas\n",
        "acum = []\n",
        "\n",
        "#Iniciamos una variable  en la que guardaremos los valores anteriores\n",
        "valor_acum = 0\n",
        "\n",
        "#Recorremos la lista  de las frecuencias relativas para irlas sumando\n",
        "for i in Frec_rel_val:\n",
        "    valor_acum = valor_acum + i\n",
        "    acum.append(valor_acum)\n",
        "    \n",
        "frec_df[\"frec_rel_%_acum\"] = acum\n",
        "frec_df"
      ],
      "metadata": {
        "colab": {
          "base_uri": "https://localhost:8080/",
          "height": 423
        },
        "id": "AO_oZ02r_G9u",
        "outputId": "d6fcf3fc-cbb3-4d39-c6ae-4dfef9e5aa2f"
      },
      "execution_count": 24,
      "outputs": [
        {
          "output_type": "execute_result",
          "data": {
            "text/plain": [
              "                    Frec_abs  frec_abs_acum  frec_rel_%  frec_rel_%_acum\n",
              "Dragon Pokémon             8              8      0.9988           0.9988\n",
              "Mouse Pokémon              6             14      0.7491           1.7479\n",
              "Mushroom Pokémon           6             20      0.7491           2.4970\n",
              "Flame Pokémon              5             25      0.6242           3.1212\n",
              "Balloon Pokémon            5             30      0.6242           3.7454\n",
              "...                      ...            ...         ...              ...\n",
              "Marionette Pokémon         1            797      0.1248          99.4824\n",
              "Puppet Pokémon             1            798      0.1248          99.6072\n",
              "Color Swap Pokémon         1            799      0.1248          99.7320\n",
              "Weather Pokémon            1            800      0.1248          99.8568\n",
              "Artificial Pokémon         1            801      0.1248          99.9816\n",
              "\n",
              "[588 rows x 4 columns]"
            ],
            "text/html": [
              "\n",
              "  <div id=\"df-7874f5d0-09c8-44a2-bd1d-466628a87ac9\">\n",
              "    <div class=\"colab-df-container\">\n",
              "      <div>\n",
              "<style scoped>\n",
              "    .dataframe tbody tr th:only-of-type {\n",
              "        vertical-align: middle;\n",
              "    }\n",
              "\n",
              "    .dataframe tbody tr th {\n",
              "        vertical-align: top;\n",
              "    }\n",
              "\n",
              "    .dataframe thead th {\n",
              "        text-align: right;\n",
              "    }\n",
              "</style>\n",
              "<table border=\"1\" class=\"dataframe\">\n",
              "  <thead>\n",
              "    <tr style=\"text-align: right;\">\n",
              "      <th></th>\n",
              "      <th>Frec_abs</th>\n",
              "      <th>frec_abs_acum</th>\n",
              "      <th>frec_rel_%</th>\n",
              "      <th>frec_rel_%_acum</th>\n",
              "    </tr>\n",
              "  </thead>\n",
              "  <tbody>\n",
              "    <tr>\n",
              "      <th>Dragon Pokémon</th>\n",
              "      <td>8</td>\n",
              "      <td>8</td>\n",
              "      <td>0.9988</td>\n",
              "      <td>0.9988</td>\n",
              "    </tr>\n",
              "    <tr>\n",
              "      <th>Mouse Pokémon</th>\n",
              "      <td>6</td>\n",
              "      <td>14</td>\n",
              "      <td>0.7491</td>\n",
              "      <td>1.7479</td>\n",
              "    </tr>\n",
              "    <tr>\n",
              "      <th>Mushroom Pokémon</th>\n",
              "      <td>6</td>\n",
              "      <td>20</td>\n",
              "      <td>0.7491</td>\n",
              "      <td>2.4970</td>\n",
              "    </tr>\n",
              "    <tr>\n",
              "      <th>Flame Pokémon</th>\n",
              "      <td>5</td>\n",
              "      <td>25</td>\n",
              "      <td>0.6242</td>\n",
              "      <td>3.1212</td>\n",
              "    </tr>\n",
              "    <tr>\n",
              "      <th>Balloon Pokémon</th>\n",
              "      <td>5</td>\n",
              "      <td>30</td>\n",
              "      <td>0.6242</td>\n",
              "      <td>3.7454</td>\n",
              "    </tr>\n",
              "    <tr>\n",
              "      <th>...</th>\n",
              "      <td>...</td>\n",
              "      <td>...</td>\n",
              "      <td>...</td>\n",
              "      <td>...</td>\n",
              "    </tr>\n",
              "    <tr>\n",
              "      <th>Marionette Pokémon</th>\n",
              "      <td>1</td>\n",
              "      <td>797</td>\n",
              "      <td>0.1248</td>\n",
              "      <td>99.4824</td>\n",
              "    </tr>\n",
              "    <tr>\n",
              "      <th>Puppet Pokémon</th>\n",
              "      <td>1</td>\n",
              "      <td>798</td>\n",
              "      <td>0.1248</td>\n",
              "      <td>99.6072</td>\n",
              "    </tr>\n",
              "    <tr>\n",
              "      <th>Color Swap Pokémon</th>\n",
              "      <td>1</td>\n",
              "      <td>799</td>\n",
              "      <td>0.1248</td>\n",
              "      <td>99.7320</td>\n",
              "    </tr>\n",
              "    <tr>\n",
              "      <th>Weather Pokémon</th>\n",
              "      <td>1</td>\n",
              "      <td>800</td>\n",
              "      <td>0.1248</td>\n",
              "      <td>99.8568</td>\n",
              "    </tr>\n",
              "    <tr>\n",
              "      <th>Artificial Pokémon</th>\n",
              "      <td>1</td>\n",
              "      <td>801</td>\n",
              "      <td>0.1248</td>\n",
              "      <td>99.9816</td>\n",
              "    </tr>\n",
              "  </tbody>\n",
              "</table>\n",
              "<p>588 rows × 4 columns</p>\n",
              "</div>\n",
              "      <button class=\"colab-df-convert\" onclick=\"convertToInteractive('df-7874f5d0-09c8-44a2-bd1d-466628a87ac9')\"\n",
              "              title=\"Convert this dataframe to an interactive table.\"\n",
              "              style=\"display:none;\">\n",
              "        \n",
              "  <svg xmlns=\"http://www.w3.org/2000/svg\" height=\"24px\"viewBox=\"0 0 24 24\"\n",
              "       width=\"24px\">\n",
              "    <path d=\"M0 0h24v24H0V0z\" fill=\"none\"/>\n",
              "    <path d=\"M18.56 5.44l.94 2.06.94-2.06 2.06-.94-2.06-.94-.94-2.06-.94 2.06-2.06.94zm-11 1L8.5 8.5l.94-2.06 2.06-.94-2.06-.94L8.5 2.5l-.94 2.06-2.06.94zm10 10l.94 2.06.94-2.06 2.06-.94-2.06-.94-.94-2.06-.94 2.06-2.06.94z\"/><path d=\"M17.41 7.96l-1.37-1.37c-.4-.4-.92-.59-1.43-.59-.52 0-1.04.2-1.43.59L10.3 9.45l-7.72 7.72c-.78.78-.78 2.05 0 2.83L4 21.41c.39.39.9.59 1.41.59.51 0 1.02-.2 1.41-.59l7.78-7.78 2.81-2.81c.8-.78.8-2.07 0-2.86zM5.41 20L4 18.59l7.72-7.72 1.47 1.35L5.41 20z\"/>\n",
              "  </svg>\n",
              "      </button>\n",
              "      \n",
              "  <style>\n",
              "    .colab-df-container {\n",
              "      display:flex;\n",
              "      flex-wrap:wrap;\n",
              "      gap: 12px;\n",
              "    }\n",
              "\n",
              "    .colab-df-convert {\n",
              "      background-color: #E8F0FE;\n",
              "      border: none;\n",
              "      border-radius: 50%;\n",
              "      cursor: pointer;\n",
              "      display: none;\n",
              "      fill: #1967D2;\n",
              "      height: 32px;\n",
              "      padding: 0 0 0 0;\n",
              "      width: 32px;\n",
              "    }\n",
              "\n",
              "    .colab-df-convert:hover {\n",
              "      background-color: #E2EBFA;\n",
              "      box-shadow: 0px 1px 2px rgba(60, 64, 67, 0.3), 0px 1px 3px 1px rgba(60, 64, 67, 0.15);\n",
              "      fill: #174EA6;\n",
              "    }\n",
              "\n",
              "    [theme=dark] .colab-df-convert {\n",
              "      background-color: #3B4455;\n",
              "      fill: #D2E3FC;\n",
              "    }\n",
              "\n",
              "    [theme=dark] .colab-df-convert:hover {\n",
              "      background-color: #434B5C;\n",
              "      box-shadow: 0px 1px 3px 1px rgba(0, 0, 0, 0.15);\n",
              "      filter: drop-shadow(0px 1px 2px rgba(0, 0, 0, 0.3));\n",
              "      fill: #FFFFFF;\n",
              "    }\n",
              "  </style>\n",
              "\n",
              "      <script>\n",
              "        const buttonEl =\n",
              "          document.querySelector('#df-7874f5d0-09c8-44a2-bd1d-466628a87ac9 button.colab-df-convert');\n",
              "        buttonEl.style.display =\n",
              "          google.colab.kernel.accessAllowed ? 'block' : 'none';\n",
              "\n",
              "        async function convertToInteractive(key) {\n",
              "          const element = document.querySelector('#df-7874f5d0-09c8-44a2-bd1d-466628a87ac9');\n",
              "          const dataTable =\n",
              "            await google.colab.kernel.invokeFunction('convertToInteractive',\n",
              "                                                     [key], {});\n",
              "          if (!dataTable) return;\n",
              "\n",
              "          const docLinkHtml = 'Like what you see? Visit the ' +\n",
              "            '<a target=\"_blank\" href=https://colab.research.google.com/notebooks/data_table.ipynb>data table notebook</a>'\n",
              "            + ' to learn more about interactive tables.';\n",
              "          element.innerHTML = '';\n",
              "          dataTable['output_type'] = 'display_data';\n",
              "          await google.colab.output.renderOutput(dataTable, element);\n",
              "          const docLink = document.createElement('div');\n",
              "          docLink.innerHTML = docLinkHtml;\n",
              "          element.appendChild(docLink);\n",
              "        }\n",
              "      </script>\n",
              "    </div>\n",
              "  </div>\n",
              "  "
            ]
          },
          "metadata": {},
          "execution_count": 24
        }
      ]
    }
  ],
  "metadata": {
    "kernelspec": {
      "display_name": "Python 3",
      "language": "python",
      "name": "python3"
    },
    "language_info": {
      "codemirror_mode": {
        "name": "ipython",
        "version": 3
      },
      "file_extension": ".py",
      "mimetype": "text/x-python",
      "name": "python",
      "nbconvert_exporter": "python",
      "pygments_lexer": "ipython3",
      "version": "3.8.5"
    },
    "varInspector": {
      "cols": {
        "lenName": 16,
        "lenType": 16,
        "lenVar": 40
      },
      "kernels_config": {
        "python": {
          "delete_cmd_postfix": "",
          "delete_cmd_prefix": "del ",
          "library": "var_list.py",
          "varRefreshCmd": "print(var_dic_list())"
        },
        "r": {
          "delete_cmd_postfix": ") ",
          "delete_cmd_prefix": "rm(",
          "library": "var_list.r",
          "varRefreshCmd": "cat(var_dic_list()) "
        }
      },
      "types_to_exclude": [
        "module",
        "function",
        "builtin_function_or_method",
        "instance",
        "_Feature"
      ],
      "window_display": false
    },
    "colab": {
      "name": "Desafío - Pokemon (Alumnos).ipynb",
      "provenance": []
    }
  },
  "nbformat": 4,
  "nbformat_minor": 0
}