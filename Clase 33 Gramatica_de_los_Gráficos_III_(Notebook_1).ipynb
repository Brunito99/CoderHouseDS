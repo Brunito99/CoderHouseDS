{
  "cells": [
    {
      "cell_type": "markdown",
      "metadata": {
        "id": "xLEat_4_wGzW"
      },
      "source": [
        "# Analisis Espacial en Python"
      ]
    },
    {
      "cell_type": "code",
      "execution_count": 1,
      "metadata": {
        "id": "BnB-U77xwGzb"
      },
      "outputs": [],
      "source": [
        "#Geolocalización\n",
        "from geopy.geocoders import Nominatim #api que me ofrece las geolocaliciones de diferentes ciudades\n",
        "import time\n",
        "import math"
      ]
    },
    {
      "cell_type": "code",
      "execution_count": 2,
      "metadata": {
        "id": "KztYm5LVwGzd"
      },
      "outputs": [],
      "source": [
        "# Creamos un Objeto Nominatim\n",
        "geo = Nominatim(user_agent=\"AppMap\")"
      ]
    },
    {
      "cell_type": "code",
      "execution_count": 3,
      "metadata": {
        "colab": {
          "base_uri": "https://localhost:8080/"
        },
        "id": "-vbuoOguwGzd",
        "outputId": "131b7ff5-d1dc-414c-b3b6-d216f4fce599"
      },
      "outputs": [
        {
          "output_type": "stream",
          "name": "stdout",
          "text": [
            "Rosario, Municipio de Rosario, Gran Rosario, Departamento Rosario, Santa Fe, S2000, Argentina\n"
          ]
        }
      ],
      "source": [
        "#Definimos el lugar que deseo en el objeto previamente creado\n",
        "loc = geo.geocode(\"Rosario\")\n",
        "print(loc.address)"
      ]
    },
    {
      "cell_type": "code",
      "execution_count": 4,
      "metadata": {
        "colab": {
          "base_uri": "https://localhost:8080/"
        },
        "id": "jOGzd_gZwGzf",
        "outputId": "0956f7f1-26df-40db-e488-a4c159006ef4"
      },
      "outputs": [
        {
          "output_type": "stream",
          "name": "stdout",
          "text": [
            "Avenida Pellegrini, La Serena, Alvear, Municipio de Alvear, Gran Rosario, Departamento Rosario, Santa Fe, 2126, Argentina\n"
          ]
        }
      ],
      "source": [
        "#Veamos otro ejemplo pero ahora con una calle!\n",
        "loc = geo.geocode(\"Avenida Pellegrini, Rosario\")\n",
        "print(loc.address)"
      ]
    },
    {
      "cell_type": "code",
      "execution_count": 5,
      "metadata": {
        "colab": {
          "base_uri": "https://localhost:8080/"
        },
        "id": "6sGJF34owGzf",
        "outputId": "2ae6b898-4922-4628-88dd-ad294540e3e5"
      },
      "outputs": [
        {
          "output_type": "stream",
          "name": "stdout",
          "text": [
            "Flatiron Building, 175, 5th Avenue, Manhattan Community Board 5, New York County, City of New York, New York, 10010, United States\n"
          ]
        }
      ],
      "source": [
        "#Incluso podemos pedir una direccion de NY\n",
        "loc = geo.geocode(\"175 5th Avenue NYC\")\n",
        "print(loc.address)"
      ]
    },
    {
      "cell_type": "code",
      "execution_count": 6,
      "metadata": {
        "colab": {
          "base_uri": "https://localhost:8080/"
        },
        "id": "pvCQMMlzwGzg",
        "outputId": "a40d5b13-b896-47e7-ea02-b42f62fe6cb2"
      },
      "outputs": [
        {
          "output_type": "stream",
          "name": "stdout",
          "text": [
            "(40.741059199999995, -73.98964162240998)\n"
          ]
        }
      ],
      "source": [
        "#Imprimimos el lugar\n",
        "print((loc.latitude, loc.longitude))"
      ]
    },
    {
      "cell_type": "code",
      "execution_count": 8,
      "metadata": {
        "colab": {
          "base_uri": "https://localhost:8080/"
        },
        "id": "Z-19Sfm8wGzg",
        "outputId": "055b76f3-1ffc-4947-e4f0-40e149fd6db0"
      },
      "outputs": [
        {
          "output_type": "stream",
          "name": "stdout",
          "text": [
            "Ingresa un lugar por favorCiudad de mexico\n",
            "(19.4326296, -99.1331785)\n"
          ]
        }
      ],
      "source": [
        "#Tambien podemos hacer mas parametrizable nuestro código de la siguiente manera:\n",
        "lugar = input(\"Ingresa un lugar por favor: \") #ejemplo: \"175 5th Avenue NYC\"\n",
        "loc = geo.geocode(lugar)\n",
        "print((loc.latitude, loc.longitude))"
      ]
    },
    {
      "cell_type": "markdown",
      "metadata": {
        "id": "WLPE7QrtwGzh"
      },
      "source": [
        "# Localizacion de Varias Ciudades"
      ]
    },
    {
      "cell_type": "code",
      "execution_count": 9,
      "metadata": {
        "colab": {
          "base_uri": "https://localhost:8080/"
        },
        "id": "7NVRs4_9wGzi",
        "outputId": "39c460a7-77c3-4f37-b43c-bc107370cbd1"
      },
      "outputs": [
        {
          "output_type": "stream",
          "name": "stdout",
          "text": [
            "Ciudad de Mexico : -102.0077097,23.6585116\n",
            "Ciudad de Madrid : -3.7035825,40.4167047\n",
            "Ciudad de Paris : 2.3200410217200766,48.8588897\n"
          ]
        }
      ],
      "source": [
        "location_lista = [\"Mexico\",\"Madrid\",\"Paris\"]\n",
        "\n",
        "#Recorremos la lista\n",
        "for i in location_lista:\n",
        "    address = geo.geocode(i, timeout=10) #obtengo la direccion\n",
        "    print (\"Ciudad de \"+ i + \" : \" + str(address.longitude) + \",\" + str(address.latitude)) #muestro la longitud y latitud\n",
        "    time.sleep(1)"
      ]
    },
    {
      "cell_type": "markdown",
      "metadata": {
        "id": "rPsWTrUdwGzj"
      },
      "source": [
        "# Calcular la distancia entre dos lugares"
      ]
    },
    {
      "cell_type": "code",
      "execution_count": 10,
      "metadata": {
        "colab": {
          "base_uri": "https://localhost:8080/"
        },
        "id": "7aMVFHGjwGzj",
        "outputId": "9478eb6c-0ca5-4878-8c5d-82e0d19c4497"
      },
      "outputs": [
        {
          "output_type": "stream",
          "name": "stdout",
          "text": [
            "144.08715363813457\n"
          ]
        }
      ],
      "source": [
        "from geopy.distance import distance\n",
        "Rosario = (-32.94682, -60.63932)\n",
        "SantaFe = (-31.64881, -60.70868)\n",
        "distancia = distance(Rosario,SantaFe).km\n",
        "print (distancia)"
      ]
    },
    {
      "cell_type": "code",
      "execution_count": null,
      "metadata": {
        "id": "noD09IpYwGzk"
      },
      "outputs": [],
      "source": [
        "# Ejercicio - Alumnos: \n",
        "\n",
        "#Calcular la distancia entre Santa Fe y Panamá y luego calcular la distancia entre Paraná y Buenos Aires"
      ]
    }
  ],
  "metadata": {
    "kernelspec": {
      "display_name": "Python 3",
      "language": "python",
      "name": "python3"
    },
    "language_info": {
      "codemirror_mode": {
        "name": "ipython",
        "version": 3
      },
      "file_extension": ".py",
      "mimetype": "text/x-python",
      "name": "python",
      "nbconvert_exporter": "python",
      "pygments_lexer": "ipython3",
      "version": "3.8.5"
    },
    "varInspector": {
      "cols": {
        "lenName": 16,
        "lenType": 16,
        "lenVar": 40
      },
      "kernels_config": {
        "python": {
          "delete_cmd_postfix": "",
          "delete_cmd_prefix": "del ",
          "library": "var_list.py",
          "varRefreshCmd": "print(var_dic_list())"
        },
        "r": {
          "delete_cmd_postfix": ") ",
          "delete_cmd_prefix": "rm(",
          "library": "var_list.r",
          "varRefreshCmd": "cat(var_dic_list()) "
        }
      },
      "types_to_exclude": [
        "module",
        "function",
        "builtin_function_or_method",
        "instance",
        "_Feature"
      ],
      "window_display": false
    },
    "colab": {
      "name": "CoderHouse (Mod 4) - Gramatica de los Gráficos III (Notebook 1).ipynb",
      "provenance": [],
      "toc_visible": true
    }
  },
  "nbformat": 4,
  "nbformat_minor": 0
}